{
 "cells": [
  {
   "cell_type": "markdown",
   "metadata": {},
   "source": [
    "Importing the libaries"
   ]
  },
  {
   "cell_type": "code",
   "execution_count": 11,
   "metadata": {},
   "outputs": [],
   "source": [
    "import pandas as pd\n",
    "import selenium\n",
    "import time\n",
    "import sys"
   ]
  },
  {
   "cell_type": "markdown",
   "metadata": {},
   "source": [
    "Here we define the URL and the driver that is being used, the next lines work as a general test and is also used to find out how many categories we have to scrape from WhoScored\n",
    "\n",
    "- It opens the window\n",
    "- First read how many first-options there are and put them into a list\n",
    "- Close the driver\n"
   ]
  },
  {
   "cell_type": "code",
   "execution_count": 2,
   "metadata": {},
   "outputs": [],
   "source": [
    "url=\"https://www.whoscored.com/Regions/247/Tournaments/36/Seasons/5967/Stages/12763/PlayerStatistics/International-FIFA-World-Cup-2018\"\n",
    "from selenium import webdriver\n",
    "from selenium.webdriver.common import action_chains, keys\n",
    "\n",
    "driver = webdriver.Chrome()\n",
    "#driver = webdriver.Firefox()\n",
    "driver.get(url)\n",
    "WMarray=[]"
   ]
  },
  {
   "cell_type": "code",
   "execution_count": 4,
   "metadata": {},
   "outputs": [],
   "source": [
    "banner = driver.find_element_by_xpath(\"//*[@class='banner_continue--2NyXA']\")\n",
    "banner.click()"
   ]
  },
  {
   "cell_type": "code",
   "execution_count": 7,
   "metadata": {},
   "outputs": [],
   "source": [
    "next_link = driver.find_element_by_xpath('//*[@id=\"detailed-statistics-tab\"]')\n",
    "next_link.click()"
   ]
  },
  {
   "cell_type": "code",
   "execution_count": 8,
   "metadata": {},
   "outputs": [],
   "source": [
    "tableheader = driver.find_element_by_xpath('//*[@id=\"statistics-table-detailed\"]')"
   ]
  },
  {
   "cell_type": "code",
   "execution_count": 9,
   "metadata": {},
   "outputs": [
    {
     "name": "stdout",
     "output_type": "stream",
     "text": [
      "assists\n",
      "key-passes\n",
      "passes\n",
      "aerial\n",
      "possession-loss\n",
      "dribbles\n",
      "goals\n",
      "shots\n",
      "saves\n",
      "blocks\n",
      "clearances\n",
      "offsides\n",
      "cards\n",
      "fouls\n",
      "interception\n",
      "tackles\n"
     ]
    }
   ],
   "source": [
    "dropdownlist=[]\n",
    "element = driver.find_element_by_xpath(\"//select[@id='category']\")\n",
    "all_options = element.find_elements_by_tag_name(\"option\")\n",
    "all_options.reverse()\n",
    "i=0\n",
    "for option in (all_options):\n",
    "    option1=option.get_attribute(\"value\")\n",
    "    print(option1)\n",
    "    a=option\n",
    "    dropdownlist.append(a)\n",
    "driver.close()"
   ]
  },
  {
   "cell_type": "markdown",
   "metadata": {},
   "source": [
    "#This is essentially the way how this scraper functions\n",
    "\n",
    "\n",
    "    - Opens the window from zero\n",
    "    - Retrieves all first options\n",
    "    - Clicks the n-th option\n",
    "    - Retrieves all possible second options\n",
    "    - Iterate through these second options\n",
    "    - Go through all pages and scrapes\n",
    "    - Write all results to a csv\n",
    "    - Finally closes the driver, if the last page is reached\n",
    "\n",
    "The reason for this open and close procedure is that the JS can break down after a multitude clicks. Hence, opening and closing sort of refreshes everything and turned out to be more stable."
   ]
  },
  {
   "cell_type": "code",
   "execution_count": 10,
   "metadata": {},
   "outputs": [
    {
     "name": "stdout",
     "output_type": "stream",
     "text": [
      "interception _ success\n"
     ]
    },
    {
     "ename": "KeyboardInterrupt",
     "evalue": "",
     "output_type": "error",
     "traceback": [
      "\u001b[0;31m---------------------------------------------------------------------------\u001b[0m",
      "\u001b[0;31mKeyboardInterrupt\u001b[0m                         Traceback (most recent call last)",
      "\u001b[0;32m<ipython-input-10-9d92ba6c0636>\u001b[0m in \u001b[0;36m<module>\u001b[0;34m()\u001b[0m\n\u001b[1;32m     35\u001b[0m \u001b[0;34m\u001b[0m\u001b[0m\n\u001b[1;32m     36\u001b[0m         \u001b[0;32mwhile\u001b[0m \u001b[0;32mTrue\u001b[0m\u001b[0;34m:\u001b[0m\u001b[0;34m\u001b[0m\u001b[0m\n\u001b[0;32m---> 37\u001b[0;31m             \u001b[0mtime\u001b[0m\u001b[0;34m.\u001b[0m\u001b[0msleep\u001b[0m\u001b[0;34m(\u001b[0m\u001b[0;36m10\u001b[0m\u001b[0;34m)\u001b[0m\u001b[0;34m\u001b[0m\u001b[0m\n\u001b[0m\u001b[1;32m     38\u001b[0m \u001b[0;34m\u001b[0m\u001b[0m\n\u001b[1;32m     39\u001b[0m \u001b[0;34m\u001b[0m\u001b[0m\n",
      "\u001b[0;31mKeyboardInterrupt\u001b[0m: "
     ]
    }
   ],
   "source": [
    "for a in range(len(dropdownlist)):\n",
    "    a=a+1\n",
    "    driver = webdriver.Chrome()\n",
    "    #driver = webdriver.Firefox()\n",
    "    driver.get(url)\n",
    "    WMarray=[]\n",
    "    time.sleep(30)\n",
    "    try:\n",
    "        banner = driver.find_element_by_xpath(\"//*[@class='banner_continue--2NyXA']\")\n",
    "        banner.click()\n",
    "    except:\n",
    "        pass\n",
    "    detailed = driver.find_element_by_xpath('//*[@id=\"detailed-statistics-tab\"]')\n",
    "    detailed.click()\n",
    "    tableheader = driver.find_element_by_xpath('//*[@id=\"statistics-table-detailed\"]')\n",
    "    element = driver.find_element_by_xpath(\"//select[@id='category']\")\n",
    "    all_options = element.find_elements_by_tag_name(\"option\")\n",
    "    \n",
    "    accumulation = driver.find_element_by_xpath('//*[@id=\"statsAccumulationType\"]')\n",
    "    accumulationoptions = accumulation.find_elements_by_tag_name(\"option\")\n",
    "    accumulationoptions[3].click()\n",
    "    option=all_options[a]\n",
    "    option1=option.get_attribute(\"value\")\n",
    "    option.click()\n",
    "    element = driver.find_element_by_xpath(\"//select[@id='subcategory']\")\n",
    "    all_options = element.find_elements_by_tag_name(\"option\")\n",
    "    all_options.reverse()\n",
    "    for option in all_options:\n",
    "        suboption=option.get_attribute(\"value\")\n",
    "        print(option1,\"_\",suboption)\n",
    "        option.click()\n",
    "        i=0\n",
    "        oldcheckcell=0\n",
    "        checkcell=1\n",
    "\n",
    "        while True:\n",
    "            time.sleep(10)\n",
    "\n",
    "\n",
    "            if oldcheckcell==checkcell:\n",
    "                break\n",
    "            rownumber=0\n",
    "            for tr in(tableheader.find_elements_by_tag_name(\"tr\")):\n",
    "                rownumber+=1\n",
    "                print(rownumber)\n",
    "                tdele=tr.find_elements_by_tag_name(\"td\")\n",
    "                varlist=[]\n",
    "                collist=[]\n",
    "                vardict={}\n",
    "                i+=1\n",
    "                default=0\n",
    "                for td in tdele:\n",
    "\n",
    "                    number=0\n",
    "                    try:\n",
    "                        varname=(td.find_elements_by_tag_name(\"a\")[0].get_attribute('class').strip())\n",
    "\n",
    "                        number=(td.find_elements_by_tag_name(\"a\")[0].get_attribute('innerHTML').strip())\n",
    "                        if rownumber==2:\n",
    "                            print(oldcheckcell)\n",
    "                            print(checkcell)\n",
    "                            oldcheckcell=checkcell\n",
    "                            checkcell=number\n",
    "\n",
    "                    except:\n",
    "                        try:\n",
    "                            varname=\"Flag\"\n",
    "                            number=(td.find_elements_by_tag_name(\"span\")[0].get_attribute('class')[-2:])\n",
    "                        except:\n",
    "                            try:\n",
    "                                varname=(td.get_attribute('class').strip())\n",
    "\n",
    "                                number=(td.get_attribute('innerHTML').strip())\n",
    "\n",
    "\n",
    "                            except:\n",
    "                                print(\"!\")\n",
    "                                varname=\"!\"\n",
    "                                number=\"!\"\n",
    "\n",
    "\n",
    "                    varlist.append(varname)\n",
    "                    number=(number.strip(\"-\"))\n",
    "                    collist=[]\n",
    "                    collist.append(number)\n",
    "                    if varname==\"\":\n",
    "                        default+=1\n",
    "                        varname=\"Default\"+str(default)\n",
    "                    else:\n",
    "                        pass\n",
    "                    vardict[varname]=collist\n",
    "                df=pd.DataFrame.from_dict(vardict)\n",
    "                if i==1:\n",
    "                    maindf=df\n",
    "                else:\n",
    "                    maindf=pd.concat([maindf,df])\n",
    "            next_link = driver.find_elements_by_xpath('//*[@id=\"next\"]')[1]  # makes sure it's selecting the correct index of 'next' items \n",
    "\n",
    "            if 'disabled' in next_link.get_attribute('class'):\n",
    "                break\n",
    "            else:\n",
    "                try:\n",
    "                    next_link.click()\n",
    "                except:\n",
    "                    time.sleep(10)\n",
    "                    try:\n",
    "                        next_link.click()\n",
    "                    except:\n",
    "                        print(\"WRONG\")\n",
    "                        break\n",
    "\n",
    "\n",
    "\n",
    "        maindf.to_csv(\"{}_{}_final.csv\".format(option1, suboption), index=False)\n",
    "    driver.close()"
   ]
  },
  {
   "cell_type": "code",
   "execution_count": null,
   "metadata": {},
   "outputs": [],
   "source": []
  }
 ],
 "metadata": {
  "kernelspec": {
   "display_name": "Python 3",
   "language": "python",
   "name": "python3"
  },
  "language_info": {
   "codemirror_mode": {
    "name": "ipython",
    "version": 3
   },
   "file_extension": ".py",
   "mimetype": "text/x-python",
   "name": "python",
   "nbconvert_exporter": "python",
   "pygments_lexer": "ipython3",
   "version": "3.6.4"
  }
 },
 "nbformat": 4,
 "nbformat_minor": 2
}
