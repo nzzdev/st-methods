{
 "cells": [
  {
   "cell_type": "code",
   "execution_count": 1,
   "metadata": {},
   "outputs": [],
   "source": [
    "import jenkspy\n",
    "import pandas as pd"
   ]
  },
  {
   "cell_type": "code",
   "execution_count": 6,
   "metadata": {},
   "outputs": [
    {
     "data": {
      "text/html": [
       "<div>\n",
       "<style scoped>\n",
       "    .dataframe tbody tr th:only-of-type {\n",
       "        vertical-align: middle;\n",
       "    }\n",
       "\n",
       "    .dataframe tbody tr th {\n",
       "        vertical-align: top;\n",
       "    }\n",
       "\n",
       "    .dataframe thead th {\n",
       "        text-align: right;\n",
       "    }\n",
       "</style>\n",
       "<table border=\"1\" class=\"dataframe\">\n",
       "  <thead>\n",
       "    <tr style=\"text-align: right;\">\n",
       "      <th></th>\n",
       "      <th>Land</th>\n",
       "      <th>2007</th>\n",
       "      <th>2008</th>\n",
       "      <th>2009</th>\n",
       "      <th>2010</th>\n",
       "      <th>2011</th>\n",
       "      <th>2012</th>\n",
       "      <th>2013</th>\n",
       "      <th>2014</th>\n",
       "      <th>2015</th>\n",
       "      <th>2016</th>\n",
       "      <th>2017</th>\n",
       "    </tr>\n",
       "  </thead>\n",
       "  <tbody>\n",
       "    <tr>\n",
       "      <th>0</th>\n",
       "      <td>UK</td>\n",
       "      <td>561</td>\n",
       "      <td>546</td>\n",
       "      <td>929</td>\n",
       "      <td>645</td>\n",
       "      <td>586</td>\n",
       "      <td>650</td>\n",
       "      <td>535</td>\n",
       "      <td>1182</td>\n",
       "      <td>960</td>\n",
       "      <td>1346</td>\n",
       "      <td>1382.0</td>\n",
       "    </tr>\n",
       "    <tr>\n",
       "      <th>1</th>\n",
       "      <td>France</td>\n",
       "      <td>473</td>\n",
       "      <td>474</td>\n",
       "      <td>832</td>\n",
       "      <td>466</td>\n",
       "      <td>389</td>\n",
       "      <td>614</td>\n",
       "      <td>423</td>\n",
       "      <td>851</td>\n",
       "      <td>808</td>\n",
       "      <td>335</td>\n",
       "      <td>NaN</td>\n",
       "    </tr>\n",
       "    <tr>\n",
       "      <th>2</th>\n",
       "      <td>Netherlands</td>\n",
       "      <td>81</td>\n",
       "      <td>108</td>\n",
       "      <td>167</td>\n",
       "      <td>124</td>\n",
       "      <td>112</td>\n",
       "      <td>96</td>\n",
       "      <td>100</td>\n",
       "      <td>171</td>\n",
       "      <td>126</td>\n",
       "      <td>109</td>\n",
       "      <td>113.0</td>\n",
       "    </tr>\n",
       "    <tr>\n",
       "      <th>3</th>\n",
       "      <td>Germany</td>\n",
       "      <td>1657</td>\n",
       "      <td>1559</td>\n",
       "      <td>1690</td>\n",
       "      <td>1268</td>\n",
       "      <td>1239</td>\n",
       "      <td>1374</td>\n",
       "      <td>1275</td>\n",
       "      <td>1596</td>\n",
       "      <td>1366</td>\n",
       "      <td>1468</td>\n",
       "      <td>1504.0</td>\n",
       "    </tr>\n",
       "    <tr>\n",
       "      <th>4</th>\n",
       "      <td>Belgium</td>\n",
       "      <td>69</td>\n",
       "      <td>73</td>\n",
       "      <td>109</td>\n",
       "      <td>52</td>\n",
       "      <td>64</td>\n",
       "      <td>80</td>\n",
       "      <td>64</td>\n",
       "      <td>109</td>\n",
       "      <td>70</td>\n",
       "      <td>64</td>\n",
       "      <td>35.0</td>\n",
       "    </tr>\n",
       "  </tbody>\n",
       "</table>\n",
       "</div>"
      ],
      "text/plain": [
       "          Land  2007  2008  2009  2010  2011  2012  2013  2014  2015  2016  \\\n",
       "0           UK   561   546   929   645   586   650   535  1182   960  1346   \n",
       "1       France   473   474   832   466   389   614   423   851   808   335   \n",
       "2  Netherlands    81   108   167   124   112    96   100   171   126   109   \n",
       "3      Germany  1657  1559  1690  1268  1239  1374  1275  1596  1366  1468   \n",
       "4      Belgium    69    73   109    52    64    80    64   109    70    64   \n",
       "\n",
       "     2017  \n",
       "0  1382.0  \n",
       "1     NaN  \n",
       "2   113.0  \n",
       "3  1504.0  \n",
       "4    35.0  "
      ]
     },
     "execution_count": 6,
     "metadata": {},
     "output_type": "execute_result"
    }
   ],
   "source": [
    "incidents=pd.read_csv(\"incidents.csv\")\n",
    "incidents=incidents\n",
    "incidents"
   ]
  },
  {
   "cell_type": "code",
   "execution_count": 7,
   "metadata": {},
   "outputs": [
    {
     "data": {
      "text/plain": [
       "[535.0, 650.0, 960.0, 1382.0]"
      ]
     },
     "execution_count": 7,
     "metadata": {},
     "output_type": "execute_result"
    }
   ],
   "source": [
    "LOST=incidents[incidents[\"Land\"]==\"UK\"].iloc[:,1:].values.tolist()\n",
    "UKbreaks = jenkspy.jenks_breaks(LOST[0], nb_class=3)\n",
    "UKbreaks"
   ]
  },
  {
   "cell_type": "code",
   "execution_count": 8,
   "metadata": {},
   "outputs": [
    {
     "data": {
      "text/plain": [
       "[335.0, 474.0, 614.0, 851.0]"
      ]
     },
     "execution_count": 8,
     "metadata": {},
     "output_type": "execute_result"
    }
   ],
   "source": [
    "LOST=incidents[incidents[\"Land\"]==\"France\"].iloc[:,1:-1].values.tolist()\n",
    "Francebreaks = jenkspy.jenks_breaks(LOST[0], nb_class=3)\n",
    "Francebreaks"
   ]
  },
  {
   "cell_type": "code",
   "execution_count": 9,
   "metadata": {},
   "outputs": [
    {
     "data": {
      "text/plain": [
       "[1239.0, 1374.0, 1559.0, 1690.0]"
      ]
     },
     "execution_count": 9,
     "metadata": {},
     "output_type": "execute_result"
    }
   ],
   "source": [
    "LOST=incidents[incidents[\"Land\"]==\"Germany\"].iloc[:,1:].values.tolist()\n",
    "Germanybreaks = jenkspy.jenks_breaks(LOST[0], nb_class=3)\n",
    "Germanybreaks"
   ]
  },
  {
   "cell_type": "code",
   "execution_count": 10,
   "metadata": {},
   "outputs": [
    {
     "data": {
      "text/plain": [
       "[35.0, 52.0, 80.0, 109.0]"
      ]
     },
     "execution_count": 10,
     "metadata": {},
     "output_type": "execute_result"
    }
   ],
   "source": [
    "LOST=incidents[incidents[\"Land\"]==\"Belgium\"].iloc[:,1:].values.tolist()\n",
    "Belgiumbreaks = jenkspy.jenks_breaks(LOST[0], nb_class=3)\n",
    "Belgiumbreaks"
   ]
  },
  {
   "cell_type": "code",
   "execution_count": 11,
   "metadata": {},
   "outputs": [
    {
     "data": {
      "text/plain": [
       "[81.0, 100.0, 126.0, 171.0]"
      ]
     },
     "execution_count": 11,
     "metadata": {},
     "output_type": "execute_result"
    }
   ],
   "source": [
    "LOST=incidents[incidents[\"Land\"]==\"Netherlands\"].iloc[:,1:].values.tolist()\n",
    "Netherlandsbreaks = jenkspy.jenks_breaks(LOST[0], nb_class=3)\n",
    "Netherlandsbreaks"
   ]
  },
  {
   "cell_type": "code",
   "execution_count": 12,
   "metadata": {},
   "outputs": [
    {
     "name": "stdout",
     "output_type": "stream",
     "text": [
      "   Belgium  France  Germany  Netherlands      UK\n",
      "0     35.0   335.0   1239.0         81.0   535.0\n",
      "1     52.0   474.0   1374.0        100.0   650.0\n",
      "2     80.0   614.0   1559.0        126.0   960.0\n",
      "3    109.0   851.0   1690.0        171.0  1382.0\n"
     ]
    }
   ],
   "source": [
    "#create new df \n",
    "df = pd.DataFrame({'UK':UKbreaks,\"France\":Francebreaks, \"Germany\": Germanybreaks,\"Belgium\":Belgiumbreaks,\"Netherlands\":Netherlandsbreaks})\n",
    "print (df)"
   ]
  },
  {
   "cell_type": "code",
   "execution_count": 13,
   "metadata": {},
   "outputs": [],
   "source": [
    "df.to_csv(\"Antisemitism_jenks2.csv\", index=False)"
   ]
  },
  {
   "cell_type": "code",
   "execution_count": null,
   "metadata": {},
   "outputs": [],
   "source": []
  }
 ],
 "metadata": {
  "kernelspec": {
   "display_name": "Python 3",
   "language": "python",
   "name": "python3"
  },
  "language_info": {
   "codemirror_mode": {
    "name": "ipython",
    "version": 3
   },
   "file_extension": ".py",
   "mimetype": "text/x-python",
   "name": "python",
   "nbconvert_exporter": "python",
   "pygments_lexer": "ipython3",
   "version": "3.6.5"
  }
 },
 "nbformat": 4,
 "nbformat_minor": 2
}
