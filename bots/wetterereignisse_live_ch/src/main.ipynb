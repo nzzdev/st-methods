{
 "cells": [
  {
   "cell_type": "markdown",
   "id": "3d6329b3-1e99-4c6b-b5e7-a747674e6c50",
   "metadata": {},
   "source": [
    "# Temperatur"
   ]
  },
  {
   "cell_type": "code",
   "execution_count": 25,
   "id": "b296b8a1-398f-4d85-8da8-2930138ed675",
   "metadata": {},
   "outputs": [],
   "source": [
    "import pandas as pd\n",
    "import requests\n",
    "from datetime import timezone, datetime, timedelta\n",
    "from fake_useragent import UserAgent\n",
    "from datetime import datetime\n",
    "import sys\n",
    "import os"
   ]
  },
  {
   "cell_type": "code",
   "execution_count": 40,
   "id": "43f9e506-44f4-4d9c-9eff-54ae48d8e911",
   "metadata": {},
   "outputs": [],
   "source": [
    "ua = UserAgent()\n",
    "\n",
    "\n",
    "headers = {\n",
    "    'user-agent': ua['google chrome'],\n",
    "    'cache-control': 'no-cache',\n",
    "    'referer': 'https://www.meteoschweiz.admin.ch/home/messwerte.html?param=messwerte-lufttemperatur-10min&station=SMA&chart=hour'\n",
    "}\n",
    "\n",
    "r = requests.get('https://www.meteoschweiz.admin.ch/product/input/measured-values/chartData/temperature_hour/chartData.temperature_hour.SMA.de.json', headers = headers)\n",
    "\n",
    "data = r.json()"
   ]
  },
  {
   "cell_type": "code",
   "execution_count": 69,
   "id": "e0224e6a",
   "metadata": {},
   "outputs": [],
   "source": [
    "seriesfilter = 'temperature_hour.SMA.de.series.1'\n",
    "\n",
    "def serialize(seriesfilter, name):\n",
    "\n",
    "    series = list(filter(lambda x: x['id'] == seriesfilter, data['series']))[0]['data']\n",
    "\n",
    "    df = pd.DataFrame(series)\n",
    "    df.columns = ['date', 'temp']\n",
    "    df['date'] = df['date'].apply(lambda x: datetime.fromtimestamp(x / 1000))\n",
    "    df['type'] = name\n",
    "\n",
    "    return df\n",
    "\n",
    "df = pd.concat([\n",
    "    serialize('temperature_hour.SMA.de.series.2', 'Stundenminimum'),\n",
    "    serialize('temperature_hour.SMA.de.series.1', 'Stundenmittel'),\n",
    "    serialize('temperature_hour.SMA.de.series.3', 'Stundenmaximum'),\n",
    "])\n",
    "\n",
    "df = pd.pivot_table(df, index='date', columns='type', values='temp')\n"
   ]
  },
  {
   "cell_type": "code",
   "execution_count": null,
   "id": "dba765db-9444-4863-9a24-35bd7aabaaa8",
   "metadata": {},
   "outputs": [],
   "source": []
  }
 ],
 "metadata": {
  "kernelspec": {
   "display_name": "Python 3.9.13 ('env': venv)",
   "language": "python",
   "name": "python3"
  },
  "language_info": {
   "codemirror_mode": {
    "name": "ipython",
    "version": 3
   },
   "file_extension": ".py",
   "mimetype": "text/x-python",
   "name": "python",
   "nbconvert_exporter": "python",
   "pygments_lexer": "ipython3",
   "version": "3.9.13"
  },
  "vscode": {
   "interpreter": {
    "hash": "d7c9f77447bfceb4453de18de716a2e4cc962bd23f4a56b82142377a988091d9"
   }
  }
 },
 "nbformat": 4,
 "nbformat_minor": 5
}
