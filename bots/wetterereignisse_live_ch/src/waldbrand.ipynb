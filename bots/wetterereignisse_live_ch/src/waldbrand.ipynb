{
 "cells": [
  {
   "cell_type": "code",
   "execution_count": 1,
   "metadata": {},
   "outputs": [],
   "source": [
    "import pandas as pd\n",
    "import requests\n",
    "from bs4 import BeautifulSoup\n",
    "import json\n",
    "import pyproj\n",
    "import numbers\n",
    "from pathlib import Path\n",
    "from helpers import *"
   ]
  },
  {
   "cell_type": "code",
   "execution_count": 2,
   "metadata": {},
   "outputs": [],
   "source": [
    "soup = BeautifulSoup(requests.get('https://www.waldbrandgefahr.ch/de/aktuelle-gefahrenlage').text, 'html.parser')"
   ]
  },
  {
   "cell_type": "code",
   "execution_count": 3,
   "metadata": {},
   "outputs": [],
   "source": [
    "def project_coords(coords, from_proj, to_proj):\n",
    "    if len(coords) < 1:\n",
    "        return []\n",
    "\n",
    "    if isinstance(coords[0], numbers.Number):\n",
    "        from_x, from_y = coords\n",
    "        to_x, to_y = pyproj.transform(from_proj, to_proj, from_x, from_y)\n",
    "        return [to_x, to_y]\n",
    "\n",
    "    new_coords = []\n",
    "    for coord in coords:\n",
    "        new_coords.append(project_coords(coord, from_proj, to_proj))\n",
    "    return new_coords\n",
    "\n",
    "\n",
    "def project_feature(feature, from_proj, to_proj):\n",
    "    if not 'geometry' in feature or not 'coordinates' in feature['geometry']:\n",
    "        print('Failed project feature', feature)\n",
    "        return None\n",
    "\n",
    "    new_coordinates = project_coords(feature['geometry']['coordinates'], from_proj, to_proj)\n",
    "    feature['geometry']['coordinates'] = new_coordinates\n",
    "    return feature\n"
   ]
  },
  {
   "cell_type": "code",
   "execution_count": 4,
   "metadata": {},
   "outputs": [
    {
     "name": "stdout",
     "output_type": "stream",
     "text": [
      "The Zen of Python, by Tim Peters\n",
      "\n",
      "Beautiful is better than ugly.\n",
      "Explicit is better than implicit.\n",
      "Simple is better than complex.\n",
      "Complex is better than complicated.\n",
      "Flat is better than nested.\n",
      "Sparse is better than dense.\n",
      "Readability counts.\n",
      "Special cases aren't special enough to break the rules.\n",
      "Although practicality beats purity.\n",
      "Errors should never pass silently.\n",
      "Unless explicitly silenced.\n",
      "In the face of ambiguity, refuse the temptation to guess.\n",
      "There should be one-- and preferably only one --obvious way to do it.\n",
      "Although that way may not be obvious at first unless you're Dutch.\n",
      "Now is better than never.\n",
      "Although never is often better than *right* now.\n",
      "If the implementation is hard to explain, it's a bad idea.\n",
      "If the implementation is easy to explain, it may be a good idea.\n",
      "Namespaces are one honking great idea -- let's do more of those!\n"
     ]
    },
    {
     "name": "stderr",
     "output_type": "stream",
     "text": [
      "/Users/simon/Documents/projects/st-methods/bots/wetterereignisse_live_ch/env/lib/python3.9/site-packages/pyproj/crs/crs.py:130: FutureWarning: '+init=<authority>:<code>' syntax is deprecated. '<authority>:<code>' is the preferred initialization method. When making the change, be mindful of axis order changes: https://pyproj4.github.io/pyproj/stable/gotchas.html#axis-order-changes-in-proj-6\n",
      "  in_crs_string = _prepare_from_proj_string(in_crs_string)\n",
      "/Users/simon/Documents/projects/st-methods/bots/wetterereignisse_live_ch/env/lib/python3.9/site-packages/pyproj/crs/crs.py:130: FutureWarning: '+init=<authority>:<code>' syntax is deprecated. '<authority>:<code>' is the preferred initialization method. When making the change, be mindful of axis order changes: https://pyproj4.github.io/pyproj/stable/gotchas.html#axis-order-changes-in-proj-6\n",
      "  in_crs_string = _prepare_from_proj_string(in_crs_string)\n",
      "/var/folders/xv/8dpn0yrd2_sdyj5_kf48mxbh0000gn/T/ipykernel_40874/356897867.py:7: DeprecationWarning: This function is deprecated. See: https://pyproj4.github.io/pyproj/stable/gotchas.html#upgrading-to-pyproj-2-from-pyproj-1\n",
      "  to_x, to_y = pyproj.transform(from_proj, to_proj, from_x, from_y)\n"
     ]
    }
   ],
   "source": [
    "from this import d\n",
    "\n",
    "div = soup.select_one('#fire_map_detail')\n",
    "url = json.loads(div.attrs['data-react-props'])['geojson']\n",
    "url = 'https://www.waldbrandgefahr.ch' + url\n",
    "\n",
    "r = requests.get(url)\n",
    "geojson = r.json()\n",
    "#geojson = {\"features\": []}\n",
    "\n",
    "# Sort\n",
    "geojson['features'] = sorted(geojson['features'], key=lambda x: x['properties']['level'])\n",
    "\n",
    "colors = {\n",
    "    1: '#cfdd9d',\n",
    "    2: '#e0d4b1',\n",
    "    3: '#d47340',\n",
    "    4: '#ce4731',\n",
    "    5: '#93144b'\n",
    "}\n",
    "\n",
    "legende = {\n",
    "    1: 'Keine oder geringe Gefahr',\n",
    "    2: 'Mässige Gefahr',\n",
    "    3: 'Erhebliche Gefahr',\n",
    "    4: 'Grosse Gefahr',\n",
    "    5: 'Sehr grosse Gefahr'\n",
    "}\n",
    "\n",
    "for feature in geojson['features']:\n",
    "    del feature['bbox']\n",
    "    del feature['id']\n",
    "    feature['properties'] = {\n",
    "        'fill': colors[feature['properties']['level']],\n",
    "        'label': legende[feature['properties']['level']],\n",
    "        'fill-opacity': 0.8,\n",
    "        'stroke-opacity': 0\n",
    "    }\n",
    "\n",
    "mercator = pyproj.Proj(init='epsg:4326')\n",
    "swissgrid = pyproj.Proj(init='epsg:2056')\n",
    "\n",
    "projected_features = []\n",
    "for feature in geojson['features']:\n",
    "    projected_features.append(project_feature(feature, swissgrid, mercator))\n",
    "geojson['features'] = projected_features\n",
    "\n",
    "\n",
    "#json.dump(geojson, open('test.geojson', 'w'))"
   ]
  },
  {
   "cell_type": "code",
   "execution_count": 18,
   "metadata": {},
   "outputs": [
    {
     "name": "stdout",
     "output_type": "stream",
     "text": [
      "Successfully updated item with id d0be298e35165ab925d72923355c5379 on production environment\n"
     ]
    }
   ],
   "source": [
    "labels = [\n",
    "    {\n",
    "        \"coordinates\": [8.540448763866461, 47.377069663836046],\n",
    "        \"type\": \"point\",\n",
    "        \"label\": \"Zürich\",\n",
    "        \"labelPosition\": \"left\"\n",
    "    },\n",
    "    {\n",
    "        \"coordinates\": [7.448853873224696, 46.95054213418904],\n",
    "        \"type\": \"point\",\n",
    "        \"label\": \"Bern\",\n",
    "        \"labelPosition\": \"left\"\n",
    "    },\n",
    "    {\n",
    "        \"coordinates\": [6.138221654376033, 46.2064440296011],\n",
    "        \"type\": \"point\",\n",
    "        \"label\": \"Genf\",\n",
    "        \"labelPosition\": \"right\"\n",
    "    },\n",
    "    {\n",
    "        \"coordinates\": [8.950669089563268, 46.01118348612857],\n",
    "        \"type\": \"point\",\n",
    "        \"label\": \"Lugano\",\n",
    "        \"labelPosition\": \"left\"\n",
    "    },\n",
    "    {\n",
    "        \"coordinates\": [9.53560206455592, 46.8509515603594],\n",
    "        \"type\": \"point\",\n",
    "        \"label\": \"Chur\",\n",
    "        \"labelPosition\": \"right\"\n",
    "    },\n",
    "    {\n",
    "        \"coordinates\": [9.375378684759603, 47.42547357986716],\n",
    "        \"type\": \"point\",\n",
    "        \"label\": \"St. Gallen\",\n",
    "        \"labelPosition\": \"right\"\n",
    "    },\n",
    "    {\n",
    "        \"coordinates\": [7.595953393405145, 47.561448902150964],\n",
    "        \"type\": \"point\",\n",
    "        \"label\": \"Basel\",\n",
    "        \"labelPosition\": \"left\"\n",
    "    },\n",
    "    {\n",
    "        \"coordinates\": [7.364787560405546, 46.23149747652774],\n",
    "        \"type\": \"point\",\n",
    "        \"label\": \"Sitten\",\n",
    "        \"labelPosition\": \"right\"\n",
    "    },\n",
    "    {\n",
    "        \"coordinates\": [8.308714014295267, 47.05150580099424],\n",
    "        \"type\": \"point\",\n",
    "        \"label\": \"Luzern\",\n",
    "        \"labelPosition\": \"bottom\"\n",
    "    },\n",
    "]\n",
    "# Städte umwandeln\n",
    "city_features = list(map(lambda x: {\n",
    "            \"type\": \"Feature\",\n",
    "            \"geometry\": {\n",
    "                \"type\": \"Point\",\n",
    "                \"coordinates\": x['coordinates']\n",
    "            },\n",
    "            \"properties\": {\n",
    "                \"type\": x[\"type\"],\n",
    "                \"label\": x[\"label\"],\n",
    "                \"labelPosition\": x[\"labelPosition\"],\n",
    "            }\n",
    "          }, labels))\n",
    "\n",
    "# Open\n",
    "background = json.load(open(Path('../data/background_ch.geojson'), 'r'))\n",
    "\n",
    "features = [\n",
    "    geojson,\n",
    "    background,\n",
    "] + city_features\n",
    "\n",
    "update_chart(\n",
    "    id = 'd0be298e35165ab925d72923355c5379',\n",
    "    geojsonList = features,\n",
    ")"
   ]
  },
  {
   "cell_type": "code",
   "execution_count": 12,
   "metadata": {},
   "outputs": [],
   "source": [
    "test = pd.DataFrame()"
   ]
  },
  {
   "cell_type": "code",
   "execution_count": 15,
   "metadata": {},
   "outputs": [
    {
     "data": {
      "text/plain": [
       "False"
      ]
     },
     "execution_count": 15,
     "metadata": {},
     "output_type": "execute_result"
    }
   ],
   "source": [
    "test is None"
   ]
  },
  {
   "cell_type": "code",
   "execution_count": null,
   "metadata": {},
   "outputs": [],
   "source": []
  }
 ],
 "metadata": {
  "kernelspec": {
   "display_name": "Python 3.9.13 ('env': venv)",
   "language": "python",
   "name": "python3"
  },
  "language_info": {
   "codemirror_mode": {
    "name": "ipython",
    "version": 3
   },
   "file_extension": ".py",
   "mimetype": "text/x-python",
   "name": "python",
   "nbconvert_exporter": "python",
   "pygments_lexer": "ipython3",
   "version": "3.9.13"
  },
  "orig_nbformat": 4,
  "vscode": {
   "interpreter": {
    "hash": "f7a15568a1ccd9e495d1538246b4870470459be79ac126a5e2e871762944a0a4"
   }
  }
 },
 "nbformat": 4,
 "nbformat_minor": 2
}
