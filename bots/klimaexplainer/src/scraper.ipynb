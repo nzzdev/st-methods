{
 "cells": [
  {
   "cell_type": "markdown",
   "source": [
    "# Load Klimadaten"
   ],
   "metadata": {}
  },
  {
   "cell_type": "code",
   "execution_count": 1,
   "source": [
    "import pandas as pd\n",
    "import requests\n",
    "from bs4 import BeautifulSoup\n",
    "import json\n",
    "from pathlib import Path"
   ],
   "outputs": [],
   "metadata": {}
  },
  {
   "cell_type": "code",
   "execution_count": 3,
   "source": [
    "url = 'https://climateactiontracker.org/countries/'\n",
    "website = requests.get(url)\n",
    "soup = BeautifulSoup(website.content, 'html.parser')"
   ],
   "outputs": [],
   "metadata": {}
  },
  {
   "cell_type": "code",
   "execution_count": 4,
   "source": [
    "div = soup.find('div', {\"data-component-map\": True})\n",
    "\n",
    "# Export from Drom\n",
    "df_mapdata = pd.DataFrame(json.loads(div.attrs['data-props-mapdata']))\n",
    "df_ratingsdata = pd.DataFrame(json.loads(div.attrs['data-props-ratingsdata']))\n",
    "\n",
    "# Rename\n",
    "df_ratingsdata.rename(columns={'name': 'rating_name', 'description': 'rating_description'}, inplace=True)\n",
    "\n",
    "# Merge\n",
    "df = df_mapdata.merge(df_ratingsdata, left_on = 'rating', right_on = 'weight', how='left')\n",
    "\n",
    "# Save as CSV\n",
    "df.to_csv(Path('../export/data.csv'), index=False)"
   ],
   "outputs": [],
   "metadata": {}
  },
  {
   "cell_type": "markdown",
   "source": [
    "## Export as GeoJSON"
   ],
   "metadata": {}
  },
  {
   "cell_type": "code",
   "execution_count": 21,
   "source": [
    "# Read Geojson\n",
    "with open(Path('../data/world.geojson'), 'r') as f:\n",
    "    geo = json.loads(f.read())\n",
    "\n",
    "for feature in geo['features']:\n",
    "    df_c = df[df.country_code == feature['properties']['iso_a3']]\n",
    "    if len(df_c) > 0:\n",
    "        if df_c.iloc[0]['weight'] == 0:\n",
    "            c = '#c3c2ca'\n",
    "            l = \"Kein Rating\"\n",
    "        elif df_c.iloc[0]['weight'] == 1:\n",
    "            c = '#d64b47'\n",
    "            l = \"Kritisch ungenügend\"\n",
    "        elif df_c.iloc[0]['weight'] == 2:\n",
    "            c = '#d96f4e'\n",
    "            l = \"Höchst ungenügend\"\n",
    "        elif df_c.iloc[0]['weight'] == 3:\n",
    "            c = '#da8d5f'\n",
    "            l = \"Ungenügend\"\n",
    "        elif df_c.iloc[0]['weight'] == 4:\n",
    "            c = '#ddc197'\n",
    "            l = \"2-Grad-Ziel wird erreicht\"\n",
    "        elif df_c.iloc[0]['weight'] == 5:\n",
    "            c = '#919cf2'\n",
    "            l = \"1,5-Grad-Ziel wird erreicht\"\n",
    "        else:\n",
    "            c = '#d4d6dd'\n",
    "    else:\n",
    "        c = '#d4d6dd'\n",
    "        l = \"Keine Daten\"\n",
    "\n",
    "    feature['properties']['fill'] = c\n",
    "    feature['properties']['fill-opacity'] = 1\n",
    "    feature['properties']['stroke'] = '#ffffff'\n",
    "    feature['properties']['stroke-width'] = 2\n",
    "    feature['properties']['stroke-opacity'] = 1\n",
    "    feature['properties']['label'] = l\n",
    "\n",
    "\n",
    "with (open(Path('../export/export.geojson'), 'w')) as f:\n",
    "    f.write(json.dumps(geo))"
   ],
   "outputs": [],
   "metadata": {}
  },
  {
   "cell_type": "code",
   "execution_count": null,
   "source": [],
   "outputs": [],
   "metadata": {}
  }
 ],
 "metadata": {
  "orig_nbformat": 4,
  "language_info": {
   "name": "python",
   "version": "3.9.6",
   "mimetype": "text/x-python",
   "codemirror_mode": {
    "name": "ipython",
    "version": 3
   },
   "pygments_lexer": "ipython3",
   "nbconvert_exporter": "python",
   "file_extension": ".py"
  },
  "kernelspec": {
   "name": "python3",
   "display_name": "Python 3.9.6 64-bit ('env': venv)"
  },
  "interpreter": {
   "hash": "168a6a2dbfcbd31838bc6d873af2b81d3daaf6143aaaf32ddce2b26b55d19295"
  }
 },
 "nbformat": 4,
 "nbformat_minor": 2
}