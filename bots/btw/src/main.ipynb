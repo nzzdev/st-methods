{
 "cells": [
  {
   "cell_type": "markdown",
   "source": [
    "# BTW"
   ],
   "metadata": {}
  },
  {
   "cell_type": "code",
   "execution_count": 150,
   "source": [
    "import pandas as pd\n",
    "import requests\n",
    "import xml.etree.ElementTree as ET\n",
    "from pathlib import Path\n",
    "import helpers\n",
    "import datetime, pytz"
   ],
   "outputs": [],
   "metadata": {}
  },
  {
   "cell_type": "code",
   "execution_count": 155,
   "source": [
    "# Consts\n",
    "url = 'https://www.bundeswahlleiter.de/bundestagswahlen/2021/ergebnisse/opendata/daten/gewaehlte_01.xml'\n",
    "wahlkreise = Path('../data/wahlkreise.csv')"
   ],
   "outputs": [],
   "metadata": {}
  },
  {
   "cell_type": "code",
   "execution_count": 156,
   "source": [
    "# Load data\n",
    "d = requests.get(url)\n",
    "root = ET.fromstring(d.content)\n",
    "\n",
    "# Load Wahlkreise\n",
    "df_wahlkreise = pd.read_csv(wahlkreise, sep=';')"
   ],
   "outputs": [],
   "metadata": {}
  },
  {
   "cell_type": "code",
   "execution_count": 157,
   "source": [
    "def translate_party(name):\n",
    "    if name.lower() == 'Christlich Demokratische Union Deutschlands'.lower():\n",
    "        return 'CDU'\n",
    "    elif name.lower() == 'Sozialdemokratische Partei Deutschlands'.lower():\n",
    "        return 'SPD'\n",
    "    elif name.lower() == 'DIE LINKE'.lower():\n",
    "        return 'Linke'\n",
    "    elif name.lower() == 'BÜNDNIS 90/DIE GRÜNEN'.lower():\n",
    "        return 'Grüne'\n",
    "    elif name.lower() == 'Alternative für Deutschland'.lower():\n",
    "        return 'AfD'\n",
    "    elif name.lower() == 'Christlich-Soziale Union in Bayern e.V.'.lower():\n",
    "        return 'CSU'\n",
    "    else:\n",
    "        print(\"Partei nicht erkannt: %s\" % name)\n",
    "        return name\n",
    "\n",
    "for k in root.findall('Kandidat'):\n",
    "    direkt = k.find('Wahldaten/Direkt')\n",
    "    if direkt != None:\n",
    "        # Wurde gewählt\n",
    "\n",
    "        #prozent = round(float(k.find('Wahldaten').attrib.get('Prozent')), 2)\n",
    "        gebiet = direkt.attrib.get('Gebietsnummer')\n",
    "        gruppe = direkt.attrib.get('Gruppenname')\n",
    "        person = k.find('Personendaten')\n",
    "\n",
    "        # Concat Name because NameTitelVorname1 and NameTitelVorname2 are not congruent\n",
    "        name = (\n",
    "            person.attrib.get('Vorname') +\n",
    "            (' ' + person.attrib.get('Namensbestandteile') if 'Namensbestandteile' in person.attrib else '') +\n",
    "            ' ' + person.attrib.get('Name')\n",
    "        )\n",
    "\n",
    "        # Update dataframe\n",
    "        df_wahlkreise.loc[df_wahlkreise['#'] == int(gebiet), 'Gewählt'] = name\n",
    "        df_wahlkreise.loc[df_wahlkreise['#'] == int(gebiet), 'Partei'] = translate_party(gruppe)\n"
   ],
   "outputs": [],
   "metadata": {}
  },
  {
   "cell_type": "code",
   "execution_count": 158,
   "source": [
    "# Set Index (Q needs it)\n",
    "df_wahlkreise = df_wahlkreise.fillna(\"\")\n",
    "df_wahlkreise['#'] = df_wahlkreise['#'].astype(str)\n",
    "df_wahlkreise.set_index('#', inplace=True)"
   ],
   "outputs": [],
   "metadata": {}
  },
  {
   "cell_type": "code",
   "execution_count": 160,
   "source": [
    "# Update chart\n",
    "berlin = pytz.timezone('Europe/Berlin')\n",
    "now = datetime.datetime.now().astimezone(berlin).strftime('%d. %-m., %H.%M Uhr')\n",
    "helpers.update_chart('7e4ecfe5b05ba3a28acf390677a5e57f',\n",
    "    data = df_wahlkreise,\n",
    "    notes = \"Stand: vorläufiges Endergebnis. Zuletzt aktualisiert: %s\" % now)"
   ],
   "outputs": [
    {
     "output_type": "stream",
     "name": "stdout",
     "text": [
      "Successfully updated item with id 7e4ecfe5b05ba3a28acf390677a5e57f on production environment\n"
     ]
    }
   ],
   "metadata": {}
  },
  {
   "cell_type": "code",
   "execution_count": null,
   "source": [],
   "outputs": [],
   "metadata": {}
  }
 ],
 "metadata": {
  "kernelspec": {
   "name": "python3",
   "display_name": "Python 3.9.6 64-bit ('env': venv)"
  },
  "language_info": {
   "codemirror_mode": {
    "name": "ipython",
    "version": 3
   },
   "file_extension": ".py",
   "mimetype": "text/x-python",
   "name": "python",
   "nbconvert_exporter": "python",
   "pygments_lexer": "ipython3",
   "version": "3.9.6"
  },
  "interpreter": {
   "hash": "aa3e5e0a70ec43220fa13523715ae438ce2b3192fc3f1a17d5a764ea15dcd3b0"
  }
 },
 "nbformat": 4,
 "nbformat_minor": 5
}