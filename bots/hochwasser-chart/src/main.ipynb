{
 "cells": [
  {
   "cell_type": "markdown",
   "id": "3d6329b3-1e99-4c6b-b5e7-a747674e6c50",
   "metadata": {},
   "source": [
    "# Pegelstände"
   ]
  },
  {
   "cell_type": "code",
   "execution_count": 156,
   "id": "b296b8a1-398f-4d85-8da8-2930138ed675",
   "metadata": {},
   "outputs": [
    {
     "ename": "NameError",
     "evalue": "name '__file__' is not defined",
     "output_type": "error",
     "traceback": [
      "\u001b[0;31m---------------------------------------------------------------------------\u001b[0m",
      "\u001b[0;31mNameError\u001b[0m                                 Traceback (most recent call last)",
      "\u001b[0;32m<ipython-input-156-e38a7876c7ac>\u001b[0m in \u001b[0;36m<module>\u001b[0;34m\u001b[0m\n\u001b[1;32m      8\u001b[0m \u001b[0;32mimport\u001b[0m \u001b[0mos\u001b[0m\u001b[0;34m\u001b[0m\u001b[0;34m\u001b[0m\u001b[0m\n\u001b[1;32m      9\u001b[0m \u001b[0;32mimport\u001b[0m \u001b[0msys\u001b[0m\u001b[0;34m\u001b[0m\u001b[0;34m\u001b[0m\u001b[0m\n\u001b[0;32m---> 10\u001b[0;31m \u001b[0msys\u001b[0m\u001b[0;34m.\u001b[0m\u001b[0mpath\u001b[0m\u001b[0;34m.\u001b[0m\u001b[0mappend\u001b[0m\u001b[0;34m(\u001b[0m\u001b[0mos\u001b[0m\u001b[0;34m.\u001b[0m\u001b[0mpath\u001b[0m\u001b[0;34m.\u001b[0m\u001b[0mdirname\u001b[0m\u001b[0;34m(\u001b[0m\u001b[0;34m(\u001b[0m\u001b[0mos\u001b[0m\u001b[0;34m.\u001b[0m\u001b[0mpath\u001b[0m\u001b[0;34m.\u001b[0m\u001b[0mdirname\u001b[0m\u001b[0;34m(\u001b[0m\u001b[0m__file__\u001b[0m\u001b[0;34m)\u001b[0m\u001b[0;34m)\u001b[0m\u001b[0;34m)\u001b[0m\u001b[0;34m)\u001b[0m\u001b[0;34m\u001b[0m\u001b[0;34m\u001b[0m\u001b[0m\n\u001b[0m\u001b[1;32m     11\u001b[0m \u001b[0;32mfrom\u001b[0m \u001b[0mhelpers\u001b[0m \u001b[0;32mimport\u001b[0m \u001b[0;34m*\u001b[0m\u001b[0;34m\u001b[0m\u001b[0;34m\u001b[0m\u001b[0m\n",
      "\u001b[0;31mNameError\u001b[0m: name '__file__' is not defined"
     ]
    }
   ],
   "source": [
    "import pandas as pd\n",
    "import requests\n",
    "from datetime import timezone, datetime, timedelta\n",
    "\n",
    "import sys\n",
    "from io import StringIO\n",
    "\n",
    "import os\n",
    "import sys\n",
    "sys.path.append(os.path.dirname((os.path.dirname(__file__))))\n",
    "from helpers import *"
   ]
  },
  {
   "cell_type": "code",
   "execution_count": 152,
   "id": "b01b9129-f939-4e8b-bb83-0f491a3cdebe",
   "metadata": {},
   "outputs": [],
   "source": [
    "def get_data(url):\n",
    "    r = requests.get(url)\n",
    "    df = pd.read_csv(StringIO(r.text), sep=\",\")\n",
    "\n",
    "    # Convert Time\n",
    "    df['Time'] = pd.to_datetime(df['Time'])\n",
    "\n",
    "    # From 7.7\n",
    "    df = df[df.Time >= '2021-07-07 00:00']\n",
    "    \n",
    "    return df"
   ]
  },
  {
   "cell_type": "code",
   "execution_count": null,
   "id": "43f9e506-44f4-4d9c-9eff-54ae48d8e911",
   "metadata": {},
   "outputs": [],
   "source": []
  },
  {
   "cell_type": "markdown",
   "id": "2c6bd9bd-f402-4e11-b446-65770a6bf1b4",
   "metadata": {},
   "source": [
    "## Zürichsee\n",
    "https://q.st.nzz.ch/item/6b50824faafb1db49507dbc8cc452e5c"
   ]
  },
  {
   "cell_type": "code",
   "execution_count": 153,
   "id": "d49a2f89-9e16-451e-842e-073847500397",
   "metadata": {},
   "outputs": [],
   "source": [
    "# Get Data\n",
    "url = 'https://www.hydrodaten.admin.ch/lhg/az/dwh/csv/BAFU_2209_PegelRadarSchacht.csv'\n",
    "df = get_data(url)\n",
    "\n",
    "# Zeitzone umwandeln\n",
    "df['Zeitstempel'] = df['Time'].apply(lambda x: x.astimezone('Europe/Berlin').strftime('%Y-%m-%d %H:%M'))\n",
    "\n",
    "# Gefahrenzone hinzufügen\n",
    "df['2'] = 406.25\n",
    "df['3'] = 406.4\n",
    "df['4'] = 406.6\n",
    "df['5'] = 406.85\n",
    "\n",
    "# Rename\n",
    "df = df.rename(columns = {'BAFU_2209_PegelRadarSchacht': 'Messwert, Gefahrenstufe:'})\n",
    "\n",
    "df[['Zeitstempel', 'Messwert, Gefahrenstufe:', '2', '3', '4', '5']].to_clipboard(index=False)"
   ]
  },
  {
   "cell_type": "markdown",
   "id": "4dd25995-c46c-489f-9602-2ea689440b93",
   "metadata": {},
   "source": [
    "## Limmat\n",
    "https://q.st.nzz.ch/editor/chart/6b50824faafb1db49507dbc8cc476129"
   ]
  },
  {
   "cell_type": "code",
   "execution_count": 142,
   "id": "ff0684b2-d86d-4b72-b76e-8e39df2b6c9a",
   "metadata": {},
   "outputs": [],
   "source": [
    "# Get Data\n",
    "url = 'https://www.hydrodaten.admin.ch/lhg/az/dwh/csv/BAFU_2099_AbflussRadarSchacht.csv'\n",
    "df = get_data(url)\n",
    "\n",
    "# Zeitzone umwandeln\n",
    "df['Zeitstempel'] = df['Time'].apply(lambda x: x.astimezone('Europe/Berlin').strftime('%Y-%m-%d %H:%M'))\n",
    "\n",
    "# Gefahrenzone hinzufügen\n",
    "df['2'] = 350\n",
    "df['3'] = 450\n",
    "df['4'] = 530\n",
    "df['5'] = 600\n",
    "\n",
    "# Rename\n",
    "df = df.rename(columns = {'BAFU_2099_AbflussRadarSchacht': 'Messwert, Gefahrenstufe:'})\n",
    "\n",
    "df[['Zeitstempel', 'Messwert, Gefahrenstufe:', '2', '3', '4', '5']].to_clipboard(index=False)"
   ]
  },
  {
   "cell_type": "markdown",
   "id": "75f46b8f-757f-4eb7-8075-8c41915699a2",
   "metadata": {},
   "source": [
    "## Sihl\n",
    "https://q.st.nzz.ch/item/6b50824faafb1db49507dbc8cc481e93"
   ]
  },
  {
   "cell_type": "code",
   "execution_count": 143,
   "id": "fcbc5be8-8710-438b-8a41-42309664f777",
   "metadata": {},
   "outputs": [],
   "source": [
    "# Get Data\n",
    "url = 'https://www.hydrodaten.admin.ch/lhg/az/dwh/csv/BAFU_2176_AbflussRadarSchacht.csv'\n",
    "df = get_data(url)\n",
    "\n",
    "# Zeitzone umwandeln\n",
    "df['Zeitstempel'] = df['Time'].apply(lambda x: x.astimezone('Europe/Berlin').strftime('%Y-%m-%d %H:%M'))\n",
    "\n",
    "# Gefahrenzone hinzufügen\n",
    "df['2'] = 100\n",
    "df['3'] = 200\n",
    "df['4'] = 300\n",
    "df['5'] = 400\n",
    "\n",
    "# Rename\n",
    "df = df.rename(columns = {'BAFU_2176_AbflussRadarSchacht': 'Messwert, Gefahrenstufe:'})\n",
    "\n",
    "df[['Zeitstempel', 'Messwert, Gefahrenstufe:', '2', '3', '4', '5']].to_clipboard(index=False)\n"
   ]
  },
  {
   "cell_type": "markdown",
   "id": "cfafb41f-517d-4187-81e6-ed58a8870e6f",
   "metadata": {},
   "source": [
    "## Badewannen"
   ]
  },
  {
   "cell_type": "code",
   "execution_count": 114,
   "id": "6c990998-a088-4bbb-b1f6-b0567290ba6d",
   "metadata": {},
   "outputs": [],
   "source": [
    "badewanne = 0.18\n",
    "\n",
    "sihl_m2_gester = 12\n",
    "sihl_m2_heute = 29\n",
    "\n",
    "limmat_m2_gestern = 276\n",
    "limmat_m2_heute = 297"
   ]
  },
  {
   "cell_type": "code",
   "execution_count": 115,
   "id": "7bd1f8a8-0055-4f7a-b775-080e5d5b33f0",
   "metadata": {},
   "outputs": [
    {
     "name": "stdout",
     "output_type": "stream",
     "text": [
      "Sihl gestern 12 Uhr: 67 Badewannen/s\n",
      "Sihl heute 12 Uhr: 161 Badewannen/s\n",
      "Limmat gestern 12 Uhr: 1533 Badewannen/s\n",
      "Limmat heute 12 Uhr: 1650 Badewannen/s\n"
     ]
    }
   ],
   "source": [
    "print(\"Sihl gestern 12 Uhr: %s Badewannen/s\" % round(sihl_m2_gester / badewanne))\n",
    "print(\"Sihl heute 12 Uhr: %s Badewannen/s\" % round(sihl_m2_heute / badewanne))\n",
    "\n",
    "print(\"Limmat gestern 12 Uhr: %s Badewannen/s\" % round(limmat_m2_gestern / badewanne))\n",
    "print(\"Limmat heute 12 Uhr: %s Badewannen/s\" % round(limmat_m2_heute / badewanne))"
   ]
  },
  {
   "cell_type": "code",
   "execution_count": 133,
   "id": "257b06e9-0af6-4599-a2d1-8cdfc2247ee1",
   "metadata": {},
   "outputs": [],
   "source": [
    "# Differenz Gestern 12 Uhr bis heute 12 Uhr\n",
    "anstieg = round(df.iloc[-1]['Messwert, Gefahrenstufe:'] - df[df.Time >= '2021-07-12 11:00'].iloc[0]['Messwert, Gefahrenstufe:'], 2)"
   ]
  },
  {
   "cell_type": "code",
   "execution_count": 144,
   "id": "5ba2051a-54d0-4b53-bdad-ec4998f02ce0",
   "metadata": {
    "tags": []
   },
   "outputs": [
    {
     "data": {
      "text/plain": [
       "24627778"
      ]
     },
     "execution_count": 144,
     "metadata": {},
     "output_type": "execute_result"
    }
   ],
   "source": [
    "anstieg = 0.05\n",
    "lake = 88.66 * 1000 * 1000\n",
    "kubik = lake * anstieg\n",
    "badewanne = 0.18\n",
    "\n",
    "round(kubik / badewanne)"
   ]
  },
  {
   "cell_type": "code",
   "execution_count": 125,
   "id": "f3db48b7-9eb9-456d-8cad-f8b989941171",
   "metadata": {
    "tags": []
   },
   "outputs": [
    {
     "data": {
      "text/plain": [
       "1773.2"
      ]
     },
     "execution_count": 125,
     "metadata": {},
     "output_type": "execute_result"
    }
   ],
   "source": [
    "pool = 50 * 25 * 2\n",
    "\n",
    "(lake * anstieg) / pool"
   ]
  },
  {
   "cell_type": "code",
   "execution_count": 123,
   "id": "16ffa16d-c44a-4cc5-a652-1bca1a91a575",
   "metadata": {},
   "outputs": [
    {
     "data": {
      "text/plain": [
       "2500"
      ]
     },
     "execution_count": 123,
     "metadata": {},
     "output_type": "execute_result"
    }
   ],
   "source": [
    "pool"
   ]
  },
  {
   "cell_type": "code",
   "execution_count": 150,
   "id": "bbd51312-446b-4818-9f26-107e0cdb8c95",
   "metadata": {},
   "outputs": [
    {
     "data": {
      "text/plain": [
       "5.277380952380953"
      ]
     },
     "execution_count": 150,
     "metadata": {},
     "output_type": "execute_result"
    }
   ],
   "source": [
    "katzensee = 0.84 * 1000 * 1000#kubikmeter\n",
    "katzensee = 840000\n",
    "kubik / katzensee"
   ]
  },
  {
   "cell_type": "code",
   "execution_count": 158,
   "id": "2775eb01-f469-4c93-8621-f18e8e7479ca",
   "metadata": {},
   "outputs": [
    {
     "data": {
      "text/plain": [
       "4433000.0"
      ]
     },
     "execution_count": 158,
     "metadata": {},
     "output_type": "execute_result"
    }
   ],
   "source": [
    "((88.66 * 1000 * 1000) * 0.05) / "
   ]
  },
  {
   "cell_type": "code",
   "execution_count": 161,
   "id": "12d25667-98f2-4c9e-9923-f5d088c4da87",
   "metadata": {},
   "outputs": [
    {
     "data": {
      "text/plain": [
       "2500"
      ]
     },
     "execution_count": 161,
     "metadata": {},
     "output_type": "execute_result"
    }
   ],
   "source": [
    "50 * 25 * 2"
   ]
  },
  {
   "cell_type": "code",
   "execution_count": null,
   "id": "dba765db-9444-4863-9a24-35bd7aabaaa8",
   "metadata": {},
   "outputs": [],
   "source": []
  }
 ],
 "metadata": {
  "kernelspec": {
   "display_name": "Python 3",
   "language": "python",
   "name": "python3"
  },
  "language_info": {
   "codemirror_mode": {
    "name": "ipython",
    "version": 3
   },
   "file_extension": ".py",
   "mimetype": "text/x-python",
   "name": "python",
   "nbconvert_exporter": "python",
   "pygments_lexer": "ipython3",
   "version": "3.9.6"
  }
 },
 "nbformat": 4,
 "nbformat_minor": 5
}
