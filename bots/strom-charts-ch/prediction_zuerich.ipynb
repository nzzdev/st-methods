{
 "cells": [
  {
   "cell_type": "code",
   "execution_count": 6,
   "metadata": {},
   "outputs": [
    {
     "data": {
      "text/plain": [
       "'\\n  Achtung: Dieses Script nicht in der gleichen Action wie die anderen Stromcharts laufen lassen. Zwei Gründe:\\n  * Braucht zwingend Python 3.8\\n  * Überschreibt q.config.json\\n\\n  Q-Charts:\\n  * Alle: https://q.st.nzz.ch/editor/chart/85c9e635bfeae3a127d9c9db9059cc83\\n  * Privathaushalte: \\n'"
      ]
     },
     "execution_count": 6,
     "metadata": {},
     "output_type": "execute_result"
    }
   ],
   "source": [
    "\"\"\"\n",
    "  Achtung: Dieses Script nicht in der gleichen Action wie die anderen Stromcharts laufen lassen. Zwei Gründe:\n",
    "  * Braucht zwingend Python 3.8\n",
    "  * Überschreibt q.config.json\n",
    "\n",
    "  Q-Charts:\n",
    "  * Alle: https://q.st.nzz.ch/editor/chart/85c9e635bfeae3a127d9c9db9059cc83\n",
    "  * Privathaushalte: \n",
    "\"\"\""
   ]
  },
  {
   "cell_type": "code",
   "execution_count": 9,
   "metadata": {},
   "outputs": [],
   "source": [
    "import math\n",
    "import pandas as pd\n",
    "from pathlib import Path\n",
    "from prophet.serialize import model_from_json\n",
    "import requests\n",
    "import datetime\n",
    "import json"
   ]
  },
  {
   "cell_type": "code",
   "execution_count": 15,
   "metadata": {},
   "outputs": [],
   "source": [
    "# Get Daily weather data\n",
    "headers = {\n",
    "    'accept': 'application/json, text/javascript, */*; q=0.01',\n",
    "    'user-agent': 'Mozilla/5.0 (Macintosh; Intel Mac OS X 10_15_7) AppleWebKit/537.36 (KHTML, like Gecko) Chrome/107.0.0.0 Safari/537.36',\n",
    "    'sec-fetch-site': 'same-origin',\n",
    "    'referer': 'https://www.meteoschweiz.admin.ch/home/messwerte.html?param=messwerte-lufttemperatur-10min&station=REH&chart=day'\n",
    "}\n",
    "data = requests.get('https://www.meteoschweiz.admin.ch/product/output/measured-values/chartData/temperature_day/chartData.temperature_day.REH.de.json', headers=headers)\n",
    "data = data.json()\n",
    "\n",
    "# Filter by Serie\n",
    "data = list(filter(lambda x: x['id'] == 'temperature_day.REH.de.series.1', data['series']))"
   ]
  },
  {
   "cell_type": "code",
   "execution_count": 17,
   "metadata": {},
   "outputs": [],
   "source": [
    "if len(data) != 1:\n",
    "    raise Exception(\"Nach 'temperature_day.REH.de.series.1' (Tagesmittel) gesucht. Nichts (oder zu viel) gefunden :(\")\n",
    "\n",
    "df_temperature = pd.DataFrame(data[0]['data'], columns=['date', 'temperature'])\n",
    "\n",
    "# Typecast\n",
    "df_temperature['date'] = pd.to_datetime(df_temperature['date'], unit='ms')#.dt.date\n",
    "\n",
    "# Set Index\n",
    "df_temperature = df_temperature.set_index('date')\n",
    "\n",
    "# For 2023: Add 2022 data\n",
    "if df_temperature.index.min() > datetime.datetime(2022, 1, 1):\n",
    "    df_old = pd.read_csv(Path('./data/REH.csv'))\n",
    "    df_old['date'] = pd.to_datetime(df_old['date'])#.dt.date\n",
    "    df_old = df_old[df_old.date < df_temperature.index.min()]\n",
    "    df_old.set_index('date', inplace=True)\n",
    "    df_temperature = pd.concat([df_old, df_temperature])\n",
    "    df_temperature = df_temperature.sort_values('date')\n"
   ]
  },
  {
   "cell_type": "code",
   "execution_count": 19,
   "metadata": {},
   "outputs": [],
   "source": [
    "# Load Consumption\n",
    "df_consumption = pd.read_csv('https://data.stadt-zuerich.ch/dataset/ewz_stromabgabe_netzebenen_stadt_zuerich/download/ewz_stromabgabe_netzebenen_stadt_zuerich.csv')\n",
    "\n",
    "# Typecast\n",
    "df_consumption['date'] = pd.to_datetime(df_consumption['Timestamp'], errors='raise', utc=True)\n",
    "df_consumption['date'] = df_consumption['date'].dt.tz_convert('Europe/Berlin')\n",
    "\n",
    "# Cleanup\n",
    "df_consumption.rename(columns={'Value_NE5': 'consumption_ne5', 'Value_NE7': 'consumption_ne7'}, inplace=True)\n",
    "\n",
    "# Group\n",
    "df_consumption = df_consumption.groupby(df_consumption.date.dt.date).sum(numeric_only=True)\n",
    "\n",
    "df_consumption.index = pd.to_datetime(df_consumption.index)\n",
    "\n",
    "# Sum\n",
    "df_consumption['consumption_total'] = df_consumption['consumption_ne5'] + df_consumption['consumption_ne7']"
   ]
  },
  {
   "cell_type": "code",
   "execution_count": 6,
   "metadata": {},
   "outputs": [],
   "source": [
    "# Join\n",
    "df_data = df_consumption.join(df_temperature, \"date\").reset_index(drop=False)\n",
    "\n",
    "# Calc Cos Sin\n",
    "df_data['CosYearTemp'] = df_data.apply(lambda row: row['temperature'] * math.cos(row['date'].dayofyear * 2 * math.pi / 365), axis=1)\n",
    "df_data['SinYearTemp'] = df_data.apply(lambda row: row['temperature'] * math.sin(row['date'].dayofyear * 2 * math.pi / 365), axis=1)\n",
    "\n",
    "# Rolling\n",
    "df_data = df_data.rolling(window=7, on='date').mean().dropna()[:-7]\n",
    "\n",
    "# Only 2022\n",
    "df_data = df_data[df_data.date >= datetime.datetime(2022, 1, 1)]"
   ]
  },
  {
   "cell_type": "code",
   "execution_count": 7,
   "metadata": {},
   "outputs": [],
   "source": [
    "# Build nice Dataframe\n",
    "def build_result_df(df, forecastTrain):\n",
    "  df = pd.DataFrame(\n",
    "    {\n",
    "      \"\": forecastTrain[\"yhat_upper\"].array,\n",
    "      \"Erwarteter Stromverbrauch\": forecastTrain[\"yhat_lower\"].array,\n",
    "      \"Effektiver Stromverbrauch\": df[\"y\"].array,\n",
    "    },\n",
    "    index=df[\"ds\"]\n",
    "  )\n",
    "\n",
    "  # Round to GWh\n",
    "  df = df.div(1000000).round(2)\n",
    "\n",
    "  return df\n",
    "\n",
    "def predict(modelpath, df_data, column):\n",
    "    # Load model\n",
    "    with open(modelpath, 'r') as fin:\n",
    "        m = model_from_json(fin.read())\n",
    "\n",
    "    df = df_data.copy()\n",
    "    df.rename(columns={'date': 'ds', column: 'y'}, inplace=True)\n",
    "    df['ds'] = df['ds'].dt.date\n",
    "\n",
    "    # Predict\n",
    "    forecastTrain = m.predict(df)     \n",
    "\n",
    "    return build_result_df(df, forecastTrain)     "
   ]
  },
  {
   "cell_type": "code",
   "execution_count": 8,
   "metadata": {},
   "outputs": [],
   "source": [
    "# Für alle berechnen\n",
    "df_predict_all = predict(Path('./zh-models/totalconsumption_rolling7day.json'), df_data, 'consumption_total')"
   ]
  },
  {
   "cell_type": "code",
   "execution_count": 9,
   "metadata": {},
   "outputs": [],
   "source": [
    "# Create q.config.json.\n",
    "\n",
    "transform_df = lambda df: df.applymap(str).reset_index(drop=False).T.reset_index(drop=False).T.apply(list, axis=1).to_list()\n",
    "notes = \"Methode: Dieses Modell berechnet den zu erwartenden Stromverbrauch anhand des Wetters. Dazu wurde ein Algorithmus mit Stromdaten aus den Vorjahren (ab 2010) und den entsprechenden Tagestemperaturen trainiert. Die Berechnung erfolgte mit der Programmbibliothek «Prophet» von Facebook. Entwickelt wurde das Modell von EWZ.<br />Zuletzt aktualisiert: %s Uhr\" % datetime.datetime.now().strftime(\"%-d. %-m. %Y, %H.%M\")\n",
    "\n",
    "config = {\n",
    "    \"items\": [{\n",
    "         \"environments\": [\n",
    "            {\n",
    "                \"name\": \"production\",\n",
    "                \"id\": \"85c9e635bfeae3a127d9c9db9059cc83\"\n",
    "            }\n",
    "        ],\n",
    "        \"item\": {\n",
    "            \"notes\": notes,\n",
    "            \"data\": transform_df(df_predict_all)\n",
    "        }\n",
    "    }]\n",
    "}\n",
    "\n",
    "# Store\n",
    "json.dump(config, open(Path('./q.config.json'), 'w'), ensure_ascii=False, indent=1, default=str)"
   ]
  },
  {
   "cell_type": "code",
   "execution_count": null,
   "metadata": {},
   "outputs": [],
   "source": []
  }
 ],
 "metadata": {
  "kernelspec": {
   "display_name": "env",
   "language": "python",
   "name": "python3"
  },
  "language_info": {
   "codemirror_mode": {
    "name": "ipython",
    "version": 3
   },
   "file_extension": ".py",
   "mimetype": "text/x-python",
   "name": "python",
   "nbconvert_exporter": "python",
   "pygments_lexer": "ipython3",
   "version": "3.9.15"
  },
  "orig_nbformat": 4,
  "vscode": {
   "interpreter": {
    "hash": "272a56f1937c021e0a77b8ea59e8a72ed8a4bd94aef73b26c0d472a670881b51"
   }
  }
 },
 "nbformat": 4,
 "nbformat_minor": 2
}
