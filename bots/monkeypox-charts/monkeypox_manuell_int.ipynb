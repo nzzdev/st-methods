{
 "cells": [
  {
   "cell_type": "markdown",
   "id": "20258016",
   "metadata": {},
   "source": [
    "# Monkeypox\n",
    "\n",
    "Das Skript bereitet Daten für den Artikel zu Affenpocken vor. Gegenwärtig noch nicht automatisiert. <br>\n",
    "LD-Artikel: https://edit.nzz.ch/p/nzz/articles/1685302/edit/canvas\n",
    "\n",
    "Quelle Github: https://github.com/globaldothealth/monkeypox\n"
   ]
  },
  {
   "cell_type": "code",
   "execution_count": 1,
   "id": "2872a975",
   "metadata": {},
   "outputs": [],
   "source": [
    "import pandas as pd\n",
    "import webbrowser\n",
    "import pycountry\n",
    "import gettext\n",
    "from datetime import datetime\n",
    "import os"
   ]
  },
  {
   "cell_type": "code",
   "execution_count": 2,
   "id": "8e3980eb",
   "metadata": {},
   "outputs": [],
   "source": [
    "german = gettext.translation('iso3166', pycountry.LOCALES_DIR, languages=['de'])\n",
    "german.install()"
   ]
  },
  {
   "cell_type": "code",
   "execution_count": 3,
   "id": "96fe19f8",
   "metadata": {},
   "outputs": [
    {
     "data": {
      "text/plain": [
       "'22.3.5'"
      ]
     },
     "execution_count": 3,
     "metadata": {},
     "output_type": "execute_result"
    }
   ],
   "source": [
    "# Pycountry shoud be on latest version, i.e. '22.3.5'. Else, flags might not work.\n",
    "pycountry.__version__"
   ]
  },
  {
   "cell_type": "markdown",
   "id": "4b25887c",
   "metadata": {},
   "source": [
    "## DF einlesen"
   ]
  },
  {
   "cell_type": "code",
   "execution_count": 17,
   "id": "5cee3403",
   "metadata": {},
   "outputs": [],
   "source": [
    "# read google sheet\n",
    "sheet_id = '1CEBhao3rMe-qtCbAgJTn5ZKQMRFWeAeaiXFpBY3gbHE'\n",
    "url = f\"https://docs.google.com/spreadsheets/d/{sheet_id}/gviz/tq?tqx=out:csv\"\n",
    "df_roh = pd.read_csv(url)"
   ]
  },
  {
   "cell_type": "code",
   "execution_count": 21,
   "id": "a6655c0d",
   "metadata": {},
   "outputs": [],
   "source": [
    "# Pivot wider\n",
    "df = df_roh.groupby(['Country','Status'])['ID'].count().unstack().reset_index()\n",
    "df= df.rename(columns={'confirmed':'Bestätigt', 'suspected':'Verdacht'})\n",
    "\n",
    "# add totals column\n",
    "df['Total']=df.iloc[:,1:].sum(axis=True)\n",
    "df=df.sort_values('Total', ascending=False)\n",
    "\n",
    "# format integers\n",
    "df = df.fillna(0)\n",
    "df.iloc[:,1:] = df.iloc[:,1:].astype(int)\n",
    "\n",
    "# replace Country names our worldmap ids\n",
    "df['Country'] = df['Country'].str.replace('England', 'United Kingdom')"
   ]
  },
  {
   "cell_type": "markdown",
   "id": "913324dc",
   "metadata": {},
   "source": [
    "### Deutsche Ländernamen, Flaggen"
   ]
  },
  {
   "cell_type": "code",
   "execution_count": 29,
   "id": "6159102c",
   "metadata": {},
   "outputs": [],
   "source": [
    "def get_german_name(name):\n",
    "    country = pycountry.countries.get(name=name)\n",
    "    return _(country.name)\n",
    "\n",
    "def get_flag(name):\n",
    "    country = pycountry.countries.get(name=name)\n",
    "    return country.flag\n"
   ]
  },
  {
   "cell_type": "code",
   "execution_count": 30,
   "id": "3f6b6b28",
   "metadata": {},
   "outputs": [],
   "source": [
    "df['Land'] = df['Country'].apply(get_german_name)\n",
    "df['Flagge'] =  df['Country'].apply(get_flag)\n",
    "\n",
    "df = df[['Country', 'Land', 'Flagge','Bestätigt', 'Verdacht', 'Total']]"
   ]
  },
  {
   "cell_type": "code",
   "execution_count": null,
   "id": "df757136",
   "metadata": {},
   "outputs": [],
   "source": [
    "# In casse Country-Matching needs debugging\n",
    "#for name in df['Country'].to_list():\n",
    "#    country = pycountry.countries.get(name=name)\n",
    "#    print(country)\n",
    "#    print(country.flag)"
   ]
  },
  {
   "cell_type": "code",
   "execution_count": 31,
   "id": "0c5f2034",
   "metadata": {},
   "outputs": [
    {
     "data": {
      "text/html": [
       "<div>\n",
       "<style scoped>\n",
       "    .dataframe tbody tr th:only-of-type {\n",
       "        vertical-align: middle;\n",
       "    }\n",
       "\n",
       "    .dataframe tbody tr th {\n",
       "        vertical-align: top;\n",
       "    }\n",
       "\n",
       "    .dataframe thead th {\n",
       "        text-align: right;\n",
       "    }\n",
       "</style>\n",
       "<table border=\"1\" class=\"dataframe\">\n",
       "  <thead>\n",
       "    <tr style=\"text-align: right;\">\n",
       "      <th>Status</th>\n",
       "      <th>Country</th>\n",
       "      <th>Land</th>\n",
       "      <th>Flagge</th>\n",
       "      <th>Bestätigt</th>\n",
       "      <th>Verdacht</th>\n",
       "      <th>Total</th>\n",
       "    </tr>\n",
       "  </thead>\n",
       "  <tbody>\n",
       "    <tr>\n",
       "      <th>14</th>\n",
       "      <td>Spain</td>\n",
       "      <td>Spanien</td>\n",
       "      <td>🇪🇸</td>\n",
       "      <td>41</td>\n",
       "      <td>59</td>\n",
       "      <td>100</td>\n",
       "    </tr>\n",
       "    <tr>\n",
       "      <th>13</th>\n",
       "      <td>Portugal</td>\n",
       "      <td>Portugal</td>\n",
       "      <td>🇵🇹</td>\n",
       "      <td>37</td>\n",
       "      <td>0</td>\n",
       "      <td>37</td>\n",
       "    </tr>\n",
       "    <tr>\n",
       "      <th>4</th>\n",
       "      <td>Canada</td>\n",
       "      <td>Kanada</td>\n",
       "      <td>🇨🇦</td>\n",
       "      <td>5</td>\n",
       "      <td>18</td>\n",
       "      <td>23</td>\n",
       "    </tr>\n",
       "    <tr>\n",
       "      <th>6</th>\n",
       "      <td>United Kingdom</td>\n",
       "      <td>Vereinigtes Königreich</td>\n",
       "      <td>🇬🇧</td>\n",
       "      <td>20</td>\n",
       "      <td>0</td>\n",
       "      <td>20</td>\n",
       "    </tr>\n",
       "    <tr>\n",
       "      <th>3</th>\n",
       "      <td>Belgium</td>\n",
       "      <td>Belgien</td>\n",
       "      <td>🇧🇪</td>\n",
       "      <td>3</td>\n",
       "      <td>1</td>\n",
       "      <td>4</td>\n",
       "    </tr>\n",
       "    <tr>\n",
       "      <th>11</th>\n",
       "      <td>Italy</td>\n",
       "      <td>Italien</td>\n",
       "      <td>🇮🇹</td>\n",
       "      <td>4</td>\n",
       "      <td>0</td>\n",
       "      <td>4</td>\n",
       "    </tr>\n",
       "    <tr>\n",
       "      <th>17</th>\n",
       "      <td>United States</td>\n",
       "      <td>Vereinigte Staaten</td>\n",
       "      <td>🇺🇸</td>\n",
       "      <td>2</td>\n",
       "      <td>1</td>\n",
       "      <td>3</td>\n",
       "    </tr>\n",
       "    <tr>\n",
       "      <th>8</th>\n",
       "      <td>Germany</td>\n",
       "      <td>Deutschland</td>\n",
       "      <td>🇩🇪</td>\n",
       "      <td>3</td>\n",
       "      <td>0</td>\n",
       "      <td>3</td>\n",
       "    </tr>\n",
       "    <tr>\n",
       "      <th>1</th>\n",
       "      <td>Australia</td>\n",
       "      <td>Australien</td>\n",
       "      <td>🇦🇺</td>\n",
       "      <td>2</td>\n",
       "      <td>0</td>\n",
       "      <td>2</td>\n",
       "    </tr>\n",
       "    <tr>\n",
       "      <th>10</th>\n",
       "      <td>Israel</td>\n",
       "      <td>Israel</td>\n",
       "      <td>🇮🇱</td>\n",
       "      <td>1</td>\n",
       "      <td>0</td>\n",
       "      <td>2</td>\n",
       "    </tr>\n",
       "    <tr>\n",
       "      <th>12</th>\n",
       "      <td>Netherlands</td>\n",
       "      <td>Niederlande</td>\n",
       "      <td>🇳🇱</td>\n",
       "      <td>2</td>\n",
       "      <td>0</td>\n",
       "      <td>2</td>\n",
       "    </tr>\n",
       "    <tr>\n",
       "      <th>16</th>\n",
       "      <td>Switzerland</td>\n",
       "      <td>Schweiz</td>\n",
       "      <td>🇨🇭</td>\n",
       "      <td>1</td>\n",
       "      <td>0</td>\n",
       "      <td>1</td>\n",
       "    </tr>\n",
       "    <tr>\n",
       "      <th>15</th>\n",
       "      <td>Sweden</td>\n",
       "      <td>Schweden</td>\n",
       "      <td>🇸🇪</td>\n",
       "      <td>1</td>\n",
       "      <td>0</td>\n",
       "      <td>1</td>\n",
       "    </tr>\n",
       "    <tr>\n",
       "      <th>0</th>\n",
       "      <td>Argentina</td>\n",
       "      <td>Argentinien</td>\n",
       "      <td>🇦🇷</td>\n",
       "      <td>0</td>\n",
       "      <td>1</td>\n",
       "      <td>1</td>\n",
       "    </tr>\n",
       "    <tr>\n",
       "      <th>7</th>\n",
       "      <td>France</td>\n",
       "      <td>Frankreich</td>\n",
       "      <td>🇫🇷</td>\n",
       "      <td>1</td>\n",
       "      <td>0</td>\n",
       "      <td>1</td>\n",
       "    </tr>\n",
       "    <tr>\n",
       "      <th>5</th>\n",
       "      <td>Denmark</td>\n",
       "      <td>Dänemark</td>\n",
       "      <td>🇩🇰</td>\n",
       "      <td>1</td>\n",
       "      <td>0</td>\n",
       "      <td>1</td>\n",
       "    </tr>\n",
       "    <tr>\n",
       "      <th>2</th>\n",
       "      <td>Austria</td>\n",
       "      <td>Österreich</td>\n",
       "      <td>🇦🇹</td>\n",
       "      <td>0</td>\n",
       "      <td>1</td>\n",
       "      <td>1</td>\n",
       "    </tr>\n",
       "    <tr>\n",
       "      <th>9</th>\n",
       "      <td>Greece</td>\n",
       "      <td>Griechenland</td>\n",
       "      <td>🇬🇷</td>\n",
       "      <td>0</td>\n",
       "      <td>1</td>\n",
       "      <td>1</td>\n",
       "    </tr>\n",
       "  </tbody>\n",
       "</table>\n",
       "</div>"
      ],
      "text/plain": [
       "Status         Country                    Land Flagge  Bestätigt  Verdacht  \\\n",
       "14               Spain                 Spanien     🇪🇸         41        59   \n",
       "13            Portugal                Portugal     🇵🇹         37         0   \n",
       "4               Canada                  Kanada     🇨🇦          5        18   \n",
       "6       United Kingdom  Vereinigtes Königreich     🇬🇧         20         0   \n",
       "3              Belgium                 Belgien     🇧🇪          3         1   \n",
       "11               Italy                 Italien     🇮🇹          4         0   \n",
       "17       United States      Vereinigte Staaten     🇺🇸          2         1   \n",
       "8              Germany             Deutschland     🇩🇪          3         0   \n",
       "1            Australia              Australien     🇦🇺          2         0   \n",
       "10              Israel                  Israel     🇮🇱          1         0   \n",
       "12         Netherlands             Niederlande     🇳🇱          2         0   \n",
       "16         Switzerland                 Schweiz     🇨🇭          1         0   \n",
       "15              Sweden                Schweden     🇸🇪          1         0   \n",
       "0            Argentina             Argentinien     🇦🇷          0         1   \n",
       "7               France              Frankreich     🇫🇷          1         0   \n",
       "5              Denmark                Dänemark     🇩🇰          1         0   \n",
       "2              Austria              Österreich     🇦🇹          0         1   \n",
       "9               Greece            Griechenland     🇬🇷          0         1   \n",
       "\n",
       "Status  Total  \n",
       "14        100  \n",
       "13         37  \n",
       "4          23  \n",
       "6          20  \n",
       "3           4  \n",
       "11          4  \n",
       "17          3  \n",
       "8           3  \n",
       "1           2  \n",
       "10          2  \n",
       "12          2  \n",
       "16          1  \n",
       "15          1  \n",
       "0           1  \n",
       "7           1  \n",
       "5           1  \n",
       "2           1  \n",
       "9           1  "
      ]
     },
     "execution_count": 31,
     "metadata": {},
     "output_type": "execute_result"
    }
   ],
   "source": [
    "df"
   ]
  },
  {
   "cell_type": "markdown",
   "id": "18f7abd5",
   "metadata": {},
   "source": [
    "## Vergleichen, Version abspeichern"
   ]
  },
  {
   "cell_type": "code",
   "execution_count": 32,
   "id": "8ff124b3",
   "metadata": {},
   "outputs": [],
   "source": [
    "past_csvs= os.listdir('data')"
   ]
  },
  {
   "cell_type": "code",
   "execution_count": 35,
   "id": "a2e969b3",
   "metadata": {},
   "outputs": [
    {
     "data": {
      "text/plain": [
       "['.DS_Store', '20220523-15h37.csv', '20220523-15h43.csv', '20220523-16h21.csv']"
      ]
     },
     "execution_count": 35,
     "metadata": {},
     "output_type": "execute_result"
    }
   ],
   "source": [
    "past_csvs.sort()\n",
    "past_csvs"
   ]
  },
  {
   "cell_type": "code",
   "execution_count": 36,
   "id": "cdf0b606",
   "metadata": {},
   "outputs": [],
   "source": [
    "df_last_version = pd.read_csv('data/'+past_csvs[-1])"
   ]
  },
  {
   "cell_type": "code",
   "execution_count": 37,
   "id": "7b88e240",
   "metadata": {},
   "outputs": [
    {
     "name": "stdout",
     "output_type": "stream",
     "text": [
      "old == new: False\n",
      "new total: 207\n",
      "old total: 206\n"
     ]
    }
   ],
   "source": [
    "print('old == new:', str(df['Total'].sum() == df_last_version['Total'].sum()))\n",
    "print('new total:', str(df['Total'].sum()))\n",
    "print('old total:', str(df_last_version['Total'].sum()))"
   ]
  },
  {
   "cell_type": "code",
   "execution_count": 38,
   "id": "097a486b",
   "metadata": {},
   "outputs": [],
   "source": [
    "# save most recent data\n",
    "now = datetime.now()\n",
    "time_now = now.strftime(\"%Y%m%d-%Hh%M\")\n",
    "\n",
    "df.to_csv('data/'+ time_now+'.csv', index=False)"
   ]
  },
  {
   "cell_type": "code",
   "execution_count": null,
   "id": "1be4cf36",
   "metadata": {},
   "outputs": [],
   "source": []
  },
  {
   "cell_type": "code",
   "execution_count": null,
   "id": "d5489878",
   "metadata": {},
   "outputs": [],
   "source": []
  },
  {
   "cell_type": "markdown",
   "id": "da1f3112",
   "metadata": {},
   "source": [
    "## Export für Weltkarte"
   ]
  },
  {
   "cell_type": "code",
   "execution_count": 39,
   "id": "a9e1846c",
   "metadata": {},
   "outputs": [],
   "source": [
    "ids = pd.read_csv('country_ids.csv')\n",
    "\n",
    "df_worldmap =df.copy()\n",
    "df_worldmap['Country'] = df_worldmap['Country'].str.replace('United States','United States of America')\n",
    "\n",
    "df_worldmap = df_worldmap.rename(columns ={'Country':'ID', 'Total':'Wert'})\n",
    "\n",
    "# merge df with ids\n",
    "df_worldmap = ids.merge(df_worldmap[['ID', 'Wert']], how='left').sort_values('Wert', ascending=False)"
   ]
  },
  {
   "cell_type": "code",
   "execution_count": 44,
   "id": "6324bddb",
   "metadata": {},
   "outputs": [
    {
     "name": "stdout",
     "output_type": "stream",
     "text": [
      "Sum Worldmap: 207.0\n",
      "Corresponds with sum df: True\n"
     ]
    }
   ],
   "source": [
    "# Check if all countries were recognised - is True if ok\n",
    "print('Sum Worldmap:', str(df_worldmap['Wert'].sum()))\n",
    "print('Corresponds with sum df:', str(df_worldmap['Wert'].sum() == df['Total'].sum()))"
   ]
  },
  {
   "cell_type": "code",
   "execution_count": 45,
   "id": "15132fc4",
   "metadata": {},
   "outputs": [
    {
     "data": {
      "text/plain": [
       "True"
      ]
     },
     "execution_count": 45,
     "metadata": {},
     "output_type": "execute_result"
    }
   ],
   "source": [
    "# copy to q-element\n",
    "df_worldmap=df_worldmap.sort_values('ID', key=lambda col: col.str.lower())\n",
    "\n",
    "df_worldmap.to_clipboard(index=False)\n",
    "webbrowser.open('https://q.st.nzz.ch/editor/choropleth/4acf1a0fd4dd89aef4abaeefd0b6f4dc', new=2)"
   ]
  },
  {
   "cell_type": "code",
   "execution_count": null,
   "id": "7201c20b",
   "metadata": {},
   "outputs": [],
   "source": []
  },
  {
   "cell_type": "markdown",
   "id": "d98d285f",
   "metadata": {},
   "source": [
    "## Export für Tabelle\n",
    "\n",
    "https://q.st.nzz.ch/editor/table/4acf1a0fd4dd89aef4abaeefd0da5ac6"
   ]
  },
  {
   "cell_type": "code",
   "execution_count": null,
   "id": "05f0b2dc",
   "metadata": {},
   "outputs": [],
   "source": [
    "df[['Land', 'Flagge', 'Bestätigt', 'Verdacht','Total']].to_clipboard(index=False)\n",
    "\n",
    "webbrowser.open('https://q.st.nzz.ch/editor/table/4acf1a0fd4dd89aef4abaeefd0da5ac6')"
   ]
  },
  {
   "cell_type": "code",
   "execution_count": null,
   "id": "6d982a34",
   "metadata": {},
   "outputs": [],
   "source": []
  },
  {
   "cell_type": "code",
   "execution_count": null,
   "id": "2ddaa953",
   "metadata": {},
   "outputs": [],
   "source": []
  },
  {
   "cell_type": "markdown",
   "id": "f547224a",
   "metadata": {},
   "source": [
    "## Total für LD-Artikel"
   ]
  },
  {
   "cell_type": "code",
   "execution_count": null,
   "id": "68ff24c3",
   "metadata": {},
   "outputs": [],
   "source": [
    "df['Total'].sum()"
   ]
  },
  {
   "cell_type": "code",
   "execution_count": null,
   "id": "36ab3d22",
   "metadata": {},
   "outputs": [],
   "source": []
  }
 ],
 "metadata": {
  "kernelspec": {
   "display_name": "Python 3 (ipykernel)",
   "language": "python",
   "name": "python3"
  },
  "language_info": {
   "codemirror_mode": {
    "name": "ipython",
    "version": 3
   },
   "file_extension": ".py",
   "mimetype": "text/x-python",
   "name": "python",
   "nbconvert_exporter": "python",
   "pygments_lexer": "ipython3",
   "version": "3.9.9"
  }
 },
 "nbformat": 4,
 "nbformat_minor": 5
}
