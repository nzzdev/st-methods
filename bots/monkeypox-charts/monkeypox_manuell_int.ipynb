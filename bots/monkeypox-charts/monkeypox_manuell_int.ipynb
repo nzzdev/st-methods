{
 "cells": [
  {
   "cell_type": "markdown",
   "id": "automated-coast",
   "metadata": {},
   "source": [
    "# Monkeypox\n",
    "\n",
    "Mit dem Skript lassen sich Daten für den Artikel zu Affenpocken manuell aufbereiten. Das automatisierte Skript ist auf Github unter st-methods/monkeypox abgelegt. <br>\n",
    "LD-Artikel: https://edit.nzz.ch/p/nzz/articles/1685302/edit/canvas\n",
    "\n",
    "Quelle Github: https://github.com/globaldothealth/monkeypox\n"
   ]
  },
  {
   "cell_type": "code",
   "execution_count": null,
   "id": "incident-loading",
   "metadata": {},
   "outputs": [],
   "source": [
    "import pandas as pd\n",
    "import webbrowser\n",
    "import pycountry\n",
    "import gettext\n",
    "from datetime import datetime\n",
    "import os\n",
    "import numpy as np"
   ]
  },
  {
   "cell_type": "code",
   "execution_count": null,
   "id": "adapted-encyclopedia",
   "metadata": {},
   "outputs": [],
   "source": [
    "german = gettext.translation('iso3166', pycountry.LOCALES_DIR, languages=['de'])\n",
    "german.install()"
   ]
  },
  {
   "cell_type": "markdown",
   "id": "centered-arrow",
   "metadata": {},
   "source": [
    "## DF einlesen"
   ]
  },
  {
   "cell_type": "code",
   "execution_count": null,
   "id": "hourly-postcard",
   "metadata": {},
   "outputs": [],
   "source": [
    "# read google sheet\n",
    "sheet_id = '1CEBhao3rMe-qtCbAgJTn5ZKQMRFWeAeaiXFpBY3gbHE'\n",
    "url = f\"https://docs.google.com/spreadsheets/d/{sheet_id}/gviz/tq?tqx=out:csv\"\n",
    "df_roh = pd.read_csv(url)"
   ]
  },
  {
   "cell_type": "code",
   "execution_count": null,
   "id": "convenient-terminology",
   "metadata": {},
   "outputs": [],
   "source": [
    "# Pivot wider\n",
    "df = df_roh.groupby(['Country','Status'])['ID'].count().unstack().reset_index()\n",
    "df= df.rename(columns={'confirmed':'Bestätigt', 'suspected':'Verdacht'})\n",
    "\n",
    "df.drop('discarded', inplace=True, axis=True)\n",
    "\n",
    "# add totals column\n",
    "df['Total']=df.iloc[:,1:].sum(axis=True)\n",
    "\n",
    "df = df[df['Total']!=0].reset_index(drop = True)"
   ]
  },
  {
   "cell_type": "code",
   "execution_count": null,
   "id": "closed-whale",
   "metadata": {},
   "outputs": [],
   "source": [
    "\n",
    "# format integers\n",
    "df = df.fillna(0)\n",
    "df.iloc[:,1:] = df.iloc[:,1:].astype(int)\n",
    "df['Country'] = df['Country'].str.strip()"
   ]
  },
  {
   "cell_type": "code",
   "execution_count": null,
   "id": "relevant-commander",
   "metadata": {},
   "outputs": [],
   "source": [
    "# sum up UK and France\n",
    "def sum_up_countries(df, subcountries, new_name):\n",
    "    country_idx = df[df['Country'].isin(subcountries)].index\n",
    "    country_row = df.iloc[country_idx].sum()\n",
    "    country_row.loc['Country'] = new_name\n",
    "    df =df.append(country_row, ignore_index=True)\n",
    "    df.drop(country_idx, inplace=True)\n",
    "    return df.reset_index(drop=True)\n",
    "    \n",
    "df = sum_up_countries(df, ['England', 'Scotland', 'Wales', 'Northern Ireland','United Kingdom'], 'United Kingdom' )\n",
    "df = sum_up_countries(df, ['France', 'French Guiana'], 'France' )"
   ]
  },
  {
   "cell_type": "code",
   "execution_count": null,
   "id": "auburn-music",
   "metadata": {},
   "outputs": [],
   "source": [
    "df=df.sort_values('Total', ascending=False)\n",
    "\n",
    "# replace country names with our worldmap ids\n",
    "df['Country'] = df['Country'].str.replace('Czech Republic', 'Czechia')\n",
    "df['Country'] = df['Country'].str.replace('Iran', 'Iran, Islamic Republic of')\n"
   ]
  },
  {
   "cell_type": "code",
   "execution_count": null,
   "id": "adolescent-yukon",
   "metadata": {},
   "outputs": [],
   "source": [
    "# temporarily remove kosovo\n",
    "\n",
    "df = df[df['Country']!='Kosovo']"
   ]
  },
  {
   "cell_type": "code",
   "execution_count": null,
   "id": "pressed-germany",
   "metadata": {},
   "outputs": [],
   "source": [
    "ignore_lst_pycountry = ['Kosovo']\n",
    "\n",
    "# Catch country name if not in pycountry\n",
    "for name in df['Country'].to_list():\n",
    "    if name in ignore_lst_pycountry:\n",
    "        continue\n",
    "    if pycountry.countries.get(name=name)== None and pycountry.countries.get(common_name =name) == None:\n",
    "        #print(pycountry.countries.get(common_name =name).common_name)\n",
    "        raise ValueError('Country is not recognised by pycountry:', name)"
   ]
  },
  {
   "cell_type": "code",
   "execution_count": null,
   "id": "alpha-peripheral",
   "metadata": {},
   "outputs": [],
   "source": [
    "#df"
   ]
  },
  {
   "cell_type": "markdown",
   "id": "cubic-puppy",
   "metadata": {},
   "source": [
    "### Deutsche Ländernamen, Flaggen"
   ]
  },
  {
   "cell_type": "code",
   "execution_count": null,
   "id": "dense-invite",
   "metadata": {},
   "outputs": [],
   "source": [
    "# get country object, using common name if there is one\n",
    "def get_common_name(name):\n",
    "    if pycountry.countries.get(common_name =name) == None: \n",
    "        country = pycountry.countries.get(name=name)\n",
    "    else:\n",
    "        country = pycountry.countries.get(common_name =name)\n",
    "    return country\n",
    "\n",
    "# return german name\n",
    "def get_german_name(name):\n",
    "    country = get_common_name(name)\n",
    "    if pycountry.countries.get(common_name =name) == None:\n",
    "        country = country.name\n",
    "    else:\n",
    "        country = country.common_name        \n",
    "    return _(country)\n",
    "\n",
    "# return flag\n",
    "def get_flag(name):\n",
    "    country = get_common_name(name)\n",
    "    return country.flag\n"
   ]
  },
  {
   "cell_type": "code",
   "execution_count": null,
   "id": "vital-algeria",
   "metadata": {},
   "outputs": [],
   "source": [
    "df['Land'] = df['Country'].apply(get_german_name)\n",
    "df['Flagge'] =  df['Country'].apply(get_flag)\n",
    "\n",
    "# Iran zurückwandeln\n",
    "df['Country'] = df['Country'].str.replace('Iran, Islamic Republic of', 'Iran')\n",
    "df['Country'] = df['Country'].str.replace('Iran, Islamic Republic of', 'Iran')\n",
    "\n",
    "df = df[['Country', 'Land', 'Flagge','Bestätigt', 'Verdacht', 'Total']]"
   ]
  },
  {
   "cell_type": "code",
   "execution_count": null,
   "id": "potential-assignment",
   "metadata": {},
   "outputs": [],
   "source": [
    "#df"
   ]
  },
  {
   "cell_type": "markdown",
   "id": "fleet-number",
   "metadata": {},
   "source": [
    "## Vergleichen, Version abspeichern"
   ]
  },
  {
   "cell_type": "code",
   "execution_count": null,
   "id": "later-vision",
   "metadata": {},
   "outputs": [],
   "source": [
    "past_csvs= os.listdir('data')\n",
    "\n",
    "past_csvs.sort()\n",
    "print(past_csvs)"
   ]
  },
  {
   "cell_type": "code",
   "execution_count": null,
   "id": "blank-africa",
   "metadata": {},
   "outputs": [],
   "source": [
    "df_last_version = pd.read_csv('data/'+past_csvs[-1])"
   ]
  },
  {
   "cell_type": "code",
   "execution_count": null,
   "id": "adaptive-carrier",
   "metadata": {},
   "outputs": [],
   "source": [
    "print('old == new:', str(df['Total'].sum() == df_last_version['Total'].sum()))\n",
    "print('new total:', str(df['Total'].sum()))\n",
    "print('old total:', str(df_last_version['Total'].sum()))"
   ]
  },
  {
   "cell_type": "code",
   "execution_count": null,
   "id": "harmful-updating",
   "metadata": {},
   "outputs": [],
   "source": [
    "# save most recent data\n",
    "time_now = datetime.now().strftime(\"%Y%m%d-%Hh%M\")\n",
    "\n",
    "df.to_csv('data/'+ time_now+'.csv', index=False)"
   ]
  },
  {
   "cell_type": "code",
   "execution_count": null,
   "id": "charged-volleyball",
   "metadata": {},
   "outputs": [],
   "source": []
  },
  {
   "cell_type": "markdown",
   "id": "flexible-action",
   "metadata": {},
   "source": [
    "## Export für Weltkarte\n",
    "https://q.st.nzz.ch/editor/choropleth/4acf1a0fd4dd89aef4abaeefd0b6f4dc"
   ]
  },
  {
   "cell_type": "code",
   "execution_count": null,
   "id": "large-avenue",
   "metadata": {},
   "outputs": [],
   "source": [
    "ids = pd.read_csv('country_ids.csv')\n",
    "\n",
    "df_worldmap =df.copy()\n",
    "#df_worldmap = df_worldmap[df_worldmap['Country']!='Malta']\n",
    "df_worldmap['Country'] = df_worldmap['Country'].str.replace('United States','United States of America')\n",
    "df_worldmap['Country'] = df_worldmap['Country'].str.replace('Bahamas','The Bahamas')\n",
    "df_worldmap = df_worldmap.rename(columns ={'Country':'ID', 'Total':'Wert'})\n",
    "\n",
    "# merge df with ids\n",
    "df_worldmap = ids.merge(df_worldmap[['ID', 'Wert']], how='left').sort_values('Wert', ascending=False)"
   ]
  },
  {
   "cell_type": "code",
   "execution_count": null,
   "id": "going-dominican",
   "metadata": {},
   "outputs": [],
   "source": [
    "# Check if all countries were recognised - is True if ok\n",
    "\n",
    "ignore_lst = ['Cayman Islands', 'Gibraltar']\n",
    "total_df = df[~df['Country'].isin(ignore_lst)]['Total'].sum()\n",
    "\n",
    "print('Sum Worldmap:', str(df_worldmap['Wert'].sum()))\n",
    "#ok if it's not Malta\n",
    "print('Sum DF:', str(total_df))\n",
    "print('Corresponds with sum df:', str(df_worldmap['Wert'].sum() == total_df))"
   ]
  },
  {
   "cell_type": "code",
   "execution_count": null,
   "id": "dense-reflection",
   "metadata": {},
   "outputs": [],
   "source": []
  },
  {
   "cell_type": "code",
   "execution_count": null,
   "id": "spiritual-logic",
   "metadata": {},
   "outputs": [],
   "source": [
    "# copy to q-element\n",
    "df_worldmap=df_worldmap.sort_values('ID', key=lambda col: col.str.lower())\n",
    "\n",
    "df_worldmap.to_clipboard(index=False)\n",
    "#webbrowser.open('https://q.st.nzz.ch/editor/choropleth/4acf1a0fd4dd89aef4abaeefd0b6f4dc', new=2)"
   ]
  },
  {
   "cell_type": "markdown",
   "id": "unexpected-queue",
   "metadata": {},
   "source": [
    "### Differenzen finden"
   ]
  },
  {
   "cell_type": "code",
   "execution_count": null,
   "id": "finite-bulgaria",
   "metadata": {},
   "outputs": [],
   "source": [
    "df[df['Total']==1].sort_values('Country')\n"
   ]
  },
  {
   "cell_type": "code",
   "execution_count": null,
   "id": "nasty-garden",
   "metadata": {},
   "outputs": [],
   "source": [
    "df_worldmap[df_worldmap['Wert']==1].sort_values('ID')"
   ]
  },
  {
   "cell_type": "code",
   "execution_count": null,
   "id": "literary-hamilton",
   "metadata": {},
   "outputs": [],
   "source": []
  },
  {
   "cell_type": "markdown",
   "id": "certified-chinese",
   "metadata": {},
   "source": [
    "## Export für Tabelle\n",
    "\n",
    "https://q.st.nzz.ch/editor/table/4acf1a0fd4dd89aef4abaeefd0da5ac6"
   ]
  },
  {
   "cell_type": "code",
   "execution_count": null,
   "id": "yellow-bulgaria",
   "metadata": {},
   "outputs": [],
   "source": [
    "df_q_table = df[['Land', 'Flagge', 'Bestätigt', 'Verdacht','Total']].rename(columns = {'Land':'', 'Flagge':''})\n",
    "#df_q_table"
   ]
  },
  {
   "cell_type": "code",
   "execution_count": null,
   "id": "impressive-funeral",
   "metadata": {},
   "outputs": [],
   "source": [
    "df_q_table.to_clipboard(index=False)\n",
    "\n",
    "#webbrowser.open('https://q.st.nzz.ch/editor/table/4acf1a0fd4dd89aef4abaeefd0da5ac6')"
   ]
  },
  {
   "cell_type": "markdown",
   "id": "bright-blackjack",
   "metadata": {},
   "source": [
    "## Zahlen für LD-Artikel"
   ]
  },
  {
   "cell_type": "code",
   "execution_count": null,
   "id": "smooth-accounting",
   "metadata": {},
   "outputs": [],
   "source": [
    "# Fälle total (inklusive inoffizielle Länder)\n",
    "df['Total'].sum()"
   ]
  },
  {
   "cell_type": "code",
   "execution_count": null,
   "id": "removed-receiver",
   "metadata": {},
   "outputs": [],
   "source": []
  },
  {
   "cell_type": "markdown",
   "id": "royal-steps",
   "metadata": {},
   "source": [
    "## Export Geschlechtergrafik [inaktiv]\n",
    "https://q.st.nzz.ch/editor/chart/4913f749b598fb2ecc9721cb17e708e9"
   ]
  },
  {
   "cell_type": "code",
   "execution_count": null,
   "id": "operating-wealth",
   "metadata": {},
   "outputs": [],
   "source": []
  },
  {
   "cell_type": "code",
   "execution_count": null,
   "id": "occasional-experience",
   "metadata": {},
   "outputs": [],
   "source": [
    "gender_dict = {'Male':'Männer', 'male':'Männer',\n",
    "              'female':'Frauen',np.nan:'Keine Daten'}"
   ]
  },
  {
   "cell_type": "code",
   "execution_count": null,
   "id": "younger-silly",
   "metadata": {},
   "outputs": [],
   "source": [
    "df_gender = df_roh.copy()\n",
    "df_gender['Gender'] = df_gender['Gender'].replace(gender_dict)\n",
    "\n",
    "# only group confirmed cases\n",
    "df_q_gender = df_gender[df_gender['Status']=='confirmed'].groupby(['Gender'], dropna=False, as_index=False).size()\n",
    "df_q_gender.rename(columns={'Gender':'Geschlecht', 'size':'Anzahl'})\n",
    "\n",
    "df_q_gender = df_q_gender.T\n",
    "df_q_gender.columns = df_q_gender.iloc[0]\n",
    "df_q_gender.drop('Gender', inplace=True)\n",
    "df_q_gender = df_q_gender[['Männer', 'Keine Daten', 'Frauen']]"
   ]
  },
  {
   "cell_type": "code",
   "execution_count": null,
   "id": "understanding-rates",
   "metadata": {},
   "outputs": [],
   "source": [
    "df_q_gender.to_clipboard()\n",
    "#webbrowser.open('https://q.st.nzz.ch/editor/chart/4913f749b598fb2ecc9721cb17e708e9')"
   ]
  },
  {
   "cell_type": "code",
   "execution_count": null,
   "id": "sporting-reporter",
   "metadata": {},
   "outputs": [],
   "source": [
    "df_q_gender"
   ]
  },
  {
   "cell_type": "code",
   "execution_count": null,
   "id": "important-rings",
   "metadata": {},
   "outputs": [],
   "source": [
    "df_q_gender.sum(axis=True)"
   ]
  },
  {
   "cell_type": "code",
   "execution_count": null,
   "id": "lonely-trick",
   "metadata": {},
   "outputs": [],
   "source": []
  },
  {
   "cell_type": "markdown",
   "id": "plastic-carter",
   "metadata": {},
   "source": [
    "## Test: Zeitreihe"
   ]
  },
  {
   "cell_type": "code",
   "execution_count": null,
   "id": "completed-monthly",
   "metadata": {},
   "outputs": [],
   "source": [
    "\n",
    "df_roh['Date_onset'] = pd.to_datetime(df_roh['Date_onset'])\n",
    "df_roh['Date_confirmation'] = pd.to_datetime(df_roh['Date_confirmation'])\n",
    "df_roh['Date_entry'] = pd.to_datetime(df_roh['Date_entry'])\n",
    "df_roh['Date_last_modified'] = pd.to_datetime(df_roh['Date_last_modified'])"
   ]
  },
  {
   "cell_type": "code",
   "execution_count": null,
   "id": "necessary-fiction",
   "metadata": {},
   "outputs": [],
   "source": [
    "import altair as alt"
   ]
  },
  {
   "cell_type": "markdown",
   "id": "southern-spell",
   "metadata": {},
   "source": [
    "### Rollender Durchschnitt\n",
    "\n",
    "1. Summe pro Tag\n",
    "2. Rollender Schnitt pro Woche"
   ]
  },
  {
   "cell_type": "code",
   "execution_count": null,
   "id": "great-three",
   "metadata": {},
   "outputs": [],
   "source": [
    "df_cases_per_day = df_roh.groupby(df_roh['Date_entry'].dt.date).size().reset_index()\n",
    "df_cases_per_day.columns = ['Date_entry', 'Cases']\n",
    "df_cases_per_day['Date_entry'] = pd.to_datetime(df_cases_per_day['Date_entry'], format='%Y-%m-%d')"
   ]
  },
  {
   "cell_type": "code",
   "execution_count": null,
   "id": "worldwide-space",
   "metadata": {},
   "outputs": [],
   "source": [
    "df_cases_per_day['Rolling_mean'] =df_cases_per_day['Cases'].rolling(7, min_periods=3).mean()\n",
    "df_cases_per_day"
   ]
  },
  {
   "cell_type": "code",
   "execution_count": null,
   "id": "hydraulic-services",
   "metadata": {},
   "outputs": [],
   "source": [
    "width = 500\n",
    "height =width * (9/16)\n",
    "\n",
    "line = alt.Chart(df_cases_per_day).mark_line().encode(\n",
    "    x='Date_entry:T',\n",
    "    y='Rolling_mean',\n",
    "    color = alt.value('#86341b')\n",
    ").properties(\n",
    "    width = width,\n",
    "    height = height, \n",
    "    title = 'Anzahl Fälle nach Meldedatum'\n",
    ")"
   ]
  },
  {
   "cell_type": "code",
   "execution_count": null,
   "id": "common-candle",
   "metadata": {},
   "outputs": [],
   "source": [
    "bars = alt.Chart(df_roh[df_roh['Status'].isin(['confirmed', 'suspected'])]).mark_bar(size=10).encode(\n",
    "    x=alt.X('Date_entry:T'  ),\n",
    "    y=alt.Y('count()'), \n",
    "    color = alt.Color('Status', scale=alt.Scale(\n",
    "        domain=['confirmed', 'suspected'],\n",
    "        range=['#e66e4a', '#e7a18d'])),\n",
    "    order=alt.Order(\n",
    "      # Sort the segments of the bars by this field\n",
    "      'Status',\n",
    "      sort='ascending'\n",
    "    )\n",
    ").properties(\n",
    "    width = width,\n",
    "    height = height, \n",
    "    title = 'Anzahl Fälle nach Meldedatum', \n",
    ")"
   ]
  },
  {
   "cell_type": "code",
   "execution_count": null,
   "id": "dried-daily",
   "metadata": {},
   "outputs": [],
   "source": [
    "bars + line"
   ]
  },
  {
   "cell_type": "code",
   "execution_count": null,
   "id": "harmful-webster",
   "metadata": {},
   "outputs": [],
   "source": []
  },
  {
   "cell_type": "markdown",
   "id": "differential-bargain",
   "metadata": {},
   "source": [
    "## Debugging"
   ]
  },
  {
   "cell_type": "markdown",
   "id": "metallic-ballet",
   "metadata": {},
   "source": [
    "* Replace ISO3 with country code that is not recognised\n",
    "* Then copy name and use it to replace current country name at line 35 in py-skript."
   ]
  },
  {
   "cell_type": "markdown",
   "id": "integrated-mambo",
   "metadata": {},
   "source": [
    "### Länder finden für Pycountry"
   ]
  },
  {
   "cell_type": "code",
   "execution_count": null,
   "id": "baking-version",
   "metadata": {},
   "outputs": [],
   "source": [
    "\n",
    "ISO3 = 'XXK' \n",
    "\n",
    "pycountry.countries.get(alpha_3=ISO3)"
   ]
  },
  {
   "cell_type": "code",
   "execution_count": null,
   "id": "tropical-luxury",
   "metadata": {},
   "outputs": [],
   "source": [
    "pycountry.countries.get(alpha_3='BOL').common_name"
   ]
  },
  {
   "cell_type": "code",
   "execution_count": null,
   "id": "national-substitute",
   "metadata": {},
   "outputs": [],
   "source": [
    "pycountry.countries.get(name='Mexico')"
   ]
  },
  {
   "cell_type": "code",
   "execution_count": null,
   "id": "coastal-metadata",
   "metadata": {},
   "outputs": [],
   "source": []
  },
  {
   "cell_type": "code",
   "execution_count": null,
   "id": "hired-update",
   "metadata": {},
   "outputs": [],
   "source": []
  },
  {
   "cell_type": "code",
   "execution_count": null,
   "id": "olive-office",
   "metadata": {},
   "outputs": [],
   "source": []
  },
  {
   "cell_type": "code",
   "execution_count": null,
   "id": "forward-happiness",
   "metadata": {},
   "outputs": [],
   "source": []
  },
  {
   "cell_type": "markdown",
   "id": "intense-paraguay",
   "metadata": {},
   "source": [
    "### Länder finden für Worldmap"
   ]
  },
  {
   "cell_type": "code",
   "execution_count": null,
   "id": "published-pollution",
   "metadata": {},
   "outputs": [],
   "source": [
    "ids[ids['ID'].str.contains('Kosovo')]"
   ]
  },
  {
   "cell_type": "code",
   "execution_count": null,
   "id": "hearing-program",
   "metadata": {},
   "outputs": [],
   "source": [
    "df_worldmap[df_worldmap['ID'].str.contains('Malta')]"
   ]
  },
  {
   "cell_type": "code",
   "execution_count": null,
   "id": "naughty-finish",
   "metadata": {},
   "outputs": [],
   "source": [
    "one_value = ['Mexico', 'Ecuador', 'Pakistan', 'Bolivia','Malta', 'Sudan', 'Austria', 'Finland']\n",
    "df_worldmap[df_worldmap['ID'].isin(one_value)]"
   ]
  },
  {
   "cell_type": "code",
   "execution_count": null,
   "id": "closing-ethics",
   "metadata": {},
   "outputs": [],
   "source": []
  }
 ],
 "metadata": {
  "kernelspec": {
   "display_name": "Python 3",
   "language": "python",
   "name": "python3"
  },
  "language_info": {
   "codemirror_mode": {
    "name": "ipython",
    "version": 3
   },
   "file_extension": ".py",
   "mimetype": "text/x-python",
   "name": "python",
   "nbconvert_exporter": "python",
   "pygments_lexer": "ipython3",
   "version": "3.7.3"
  }
 },
 "nbformat": 4,
 "nbformat_minor": 5
}
