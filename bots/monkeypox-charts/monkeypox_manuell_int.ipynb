{
 "cells": [
  {
   "cell_type": "markdown",
   "id": "20258016",
   "metadata": {},
   "source": [
    "# Monkeypox\n",
    "\n",
    "Mit dem Skript lassen sich Daten für den Artikel zu Affenpocken manuell aufbereiten. Das automatisierte Skript ist auf Github unter st-methods/monkeypox abgelegt. <br>\n",
    "LD-Artikel: https://edit.nzz.ch/p/nzz/articles/1685302/edit/canvas\n",
    "\n",
    "Quelle Github: https://github.com/globaldothealth/monkeypox\n"
   ]
  },
  {
   "cell_type": "code",
   "execution_count": 1,
   "id": "2872a975",
   "metadata": {},
   "outputs": [],
   "source": [
    "import pandas as pd\n",
    "import webbrowser\n",
    "import pycountry\n",
    "import gettext\n",
    "from datetime import datetime\n",
    "import os\n",
    "import numpy as np"
   ]
  },
  {
   "cell_type": "code",
   "execution_count": 2,
   "id": "8e3980eb",
   "metadata": {},
   "outputs": [],
   "source": [
    "german = gettext.translation('iso3166', pycountry.LOCALES_DIR, languages=['de'])\n",
    "german.install()"
   ]
  },
  {
   "cell_type": "code",
   "execution_count": 3,
   "id": "96fe19f8",
   "metadata": {},
   "outputs": [
    {
     "data": {
      "text/plain": [
       "'22.3.5'"
      ]
     },
     "execution_count": 3,
     "metadata": {},
     "output_type": "execute_result"
    }
   ],
   "source": [
    "# Pycountry shoud be on latest version, i.e. '22.3.5'. Else, flags might not work.\n",
    "pycountry.__version__"
   ]
  },
  {
   "cell_type": "markdown",
   "id": "4b25887c",
   "metadata": {},
   "source": [
    "## DF einlesen"
   ]
  },
  {
   "cell_type": "code",
   "execution_count": 4,
   "id": "5cee3403",
   "metadata": {},
   "outputs": [],
   "source": [
    "# read google sheet\n",
    "sheet_id = '1CEBhao3rMe-qtCbAgJTn5ZKQMRFWeAeaiXFpBY3gbHE'\n",
    "url = f\"https://docs.google.com/spreadsheets/d/{sheet_id}/gviz/tq?tqx=out:csv\"\n",
    "df_roh = pd.read_csv(url)"
   ]
  },
  {
   "cell_type": "code",
   "execution_count": 5,
   "id": "c59029e0",
   "metadata": {},
   "outputs": [],
   "source": [
    "# Pivot wider\n",
    "df = df_roh.groupby(['Country','Status'])['ID'].count().unstack().reset_index()\n",
    "df= df.rename(columns={'confirmed':'Bestätigt', 'suspected':'Verdacht'})\n",
    "\n",
    "df.drop('discarded', inplace=True, axis=True)\n",
    "\n",
    "# add totals column\n",
    "df['Total']=df.iloc[:,1:].sum(axis=True)\n",
    "\n",
    "df = df[df['Total']!=0].reset_index(drop = True)"
   ]
  },
  {
   "cell_type": "code",
   "execution_count": 6,
   "id": "db53db1f",
   "metadata": {},
   "outputs": [],
   "source": [
    "\n",
    "# format integers\n",
    "df = df.fillna(0)\n",
    "df.iloc[:,1:] = df.iloc[:,1:].astype(int)"
   ]
  },
  {
   "cell_type": "code",
   "execution_count": 7,
   "id": "8f752141",
   "metadata": {},
   "outputs": [],
   "source": [
    "# sum up UK and France\n",
    "def sum_up_countries(df, subcountries, new_name):\n",
    "    country_idx = df[df['Country'].isin(subcountries)].index\n",
    "    country_row = df.iloc[country_idx].sum()\n",
    "    country_row.loc['Country'] = new_name\n",
    "    df =df.append(country_row, ignore_index=True)\n",
    "    df.drop(country_idx, inplace=True)\n",
    "    return df.reset_index(drop=True)\n",
    "    \n",
    "df = sum_up_countries(df, ['England', 'Scotland', 'Wales', 'Northern Ireland','United Kingdom'], 'United Kingdom' )\n",
    "df = sum_up_countries(df, ['France', 'French Guiana'], 'France' )"
   ]
  },
  {
   "cell_type": "code",
   "execution_count": 8,
   "id": "a6655c0d",
   "metadata": {},
   "outputs": [],
   "source": [
    "df=df.sort_values('Total', ascending=False)\n",
    "\n",
    "# replace country names with our worldmap ids\n",
    "df['Country'] = df['Country'].str.replace('Czech Republic', 'Czechia')\n",
    "df['Country'] = df['Country'].str.replace('Iran', 'Iran, Islamic Republic of')\n"
   ]
  },
  {
   "cell_type": "code",
   "execution_count": 9,
   "id": "422e06a1",
   "metadata": {},
   "outputs": [],
   "source": [
    "# temporarily remove kosovo\n",
    "\n",
    "df = df[df['Country']!='Kosovo']"
   ]
  },
  {
   "cell_type": "code",
   "execution_count": 10,
   "id": "f9955c49",
   "metadata": {},
   "outputs": [],
   "source": [
    "# Catch country name if not in pycountry\n",
    "for name in df['Country'].to_list():\n",
    "    if pycountry.countries.get(name=name)== None and pycountry.countries.get(common_name =name) == None:\n",
    "        #print(pycountry.countries.get(common_name =name).common_name)\n",
    "        raise ValueError('Country is not recognised by pycountry:', name)"
   ]
  },
  {
   "cell_type": "code",
   "execution_count": 11,
   "id": "af6542cb",
   "metadata": {},
   "outputs": [],
   "source": [
    "#df"
   ]
  },
  {
   "cell_type": "markdown",
   "id": "913324dc",
   "metadata": {},
   "source": [
    "### Deutsche Ländernamen, Flaggen"
   ]
  },
  {
   "cell_type": "code",
   "execution_count": 12,
   "id": "6159102c",
   "metadata": {},
   "outputs": [],
   "source": [
    "# get country object, using common name if there is one\n",
    "def get_common_name(name):\n",
    "    if pycountry.countries.get(common_name =name) == None: \n",
    "        country = pycountry.countries.get(name=name)\n",
    "    else:\n",
    "        country = pycountry.countries.get(common_name =name)\n",
    "    return country\n",
    "\n",
    "# return german name\n",
    "def get_german_name(name):\n",
    "    country = get_common_name(name)\n",
    "    if pycountry.countries.get(common_name =name) == None:\n",
    "        country = country.name\n",
    "    else:\n",
    "        country = country.common_name        \n",
    "    return _(country)\n",
    "\n",
    "# return flag\n",
    "def get_flag(name):\n",
    "    country = get_common_name(name)\n",
    "    return country.flag\n"
   ]
  },
  {
   "cell_type": "code",
   "execution_count": 13,
   "id": "3f6b6b28",
   "metadata": {},
   "outputs": [],
   "source": [
    "df['Land'] = df['Country'].apply(get_german_name)\n",
    "df['Flagge'] =  df['Country'].apply(get_flag)\n",
    "\n",
    "# Iran zurückwandeln\n",
    "df['Country'] = df['Country'].str.replace('Iran, Islamic Republic of', 'Iran')\n",
    "\n",
    "df = df[['Country', 'Land', 'Flagge','Bestätigt', 'Verdacht', 'Total']]"
   ]
  },
  {
   "cell_type": "code",
   "execution_count": 14,
   "id": "0c5f2034",
   "metadata": {},
   "outputs": [],
   "source": [
    "#df"
   ]
  },
  {
   "cell_type": "markdown",
   "id": "18f7abd5",
   "metadata": {},
   "source": [
    "## Vergleichen, Version abspeichern"
   ]
  },
  {
   "cell_type": "code",
   "execution_count": 15,
   "id": "8ff124b3",
   "metadata": {},
   "outputs": [
    {
     "name": "stdout",
     "output_type": "stream",
     "text": [
      "['.gitkeep', '20220524-16h03.csv']\n"
     ]
    }
   ],
   "source": [
    "past_csvs= os.listdir('data')\n",
    "\n",
    "past_csvs.sort()\n",
    "print(past_csvs)"
   ]
  },
  {
   "cell_type": "code",
   "execution_count": 16,
   "id": "cdf0b606",
   "metadata": {},
   "outputs": [],
   "source": [
    "df_last_version = pd.read_csv('data/'+past_csvs[-1])"
   ]
  },
  {
   "cell_type": "code",
   "execution_count": 17,
   "id": "7b88e240",
   "metadata": {},
   "outputs": [
    {
     "name": "stdout",
     "output_type": "stream",
     "text": [
      "old == new: False\n",
      "new total: 989\n",
      "old total: 270\n"
     ]
    }
   ],
   "source": [
    "print('old == new:', str(df['Total'].sum() == df_last_version['Total'].sum()))\n",
    "print('new total:', str(df['Total'].sum()))\n",
    "print('old total:', str(df_last_version['Total'].sum()))"
   ]
  },
  {
   "cell_type": "code",
   "execution_count": 18,
   "id": "097a486b",
   "metadata": {},
   "outputs": [],
   "source": [
    "# save most recent data\n",
    "time_now = datetime.now().strftime(\"%Y%m%d-%Hh%M\")\n",
    "\n",
    "#df.to_csv('data/'+ time_now+'.csv', index=False)"
   ]
  },
  {
   "cell_type": "code",
   "execution_count": null,
   "id": "d5489878",
   "metadata": {},
   "outputs": [],
   "source": []
  },
  {
   "cell_type": "markdown",
   "id": "da1f3112",
   "metadata": {},
   "source": [
    "## Export für Weltkarte\n",
    "https://q.st.nzz.ch/editor/choropleth/4acf1a0fd4dd89aef4abaeefd0b6f4dc"
   ]
  },
  {
   "cell_type": "code",
   "execution_count": 19,
   "id": "a9e1846c",
   "metadata": {},
   "outputs": [],
   "source": [
    "ids = pd.read_csv('country_ids.csv')\n",
    "\n",
    "df_worldmap =df.copy()\n",
    "#df_worldmap = df_worldmap[df_worldmap['Country']!='Malta']\n",
    "df_worldmap['Country'] = df_worldmap['Country'].str.replace('United States','United States of America')\n",
    "df_worldmap = df_worldmap.rename(columns ={'Country':'ID', 'Total':'Wert'})\n",
    "\n",
    "# merge df with ids\n",
    "df_worldmap = ids.merge(df_worldmap[['ID', 'Wert']], how='left').sort_values('Wert', ascending=False)"
   ]
  },
  {
   "cell_type": "code",
   "execution_count": 20,
   "id": "6324bddb",
   "metadata": {},
   "outputs": [
    {
     "name": "stdout",
     "output_type": "stream",
     "text": [
      "Sum Worldmap: 988.0\n",
      "Sum DF: 988\n",
      "Corresponds with sum df: True\n"
     ]
    }
   ],
   "source": [
    "# Check if all countries were recognised - is True if ok\n",
    "\n",
    "ignore_lst = ['Cayman Islands']\n",
    "total_df = df[~df['Country'].isin(ignore_lst)]['Total'].sum()\n",
    "\n",
    "print('Sum Worldmap:', str(df_worldmap['Wert'].sum()))\n",
    "#ok if it's not Malta\n",
    "print('Sum DF:', str(total_df))\n",
    "print('Corresponds with sum df:', str(df_worldmap['Wert'].sum() == total_df))"
   ]
  },
  {
   "cell_type": "code",
   "execution_count": null,
   "id": "dab12743",
   "metadata": {},
   "outputs": [],
   "source": []
  },
  {
   "cell_type": "code",
   "execution_count": 21,
   "id": "15132fc4",
   "metadata": {},
   "outputs": [],
   "source": [
    "# copy to q-element\n",
    "df_worldmap=df_worldmap.sort_values('ID', key=lambda col: col.str.lower())\n",
    "\n",
    "df_worldmap.to_clipboard(index=False)\n",
    "#webbrowser.open('https://q.st.nzz.ch/editor/choropleth/4acf1a0fd4dd89aef4abaeefd0b6f4dc', new=2)"
   ]
  },
  {
   "cell_type": "code",
   "execution_count": null,
   "id": "2e4dae60",
   "metadata": {},
   "outputs": [],
   "source": []
  },
  {
   "cell_type": "code",
   "execution_count": 22,
   "id": "9f7dd55e",
   "metadata": {},
   "outputs": [
    {
     "data": {
      "text/html": [
       "<div>\n",
       "<style scoped>\n",
       "    .dataframe tbody tr th:only-of-type {\n",
       "        vertical-align: middle;\n",
       "    }\n",
       "\n",
       "    .dataframe tbody tr th {\n",
       "        vertical-align: top;\n",
       "    }\n",
       "\n",
       "    .dataframe thead th {\n",
       "        text-align: right;\n",
       "    }\n",
       "</style>\n",
       "<table border=\"1\" class=\"dataframe\">\n",
       "  <thead>\n",
       "    <tr style=\"text-align: right;\">\n",
       "      <th>Status</th>\n",
       "      <th>Country</th>\n",
       "      <th>Land</th>\n",
       "      <th>Flagge</th>\n",
       "      <th>Bestätigt</th>\n",
       "      <th>Verdacht</th>\n",
       "      <th>Total</th>\n",
       "    </tr>\n",
       "  </thead>\n",
       "  <tbody>\n",
       "    <tr>\n",
       "      <th>2</th>\n",
       "      <td>Austria</td>\n",
       "      <td>Österreich</td>\n",
       "      <td>🇦🇹</td>\n",
       "      <td>1</td>\n",
       "      <td>0</td>\n",
       "      <td>1</td>\n",
       "    </tr>\n",
       "    <tr>\n",
       "      <th>7</th>\n",
       "      <td>Cayman Islands</td>\n",
       "      <td>Cayman-Inseln</td>\n",
       "      <td>🇰🇾</td>\n",
       "      <td>0</td>\n",
       "      <td>1</td>\n",
       "      <td>1</td>\n",
       "    </tr>\n",
       "    <tr>\n",
       "      <th>12</th>\n",
       "      <td>Haiti</td>\n",
       "      <td>Haiti</td>\n",
       "      <td>🇭🇹</td>\n",
       "      <td>0</td>\n",
       "      <td>1</td>\n",
       "      <td>1</td>\n",
       "    </tr>\n",
       "    <tr>\n",
       "      <th>13</th>\n",
       "      <td>Hungary</td>\n",
       "      <td>Ungarn</td>\n",
       "      <td>🇭🇺</td>\n",
       "      <td>1</td>\n",
       "      <td>0</td>\n",
       "      <td>1</td>\n",
       "    </tr>\n",
       "    <tr>\n",
       "      <th>19</th>\n",
       "      <td>Latvia</td>\n",
       "      <td>Lettland</td>\n",
       "      <td>🇱🇻</td>\n",
       "      <td>1</td>\n",
       "      <td>0</td>\n",
       "      <td>1</td>\n",
       "    </tr>\n",
       "    <tr>\n",
       "      <th>20</th>\n",
       "      <td>Malta</td>\n",
       "      <td>Malta</td>\n",
       "      <td>🇲🇹</td>\n",
       "      <td>1</td>\n",
       "      <td>0</td>\n",
       "      <td>1</td>\n",
       "    </tr>\n",
       "    <tr>\n",
       "      <th>21</th>\n",
       "      <td>Mexico</td>\n",
       "      <td>Mexiko</td>\n",
       "      <td>🇲🇽</td>\n",
       "      <td>1</td>\n",
       "      <td>0</td>\n",
       "      <td>1</td>\n",
       "    </tr>\n",
       "    <tr>\n",
       "      <th>22</th>\n",
       "      <td>Morocco</td>\n",
       "      <td>Marokko</td>\n",
       "      <td>🇲🇦</td>\n",
       "      <td>1</td>\n",
       "      <td>0</td>\n",
       "      <td>1</td>\n",
       "    </tr>\n",
       "    <tr>\n",
       "      <th>25</th>\n",
       "      <td>Pakistan</td>\n",
       "      <td>Pakistan</td>\n",
       "      <td>🇵🇰</td>\n",
       "      <td>0</td>\n",
       "      <td>1</td>\n",
       "      <td>1</td>\n",
       "    </tr>\n",
       "    <tr>\n",
       "      <th>26</th>\n",
       "      <td>Paraguay</td>\n",
       "      <td>Paraguay</td>\n",
       "      <td>🇵🇾</td>\n",
       "      <td>0</td>\n",
       "      <td>1</td>\n",
       "      <td>1</td>\n",
       "    </tr>\n",
       "    <tr>\n",
       "      <th>30</th>\n",
       "      <td>Sudan</td>\n",
       "      <td>Sudan</td>\n",
       "      <td>🇸🇩</td>\n",
       "      <td>0</td>\n",
       "      <td>1</td>\n",
       "      <td>1</td>\n",
       "    </tr>\n",
       "  </tbody>\n",
       "</table>\n",
       "</div>"
      ],
      "text/plain": [
       "Status         Country           Land Flagge  Bestätigt  Verdacht  Total\n",
       "2              Austria     Österreich     🇦🇹          1         0      1\n",
       "7       Cayman Islands  Cayman-Inseln     🇰🇾          0         1      1\n",
       "12               Haiti          Haiti     🇭🇹          0         1      1\n",
       "13             Hungary         Ungarn     🇭🇺          1         0      1\n",
       "19              Latvia       Lettland     🇱🇻          1         0      1\n",
       "20               Malta          Malta     🇲🇹          1         0      1\n",
       "21              Mexico         Mexiko     🇲🇽          1         0      1\n",
       "22             Morocco        Marokko     🇲🇦          1         0      1\n",
       "25            Pakistan       Pakistan     🇵🇰          0         1      1\n",
       "26            Paraguay       Paraguay     🇵🇾          0         1      1\n",
       "30               Sudan          Sudan     🇸🇩          0         1      1"
      ]
     },
     "execution_count": 22,
     "metadata": {},
     "output_type": "execute_result"
    }
   ],
   "source": [
    "df[df['Total']==1].sort_values('Country')\n"
   ]
  },
  {
   "cell_type": "code",
   "execution_count": 23,
   "id": "c8b01460",
   "metadata": {},
   "outputs": [
    {
     "data": {
      "text/html": [
       "<div>\n",
       "<style scoped>\n",
       "    .dataframe tbody tr th:only-of-type {\n",
       "        vertical-align: middle;\n",
       "    }\n",
       "\n",
       "    .dataframe tbody tr th {\n",
       "        vertical-align: top;\n",
       "    }\n",
       "\n",
       "    .dataframe thead th {\n",
       "        text-align: right;\n",
       "    }\n",
       "</style>\n",
       "<table border=\"1\" class=\"dataframe\">\n",
       "  <thead>\n",
       "    <tr style=\"text-align: right;\">\n",
       "      <th></th>\n",
       "      <th>ID</th>\n",
       "      <th>Wert</th>\n",
       "    </tr>\n",
       "  </thead>\n",
       "  <tbody>\n",
       "    <tr>\n",
       "      <th>8</th>\n",
       "      <td>Austria</td>\n",
       "      <td>1.0</td>\n",
       "    </tr>\n",
       "    <tr>\n",
       "      <th>64</th>\n",
       "      <td>Haiti</td>\n",
       "      <td>1.0</td>\n",
       "    </tr>\n",
       "    <tr>\n",
       "      <th>67</th>\n",
       "      <td>Hungary</td>\n",
       "      <td>1.0</td>\n",
       "    </tr>\n",
       "    <tr>\n",
       "      <th>86</th>\n",
       "      <td>Latvia</td>\n",
       "      <td>1.0</td>\n",
       "    </tr>\n",
       "    <tr>\n",
       "      <th>98</th>\n",
       "      <td>Malta</td>\n",
       "      <td>1.0</td>\n",
       "    </tr>\n",
       "    <tr>\n",
       "      <th>101</th>\n",
       "      <td>Mexico</td>\n",
       "      <td>1.0</td>\n",
       "    </tr>\n",
       "    <tr>\n",
       "      <th>105</th>\n",
       "      <td>Morocco</td>\n",
       "      <td>1.0</td>\n",
       "    </tr>\n",
       "    <tr>\n",
       "      <th>120</th>\n",
       "      <td>Pakistan</td>\n",
       "      <td>1.0</td>\n",
       "    </tr>\n",
       "    <tr>\n",
       "      <th>123</th>\n",
       "      <td>Paraguay</td>\n",
       "      <td>1.0</td>\n",
       "    </tr>\n",
       "    <tr>\n",
       "      <th>148</th>\n",
       "      <td>Sudan</td>\n",
       "      <td>1.0</td>\n",
       "    </tr>\n",
       "  </tbody>\n",
       "</table>\n",
       "</div>"
      ],
      "text/plain": [
       "           ID  Wert\n",
       "8     Austria   1.0\n",
       "64      Haiti   1.0\n",
       "67    Hungary   1.0\n",
       "86     Latvia   1.0\n",
       "98      Malta   1.0\n",
       "101    Mexico   1.0\n",
       "105   Morocco   1.0\n",
       "120  Pakistan   1.0\n",
       "123  Paraguay   1.0\n",
       "148     Sudan   1.0"
      ]
     },
     "execution_count": 23,
     "metadata": {},
     "output_type": "execute_result"
    }
   ],
   "source": [
    "df_worldmap[df_worldmap['Wert']==1].sort_values('ID')"
   ]
  },
  {
   "cell_type": "code",
   "execution_count": null,
   "id": "41ddaf63",
   "metadata": {},
   "outputs": [],
   "source": []
  },
  {
   "cell_type": "markdown",
   "id": "d98d285f",
   "metadata": {},
   "source": [
    "## Export für Tabelle\n",
    "\n",
    "https://q.st.nzz.ch/editor/table/4acf1a0fd4dd89aef4abaeefd0da5ac6"
   ]
  },
  {
   "cell_type": "code",
   "execution_count": 24,
   "id": "8fd09f5a",
   "metadata": {},
   "outputs": [],
   "source": [
    "df_q_table = df[['Land', 'Flagge', 'Bestätigt', 'Verdacht','Total']].rename(columns = {'Land':'', 'Flagge':''})\n",
    "#df_q_table"
   ]
  },
  {
   "cell_type": "code",
   "execution_count": 25,
   "id": "05f0b2dc",
   "metadata": {},
   "outputs": [],
   "source": [
    "df_q_table.to_clipboard(index=False)\n",
    "\n",
    "#webbrowser.open('https://q.st.nzz.ch/editor/table/4acf1a0fd4dd89aef4abaeefd0da5ac6')"
   ]
  },
  {
   "cell_type": "markdown",
   "id": "f547224a",
   "metadata": {},
   "source": [
    "## Zahlen für LD-Artikel"
   ]
  },
  {
   "cell_type": "code",
   "execution_count": 27,
   "id": "68ff24c3",
   "metadata": {},
   "outputs": [
    {
     "data": {
      "text/plain": [
       "989"
      ]
     },
     "execution_count": 27,
     "metadata": {},
     "output_type": "execute_result"
    }
   ],
   "source": [
    "# Fälle total (inklusive inoffizielle Länder)\n",
    "df['Total'].sum()"
   ]
  },
  {
   "cell_type": "code",
   "execution_count": null,
   "id": "0dd05cc3",
   "metadata": {},
   "outputs": [],
   "source": []
  },
  {
   "cell_type": "markdown",
   "id": "c1637e65",
   "metadata": {},
   "source": [
    "## Export Geschlechtergrafik [inaktiv]\n",
    "https://q.st.nzz.ch/editor/chart/4913f749b598fb2ecc9721cb17e708e9"
   ]
  },
  {
   "cell_type": "code",
   "execution_count": null,
   "id": "841433ab",
   "metadata": {},
   "outputs": [],
   "source": []
  },
  {
   "cell_type": "code",
   "execution_count": null,
   "id": "c30697c3",
   "metadata": {},
   "outputs": [],
   "source": [
    "gender_dict = {'Male':'Männer', 'male':'Männer',\n",
    "              'female':'Frauen',np.nan:'Keine Daten'}"
   ]
  },
  {
   "cell_type": "code",
   "execution_count": null,
   "id": "c937e6f7",
   "metadata": {},
   "outputs": [],
   "source": [
    "df_gender = df_roh.copy()\n",
    "df_gender['Gender'] = df_gender['Gender'].replace(gender_dict)\n",
    "\n",
    "# only group confirmed cases\n",
    "df_q_gender = df_gender[df_gender['Status']=='confirmed'].groupby(['Gender'], dropna=False, as_index=False).size()\n",
    "df_q_gender.rename(columns={'Gender':'Geschlecht', 'size':'Anzahl'})\n",
    "\n",
    "df_q_gender = df_q_gender.T\n",
    "df_q_gender.columns = df_q_gender.iloc[0]\n",
    "df_q_gender.drop('Gender', inplace=True)\n",
    "df_q_gender = df_q_gender[['Männer', 'Keine Daten', 'Frauen']]"
   ]
  },
  {
   "cell_type": "code",
   "execution_count": null,
   "id": "75bd0e60",
   "metadata": {},
   "outputs": [],
   "source": [
    "df_q_gender.to_clipboard()\n",
    "#webbrowser.open('https://q.st.nzz.ch/editor/chart/4913f749b598fb2ecc9721cb17e708e9')"
   ]
  },
  {
   "cell_type": "code",
   "execution_count": null,
   "id": "5afe3758",
   "metadata": {},
   "outputs": [],
   "source": [
    "df_q_gender"
   ]
  },
  {
   "cell_type": "code",
   "execution_count": null,
   "id": "67634032",
   "metadata": {},
   "outputs": [],
   "source": [
    "df_q_gender.sum(axis=True)"
   ]
  },
  {
   "cell_type": "code",
   "execution_count": null,
   "id": "67a167a6",
   "metadata": {},
   "outputs": [],
   "source": []
  },
  {
   "cell_type": "markdown",
   "id": "0e1a279f",
   "metadata": {},
   "source": [
    "## Test: Zeitreihe"
   ]
  },
  {
   "cell_type": "code",
   "execution_count": null,
   "id": "5b4b348b",
   "metadata": {},
   "outputs": [],
   "source": [
    "\n",
    "df_roh['Date_onset'] = pd.to_datetime(df_roh['Date_onset'])\n",
    "df_roh['Date_confirmation'] = pd.to_datetime(df_roh['Date_confirmation'])\n",
    "df_roh['Date_entry'] = pd.to_datetime(df_roh['Date_entry'])\n",
    "df_roh['Date_last_modified'] = pd.to_datetime(df_roh['Date_last_modified'])"
   ]
  },
  {
   "cell_type": "code",
   "execution_count": null,
   "id": "eedabe4d",
   "metadata": {},
   "outputs": [],
   "source": [
    "import altair as alt"
   ]
  },
  {
   "cell_type": "code",
   "execution_count": null,
   "id": "fc055028",
   "metadata": {},
   "outputs": [],
   "source": [
    "alt.Chart(df_roh[df_roh['Status'].isin(['confirmed', 'suspected'])]).mark_bar(size=10).encode(\n",
    "    x=alt.X('Date_entry:T'  ),\n",
    "    y=alt.Y('count()'), \n",
    "    color = alt.Color('Status'),\n",
    "    order=alt.Order(\n",
    "      # Sort the segments of the bars by this field\n",
    "      'Status',\n",
    "      sort='ascending'\n",
    "    )\n",
    ").properties(\n",
    "    height = 200, \n",
    "    title = 'Anzahl Fälle nach Meldedatum'\n",
    ")"
   ]
  },
  {
   "cell_type": "code",
   "execution_count": null,
   "id": "c5f86eee",
   "metadata": {},
   "outputs": [],
   "source": []
  },
  {
   "cell_type": "code",
   "execution_count": null,
   "id": "913d51da",
   "metadata": {},
   "outputs": [],
   "source": []
  },
  {
   "cell_type": "code",
   "execution_count": null,
   "id": "cc700c70",
   "metadata": {},
   "outputs": [],
   "source": []
  },
  {
   "cell_type": "markdown",
   "id": "5c16178d",
   "metadata": {},
   "source": [
    "## Debugging"
   ]
  },
  {
   "cell_type": "markdown",
   "id": "df6e6e8c",
   "metadata": {},
   "source": [
    "* Replace ISO3 with country code that is not recognised\n",
    "* Then copy name and use it to replace current country name at line 35 in py-skript."
   ]
  },
  {
   "cell_type": "markdown",
   "id": "d1e7661e",
   "metadata": {},
   "source": [
    "### Länder finden für Pycountry"
   ]
  },
  {
   "cell_type": "code",
   "execution_count": null,
   "id": "488d1dad",
   "metadata": {},
   "outputs": [],
   "source": [
    "\n",
    "ISO3 = 'XXK' \n",
    "\n",
    "pycountry.countries.get(alpha_3=ISO3)"
   ]
  },
  {
   "cell_type": "code",
   "execution_count": null,
   "id": "852cf48d",
   "metadata": {},
   "outputs": [],
   "source": [
    "pycountry.countries.get(alpha_3='BOL').common_name"
   ]
  },
  {
   "cell_type": "code",
   "execution_count": null,
   "id": "184dfef9",
   "metadata": {},
   "outputs": [],
   "source": [
    "amendments = pd.read_csv('pycountry_amendments.csv')"
   ]
  },
  {
   "cell_type": "code",
   "execution_count": null,
   "id": "893bd6d4",
   "metadata": {},
   "outputs": [],
   "source": [
    "amendments"
   ]
  },
  {
   "cell_type": "code",
   "execution_count": null,
   "id": "85f6ffdf",
   "metadata": {},
   "outputs": [],
   "source": []
  },
  {
   "cell_type": "code",
   "execution_count": null,
   "id": "15409a14",
   "metadata": {},
   "outputs": [],
   "source": []
  },
  {
   "cell_type": "code",
   "execution_count": null,
   "id": "6ce39dfc",
   "metadata": {},
   "outputs": [],
   "source": []
  },
  {
   "cell_type": "code",
   "execution_count": null,
   "id": "70289492",
   "metadata": {},
   "outputs": [],
   "source": []
  },
  {
   "cell_type": "markdown",
   "id": "7a97fc79",
   "metadata": {},
   "source": [
    "### Länder finden für Worldmap"
   ]
  },
  {
   "cell_type": "code",
   "execution_count": null,
   "id": "b1f1d11b",
   "metadata": {},
   "outputs": [],
   "source": [
    "ids[ids['ID'].str.contains('Kosovo')]"
   ]
  },
  {
   "cell_type": "code",
   "execution_count": null,
   "id": "426f0d29",
   "metadata": {},
   "outputs": [],
   "source": [
    "df_worldmap[df_worldmap['ID'].str.contains('Malta')]"
   ]
  },
  {
   "cell_type": "code",
   "execution_count": null,
   "id": "c075579a",
   "metadata": {},
   "outputs": [],
   "source": [
    "one_value = ['Mexico', 'Ecuador', 'Pakistan', 'Bolivia','Malta', 'Sudan', 'Austria', 'Finland']\n",
    "df_worldmap[df_worldmap['ID'].isin(one_value)]"
   ]
  },
  {
   "cell_type": "code",
   "execution_count": null,
   "id": "c3c57caf",
   "metadata": {},
   "outputs": [],
   "source": []
  }
 ],
 "metadata": {
  "kernelspec": {
   "display_name": "Python 3 (ipykernel)",
   "language": "python",
   "name": "python3"
  },
  "language_info": {
   "codemirror_mode": {
    "name": "ipython",
    "version": 3
   },
   "file_extension": ".py",
   "mimetype": "text/x-python",
   "name": "python",
   "nbconvert_exporter": "python",
   "pygments_lexer": "ipython3",
   "version": "3.9.9"
  }
 },
 "nbformat": 4,
 "nbformat_minor": 5
}
