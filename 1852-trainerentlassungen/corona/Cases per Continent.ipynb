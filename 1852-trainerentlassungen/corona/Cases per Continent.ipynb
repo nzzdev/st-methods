{
 "cells": [
  {
   "cell_type": "code",
   "execution_count": 88,
   "metadata": {},
   "outputs": [],
   "source": [
    "import pandas as pd\n",
    "import pycountry_convert as pc\n",
    "import datetime\n"
   ]
  },
  {
   "cell_type": "code",
   "execution_count": 89,
   "metadata": {},
   "outputs": [],
   "source": [
    "#Pulling Data in\n",
    "df = pd.read_csv('https://raw.githubusercontent.com/CSSEGISandData/COVID-19/master/csse_covid_19_data/csse_covid_19_time_series/time_series_19-covid-Confirmed.csv')"
   ]
  },
  {
   "cell_type": "code",
   "execution_count": 90,
   "metadata": {},
   "outputs": [],
   "source": [
    "#Classifying countries\n",
    "def continents(elem):\n",
    "    if elem == 'Mainland China':\n",
    "        return 'China'\n",
    "    if elem == 'US':\n",
    "        return 'Nordamerika'\n",
    "    if elem == 'UK':\n",
    "        return 'Europa'\n",
    "    if elem == 'Others':\n",
    "        return 'Andere'\n",
    "    try:\n",
    "        country_code = pc.country_name_to_country_alpha2(elem, cn_name_format=\"default\")\n",
    "        continent_name = pc.country_alpha2_to_continent_code(country_code)\n",
    "        if continent_name == \"NA\":\n",
    "            return 'Nordamerika'\n",
    "        if continent_name == 'EU':\n",
    "            return \"Europa\"\n",
    "        if continent_name == 'AS':\n",
    "            return \"Asien\"\n",
    "        if continent_name == 'AF':\n",
    "            return \"Afrika\"\n",
    "        if continent_name == 'OC':\n",
    "            return \"Ozeanien\"\n",
    "        return continent_name\n",
    "    except:\n",
    "        return elem\n",
    "df[\"Continent\"] = df[\"Country/Region\"].apply(continents)\n",
    "del df['Lat']\n",
    "del df['Long']\n",
    "con_df = df.groupby(\"Continent\")[list(df)[3:]].sum().transpose()\n",
    "con_df = con_df[[\"Europa\", \"Nordamerika\", \"Ozeanien\", \"Asien\", \"Andere\"]].copy()"
   ]
  },
  {
   "cell_type": "code",
   "execution_count": 91,
   "metadata": {},
   "outputs": [],
   "source": [
    "con_df.to_csv(str(datetime.date.today())+\"_coronainfektionen_nachland.csv\")"
   ]
  }
 ],
 "metadata": {
  "kernelspec": {
   "display_name": "Python 3",
   "language": "python",
   "name": "python3"
  },
  "language_info": {
   "codemirror_mode": {
    "name": "ipython",
    "version": 3
   },
   "file_extension": ".py",
   "mimetype": "text/x-python",
   "name": "python",
   "nbconvert_exporter": "python",
   "pygments_lexer": "ipython3",
   "version": "3.7.6"
  }
 },
 "nbformat": 4,
 "nbformat_minor": 4
}
