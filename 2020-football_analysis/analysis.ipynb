{
 "cells": [
  {
   "cell_type": "code",
   "execution_count": 1,
   "metadata": {},
   "outputs": [],
   "source": [
    "import pandas as pd\n",
    "import numpy as np\n",
    "import matplotlib.pyplot as plt\n",
    "import os\n",
    "%matplotlib inline"
   ]
  },
  {
   "cell_type": "markdown",
   "metadata": {},
   "source": [
    "## Win, draw, loss distribution during Corona"
   ]
  },
  {
   "cell_type": "markdown",
   "metadata": {},
   "source": [
    "### Swiss Super League"
   ]
  },
  {
   "cell_type": "code",
   "execution_count": 2,
   "metadata": {},
   "outputs": [],
   "source": [
    "ch = pd.read_csv('CH.csv')\n",
    "Corona_2019_2020 = ch[ch['Season']=='2019/2020']\n",
    "#https://www.php.net/manual/de/function.strftime.php\n",
    "Corona_2019_2020.index = pd.to_datetime(Corona_2019_2020['Date'], format='%d.%m.%y', errors='ignore')"
   ]
  },
  {
   "cell_type": "code",
   "execution_count": 3,
   "metadata": {},
   "outputs": [
    {
     "data": {
      "text/plain": [
       "H    0.408696\n",
       "A    0.347826\n",
       "D    0.243478\n",
       "Name: Res, dtype: float64"
      ]
     },
     "execution_count": 3,
     "metadata": {},
     "output_type": "execute_result"
    }
   ],
   "source": [
    "#Games before Corona lockdown\n",
    "Corona_2019_2020_bc = Corona_2019_2020[:'2020-04-01']\n",
    "Corona_2019_2020_bc['Res'].value_counts(normalize=True)"
   ]
  },
  {
   "cell_type": "code",
   "execution_count": 4,
   "metadata": {},
   "outputs": [
    {
     "data": {
      "text/plain": [
       "H    0.522388\n",
       "D    0.253731\n",
       "A    0.223881\n",
       "Name: Res, dtype: float64"
      ]
     },
     "execution_count": 4,
     "metadata": {},
     "output_type": "execute_result"
    }
   ],
   "source": [
    "Corona_2019_2020_c = Corona_2019_2020['2020-04-01':]\n",
    "Corona_2019_2020_c['Res'].value_counts(normalize=True)"
   ]
  },
  {
   "cell_type": "markdown",
   "metadata": {},
   "source": [
    "### German Bundesliga\n"
   ]
  },
  {
   "cell_type": "code",
   "execution_count": 5,
   "metadata": {},
   "outputs": [],
   "source": [
    "de = pd.read_csv('D1_19_20.csv')\n",
    "#https://www.php.net/manual/de/function.strftime.php\n",
    "de.index = pd.to_datetime(de['Date'], format='%d/%m/%Y', errors='ignore')\n",
    "del de['Date']"
   ]
  },
  {
   "cell_type": "code",
   "execution_count": 6,
   "metadata": {},
   "outputs": [
    {
     "data": {
      "text/plain": [
       "H    0.433036\n",
       "A    0.348214\n",
       "D    0.218750\n",
       "Name: FTR, dtype: float64"
      ]
     },
     "execution_count": 6,
     "metadata": {},
     "output_type": "execute_result"
    }
   ],
   "source": [
    "#Games before Corona lockdown\n",
    "de_bc = de[:'2020-04-01']\n",
    "de_bc['FTR'].value_counts(normalize=True)"
   ]
  },
  {
   "cell_type": "code",
   "execution_count": 7,
   "metadata": {},
   "outputs": [
    {
     "data": {
      "text/plain": [
       "A    0.451220\n",
       "H    0.317073\n",
       "D    0.231707\n",
       "Name: FTR, dtype: float64"
      ]
     },
     "execution_count": 7,
     "metadata": {},
     "output_type": "execute_result"
    }
   ],
   "source": [
    "#Games after Corona lockdown\n",
    "de_c = de['2020-04-01':]\n",
    "de_c['FTR'].value_counts(normalize=True)"
   ]
  },
  {
   "cell_type": "markdown",
   "metadata": {},
   "source": [
    "### English Premier League"
   ]
  },
  {
   "cell_type": "code",
   "execution_count": 8,
   "metadata": {},
   "outputs": [
    {
     "data": {
      "text/plain": [
       "H    0.447917\n",
       "A    0.302083\n",
       "D    0.250000\n",
       "Name: FTR, dtype: float64"
      ]
     },
     "execution_count": 8,
     "metadata": {},
     "output_type": "execute_result"
    }
   ],
   "source": [
    "en = pd.read_csv('E0_19_20.csv')\n",
    "#https://www.php.net/manual/de/function.strftime.php\n",
    "en.index = pd.to_datetime(en['Date'], format='%d/%m/%Y', errors='ignore')\n",
    "del en['Date']\n",
    "#Games before Corona lockdown\n",
    "en_bc = en[:'2020-04-01']\n",
    "en_bc['FTR'].value_counts(normalize=True)"
   ]
  },
  {
   "cell_type": "code",
   "execution_count": 9,
   "metadata": {},
   "outputs": [
    {
     "data": {
      "text/plain": [
       "H    0.467391\n",
       "A    0.315217\n",
       "D    0.217391\n",
       "Name: FTR, dtype: float64"
      ]
     },
     "execution_count": 9,
     "metadata": {},
     "output_type": "execute_result"
    }
   ],
   "source": [
    "#Games before Corona lockdown\n",
    "en_c = en['2020-04-01':]\n",
    "en_c['FTR'].value_counts(normalize=True)"
   ]
  },
  {
   "cell_type": "markdown",
   "metadata": {},
   "source": [
    "## Italian Serie A"
   ]
  },
  {
   "cell_type": "code",
   "execution_count": 10,
   "metadata": {},
   "outputs": [
    {
     "data": {
      "text/plain": [
       "H    0.402344\n",
       "A    0.371094\n",
       "D    0.226562\n",
       "Name: FTR, dtype: float64"
      ]
     },
     "execution_count": 10,
     "metadata": {},
     "output_type": "execute_result"
    }
   ],
   "source": [
    "it = pd.read_csv('I1_19_20.csv')\n",
    "#https://www.php.net/manual/de/function.strftime.php\n",
    "it.index = pd.to_datetime(it['Date'], format='%d/%m/%Y', errors='ignore')\n",
    "del it['Date']\n",
    "#Games before Corona lockdown\n",
    "it_bc = it[:'2020-04-01']\n",
    "it_bc['FTR'].value_counts(normalize=True)"
   ]
  },
  {
   "cell_type": "code",
   "execution_count": 11,
   "metadata": {},
   "outputs": [
    {
     "data": {
      "text/plain": [
       "H    0.443548\n",
       "A    0.338710\n",
       "D    0.217742\n",
       "Name: FTR, dtype: float64"
      ]
     },
     "execution_count": 11,
     "metadata": {},
     "output_type": "execute_result"
    }
   ],
   "source": [
    "#Games before Corona lockdown\n",
    "it_c = it['2020-04-01':]\n",
    "it_c['FTR'].value_counts(normalize=True)"
   ]
  },
  {
   "cell_type": "markdown",
   "metadata": {},
   "source": [
    "### Spanish La Liga"
   ]
  },
  {
   "cell_type": "code",
   "execution_count": 12,
   "metadata": {},
   "outputs": [
    {
     "data": {
      "text/plain": [
       "H    0.477778\n",
       "D    0.277778\n",
       "A    0.244444\n",
       "Name: FTR, dtype: float64"
      ]
     },
     "execution_count": 12,
     "metadata": {},
     "output_type": "execute_result"
    }
   ],
   "source": [
    "sp = pd.read_csv('SP1_19_20.csv')\n",
    "#https://www.php.net/manual/de/function.strftime.php\n",
    "sp.index = pd.to_datetime(sp['Date'], format='%d/%m/%Y', errors='ignore')\n",
    "del sp['Date']\n",
    "#Games before Corona lockdown\n",
    "sp_bc = sp[:'2020-04-01']\n",
    "sp_bc['FTR'].value_counts(normalize=True)"
   ]
  },
  {
   "cell_type": "code",
   "execution_count": 13,
   "metadata": {},
   "outputs": [
    {
     "data": {
      "text/plain": [
       "H    0.409091\n",
       "A    0.318182\n",
       "D    0.272727\n",
       "Name: FTR, dtype: float64"
      ]
     },
     "execution_count": 13,
     "metadata": {},
     "output_type": "execute_result"
    }
   ],
   "source": [
    "#Games after Corona lockdown\n",
    "sp_c = sp['2020-04-01':]\n",
    "sp_c['FTR'].value_counts(normalize=True)"
   ]
  },
  {
   "cell_type": "markdown",
   "metadata": {},
   "source": [
    "### Overall (CH, DE, IT, ENG, SP)"
   ]
  },
  {
   "cell_type": "code",
   "execution_count": 14,
   "metadata": {},
   "outputs": [],
   "source": [
    "Corona_2019_2020_bc = Corona_2019_2020_bc[['Country', 'Res', 'Home', 'Away', 'HG', 'AG']].copy()\n",
    "Corona_2019_2020_bc.columns = ['Country', 'FTR', 'HomeTeam', 'AwayTeam', 'FTHG', 'FTAG']\n",
    "de_bc = de_bc[['FTR', 'HomeTeam', 'AwayTeam', 'FTHG', 'FTAG']].copy()\n",
    "de_bc['Country'] = \"Germany\"\n",
    "en_bc = en_bc[['FTR', 'HomeTeam', 'AwayTeam', 'FTHG', 'FTAG']].copy()\n",
    "en_bc['Country'] = \"England\"\n",
    "sp_bc = sp_bc[['FTR', 'HomeTeam', 'AwayTeam', 'FTHG', 'FTAG']].copy()\n",
    "sp_bc['Country'] = \"Spain\"\n",
    "it_bc = it_bc[['FTR', 'HomeTeam', 'AwayTeam', 'FTHG', 'FTAG']].copy()\n",
    "it_bc['Country'] = \"Italy\""
   ]
  },
  {
   "cell_type": "code",
   "execution_count": 15,
   "metadata": {},
   "outputs": [
    {
     "data": {
      "text/plain": [
       "H    0.437988\n",
       "A    0.317433\n",
       "D    0.244579\n",
       "Name: FTR, dtype: float64"
      ]
     },
     "execution_count": 15,
     "metadata": {},
     "output_type": "execute_result"
    }
   ],
   "source": [
    "#merging\n",
    "frames = [Corona_2019_2020_bc, de_bc, en_bc, sp_bc, it_bc]\n",
    "df = pd.concat(frames)\n",
    "df[\"FTR\"].value_counts(normalize=True)"
   ]
  },
  {
   "cell_type": "code",
   "execution_count": 16,
   "metadata": {},
   "outputs": [],
   "source": [
    "Corona_2019_2020_c = Corona_2019_2020_c[['Country', 'Res', 'Home', 'Away', 'HG', 'AG']].copy()\n",
    "Corona_2019_2020_c.columns = ['Country', 'FTR', 'HomeTeam', 'AwayTeam', 'FTHG', 'FTAG']\n",
    "de_c = de_c[['FTR', 'HomeTeam', 'AwayTeam', 'FTHG', 'FTAG']].copy()\n",
    "de_c['Country'] = \"Germany\"\n",
    "en_c = en_c[['FTR', 'HomeTeam', 'AwayTeam', 'FTHG', 'FTAG']].copy()\n",
    "en_c['Country'] = \"England\"\n",
    "sp_c = sp_c[['FTR', 'HomeTeam', 'AwayTeam', 'FTHG', 'FTAG']].copy()\n",
    "sp_c['Country'] = \"Spain\"\n",
    "it_c = it_c[['FTR', 'HomeTeam', 'AwayTeam', 'FTHG', 'FTAG']].copy()\n",
    "it_c['Country'] = \"Italy\""
   ]
  },
  {
   "cell_type": "code",
   "execution_count": 17,
   "metadata": {},
   "outputs": [
    {
     "data": {
      "text/plain": [
       "H    0.429474\n",
       "A    0.332632\n",
       "D    0.237895\n",
       "Name: FTR, dtype: float64"
      ]
     },
     "execution_count": 17,
     "metadata": {},
     "output_type": "execute_result"
    }
   ],
   "source": [
    "#merging\n",
    "frames = [Corona_2019_2020_c, de_c, en_c, sp_c, it_c]\n",
    "df2 = pd.concat(frames)\n",
    "df2[\"FTR\"].value_counts(normalize=True)"
   ]
  },
  {
   "cell_type": "code",
   "execution_count": 18,
   "metadata": {},
   "outputs": [
    {
     "name": "stdout",
     "output_type": "stream",
     "text": [
      "<class 'pandas.core.frame.DataFrame'>\n",
      "DatetimeIndex: 1153 entries, 2019-07-19 to 2020-03-09\n",
      "Data columns (total 6 columns):\n",
      " #   Column    Non-Null Count  Dtype \n",
      "---  ------    --------------  ----- \n",
      " 0   Country   1153 non-null   object\n",
      " 1   FTR       1153 non-null   object\n",
      " 2   HomeTeam  1153 non-null   object\n",
      " 3   AwayTeam  1153 non-null   object\n",
      " 4   FTHG      1153 non-null   int64 \n",
      " 5   FTAG      1153 non-null   int64 \n",
      "dtypes: int64(2), object(4)\n",
      "memory usage: 63.1+ KB\n"
     ]
    }
   ],
   "source": [
    "df.info()"
   ]
  },
  {
   "cell_type": "code",
   "execution_count": 19,
   "metadata": {},
   "outputs": [
    {
     "name": "stdout",
     "output_type": "stream",
     "text": [
      "<class 'pandas.core.frame.DataFrame'>\n",
      "DatetimeIndex: 475 entries, 2020-06-19 to 2020-08-02\n",
      "Data columns (total 6 columns):\n",
      " #   Column    Non-Null Count  Dtype \n",
      "---  ------    --------------  ----- \n",
      " 0   Country   475 non-null    object\n",
      " 1   FTR       475 non-null    object\n",
      " 2   HomeTeam  475 non-null    object\n",
      " 3   AwayTeam  475 non-null    object\n",
      " 4   FTHG      475 non-null    int64 \n",
      " 5   FTAG      475 non-null    int64 \n",
      "dtypes: int64(2), object(4)\n",
      "memory usage: 26.0+ KB\n"
     ]
    }
   ],
   "source": [
    "df2.info()"
   ]
  },
  {
   "cell_type": "markdown",
   "metadata": {},
   "source": [
    "### Goals"
   ]
  },
  {
   "cell_type": "code",
   "execution_count": null,
   "metadata": {},
   "outputs": [],
   "source": [
    "#Average amount of goals home team during lockdown\n",
    "df2['FTHG'].mean()"
   ]
  },
  {
   "cell_type": "code",
   "execution_count": null,
   "metadata": {},
   "outputs": [],
   "source": [
    "#Average amount of goals away team during lockdown\n",
    "df2['FTAG'].mean()"
   ]
  },
  {
   "cell_type": "code",
   "execution_count": null,
   "metadata": {},
   "outputs": [],
   "source": [
    "#Average amount of goals home team before lockdown\n",
    "df['FTHG'].mean()"
   ]
  },
  {
   "cell_type": "code",
   "execution_count": null,
   "metadata": {},
   "outputs": [],
   "source": [
    "#Average amount of goals away team during lockdown\n",
    "df['FTAG'].mean()"
   ]
  },
  {
   "cell_type": "markdown",
   "metadata": {},
   "source": [
    "### Quotes Bundesliga"
   ]
  },
  {
   "cell_type": "code",
   "execution_count": null,
   "metadata": {},
   "outputs": [],
   "source": [
    "de = pd.read_csv('D1_19_20.csv')\n",
    "de.index = pd.to_datetime(de['Date'], format='%d/%m/%Y', errors='ignore')\n",
    "de = de[['HomeTeam', 'AwayTeam', 'FTR', 'B365CH', 'B365CD', 'B365CA']].copy()\n",
    "#Hometeam averages\n",
    "de[:\"2020-04-01\"]['B365CH'].mean()"
   ]
  },
  {
   "cell_type": "code",
   "execution_count": null,
   "metadata": {},
   "outputs": [],
   "source": [
    "de[\"2020-04-01\":]['B365CH'].mean()"
   ]
  },
  {
   "cell_type": "code",
   "execution_count": null,
   "metadata": {},
   "outputs": [],
   "source": [
    "de[:\"2020-04-01\"]['B365CA'].mean()"
   ]
  },
  {
   "cell_type": "code",
   "execution_count": null,
   "metadata": {},
   "outputs": [],
   "source": [
    "de[\"2020-04-01\":]['B365CA'].mean()"
   ]
  },
  {
   "cell_type": "code",
   "execution_count": null,
   "metadata": {},
   "outputs": [],
   "source": [
    "de"
   ]
  },
  {
   "cell_type": "markdown",
   "metadata": {},
   "source": [
    "## Historical Bundesliga"
   ]
  },
  {
   "cell_type": "code",
   "execution_count": null,
   "metadata": {},
   "outputs": [],
   "source": [
    "de = pd.read_csv('D1_19_20.csv')\n",
    "de.index = pd.to_datetime(de['Date'], format='%d/%m/%Y', errors='ignore')\n",
    "#Hometeam averages\n",
    "final_de = pd.DataFrame(de['FTR'].value_counts(normalize=True))\n",
    "final_de['Year'] = de['Date'][0][-4:]"
   ]
  },
  {
   "cell_type": "code",
   "execution_count": null,
   "metadata": {},
   "outputs": [],
   "source": [
    "de = pd.read_csv('germany/D1 (17).csv', encoding= 'unicode_escape')"
   ]
  },
  {
   "cell_type": "code",
   "execution_count": null,
   "metadata": {},
   "outputs": [],
   "source": [
    "de"
   ]
  },
  {
   "cell_type": "code",
   "execution_count": null,
   "metadata": {},
   "outputs": [],
   "source": [
    "\"germany/\"+file"
   ]
  },
  {
   "cell_type": "code",
   "execution_count": null,
   "metadata": {},
   "outputs": [],
   "source": [
    "file_lst = os.listdir(\"germany\")"
   ]
  },
  {
   "cell_type": "code",
   "execution_count": null,
   "metadata": {},
   "outputs": [],
   "source": [
    "for file in file_lst:\n",
    "    #print(\"germany/\"+file)\n",
    "    de = pd.read_csv(\"germany/\"+file, encoding= 'unicode_escape', error_bad_lines=False)\n",
    "    \n",
    "    de.index = pd.to_datetime(de['Date'], format='%d/%m/%Y', errors='ignore')\n",
    "    #Hometeam averages\n",
    "    temp_de = pd.DataFrame(de['FTR'].value_counts(normalize=True))\n",
    "    temp_de['Year'] = de['Date'][0][-4:]\n",
    "    \n",
    "    frames = [final_de, temp_de]\n",
    "    final_de = pd.concat(frames)"
   ]
  },
  {
   "cell_type": "code",
   "execution_count": null,
   "metadata": {},
   "outputs": [],
   "source": [
    "final_de = final_de.reset_index()"
   ]
  },
  {
   "cell_type": "code",
   "execution_count": null,
   "metadata": {},
   "outputs": [],
   "source": [
    "def year(elem):\n",
    "    \n",
    "    elem = elem.split(\"/\")\n",
    "    if len(elem) > 1:\n",
    "        return elem[1]\n",
    "    else:\n",
    "        return elem[0]\n",
    "final_de['Year'] = final_de['Year'].apply(year)\n",
    "\n",
    "def year2(elem):\n",
    "    if int(elem) < 18:\n",
    "        return \"20\"+elem\n",
    "    elif int(elem) == 2019:\n",
    "        return elem\n",
    "    elif int(elem) == 2018:\n",
    "        return elem\n",
    "    else:\n",
    "        return \"19\"+elem\n",
    "final_de['Year'] = final_de['Year'].apply(year2)"
   ]
  },
  {
   "cell_type": "code",
   "execution_count": null,
   "metadata": {},
   "outputs": [],
   "source": [
    "homewins = final_de[final_de[\"index\"]=='H']\n",
    "homewins.index = homewins['Year']\n",
    "homewins = homewins.sort_index(ascending=True)\n",
    "homewins['FTR'].plot()"
   ]
  },
  {
   "cell_type": "code",
   "execution_count": null,
   "metadata": {},
   "outputs": [],
   "source": [
    "homewins = final_de[final_de[\"index\"]=='A']\n",
    "homewins.index = homewins['Year']\n",
    "homewins = homewins.sort_index(ascending=True)\n",
    "homewins['FTR'].plot()"
   ]
  },
  {
   "cell_type": "code",
   "execution_count": null,
   "metadata": {},
   "outputs": [],
   "source": [
    "de = pd.DataFrame(homewins['FTR'])\n",
    "def final(elem):\n",
    "    return elem * 100\n",
    "de['FTR'] = de['FTR'].apply(final)\n"
   ]
  },
  {
   "cell_type": "code",
   "execution_count": null,
   "metadata": {},
   "outputs": [],
   "source": [
    "pd.DataFrame(de['FTR']).to_clipboard()"
   ]
  },
  {
   "cell_type": "markdown",
   "metadata": {},
   "source": [
    "## Historical Super League"
   ]
  },
  {
   "cell_type": "code",
   "execution_count": null,
   "metadata": {},
   "outputs": [],
   "source": [
    "ch = pd.read_csv('CH.csv')\n",
    "ch = pd.DataFrame(ch.groupby('Season')['Res'].value_counts(normalize=True))\n",
    "ch = ch.unstack(level=0).transpose().reset_index()\n",
    "def year(elem):\n",
    "    elem = elem.split(\"/\")\n",
    "    return elem[1]\n",
    "ch['Season'] = ch['Season'].apply(year)\n",
    "ch.index = ch['Season']\n",
    "del ch['Season']"
   ]
  },
  {
   "cell_type": "code",
   "execution_count": null,
   "metadata": {},
   "outputs": [],
   "source": [
    "pd.DataFrame(ch['A'])"
   ]
  },
  {
   "cell_type": "code",
   "execution_count": null,
   "metadata": {},
   "outputs": [],
   "source": [
    "ch['A'].plot()"
   ]
  },
  {
   "cell_type": "code",
   "execution_count": null,
   "metadata": {},
   "outputs": [],
   "source": [
    "ch['H'].plot()"
   ]
  },
  {
   "cell_type": "code",
   "execution_count": null,
   "metadata": {},
   "outputs": [],
   "source": []
  }
 ],
 "metadata": {
  "kernelspec": {
   "display_name": "Python 3",
   "language": "python",
   "name": "python3"
  },
  "language_info": {
   "codemirror_mode": {
    "name": "ipython",
    "version": 3
   },
   "file_extension": ".py",
   "mimetype": "text/x-python",
   "name": "python",
   "nbconvert_exporter": "python",
   "pygments_lexer": "ipython3",
   "version": "3.7.6"
  }
 },
 "nbformat": 4,
 "nbformat_minor": 4
}
