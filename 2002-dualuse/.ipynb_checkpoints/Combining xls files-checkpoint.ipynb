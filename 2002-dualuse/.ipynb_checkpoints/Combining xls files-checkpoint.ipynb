{
 "cells": [
  {
   "cell_type": "code",
   "execution_count": 1,
   "metadata": {},
   "outputs": [],
   "source": [
    "import pandas as pd\n",
    "import os\n",
    "import matplotlib.pyplot as plt\n",
    "%matplotlib inline"
   ]
  },
  {
   "cell_type": "code",
   "execution_count": 2,
   "metadata": {},
   "outputs": [
    {
     "data": {
      "text/html": [
       "<div>\n",
       "<style scoped>\n",
       "    .dataframe tbody tr th:only-of-type {\n",
       "        vertical-align: middle;\n",
       "    }\n",
       "\n",
       "    .dataframe tbody tr th {\n",
       "        vertical-align: top;\n",
       "    }\n",
       "\n",
       "    .dataframe thead th {\n",
       "        text-align: right;\n",
       "    }\n",
       "</style>\n",
       "<table border=\"1\" class=\"dataframe\">\n",
       "  <thead>\n",
       "    <tr style=\"text-align: right;\">\n",
       "      <th></th>\n",
       "      <th>Nummer</th>\n",
       "      <th>Definition</th>\n",
       "    </tr>\n",
       "  </thead>\n",
       "  <tbody>\n",
       "    <tr>\n",
       "      <th>0</th>\n",
       "      <td>5A002</td>\n",
       "      <td>Krypto-Hardware</td>\n",
       "    </tr>\n",
       "    <tr>\n",
       "      <th>1</th>\n",
       "      <td>5D002a1</td>\n",
       "      <td>Krypto-Software</td>\n",
       "    </tr>\n",
       "    <tr>\n",
       "      <th>2</th>\n",
       "      <td>5D002b</td>\n",
       "      <td>Krypto-Software</td>\n",
       "    </tr>\n",
       "    <tr>\n",
       "      <th>3</th>\n",
       "      <td>5D002c1</td>\n",
       "      <td>Krypto-Software</td>\n",
       "    </tr>\n",
       "    <tr>\n",
       "      <th>4</th>\n",
       "      <td>7A005</td>\n",
       "      <td>Krypto-Satelliten-Empfang-Hardware</td>\n",
       "    </tr>\n",
       "    <tr>\n",
       "      <th>5</th>\n",
       "      <td>7D005</td>\n",
       "      <td>Krypto-Software für Satelliten</td>\n",
       "    </tr>\n",
       "    <tr>\n",
       "      <th>6</th>\n",
       "      <td>7E001</td>\n",
       "      <td>Schlüsselmanagement-Software</td>\n",
       "    </tr>\n",
       "  </tbody>\n",
       "</table>\n",
       "</div>"
      ],
      "text/plain": [
       "    Nummer                           Definition\n",
       "0    5A002                      Krypto-Hardware\n",
       "1  5D002a1                      Krypto-Software\n",
       "2   5D002b                      Krypto-Software\n",
       "3  5D002c1                      Krypto-Software\n",
       "4    7A005   Krypto-Satelliten-Empfang-Hardware\n",
       "5    7D005       Krypto-Software für Satelliten\n",
       "6    7E001         Schlüsselmanagement-Software"
      ]
     },
     "execution_count": 2,
     "metadata": {},
     "output_type": "execute_result"
    }
   ],
   "source": [
    "#importing categories\n",
    "#https://www.seco.admin.ch/seco/de/home/Aussenwirtschaftspolitik_Wirtschaftliche_Zusammenarbeit/Wirtschaftsbeziehungen/exportkontrollen-und-sanktionen/industrieprodukte--dual-use--und-besondere-militaerische-gueter/rechtliche-grundlagen-und-gueterlisten--anhaenge-.html#accordion1581675636562\n",
    "nr = pd.read_csv('Exportkontrollnummer (EKN).txt')\n",
    "nr.head(10)"
   ]
  },
  {
   "cell_type": "code",
   "execution_count": 3,
   "metadata": {},
   "outputs": [],
   "source": [
    "#List of all the Ausfuhren\n",
    "xls_list = os.listdir('2016_2019/')\n",
    "xls_list.remove('.DS_Store')\n",
    "#columns names\n",
    "cols = list(pd.read_excel('2016_2019/2. Quartal 2019 Erteilte Ausfuhrbewilligungen.xlsx'))"
   ]
  },
  {
   "cell_type": "code",
   "execution_count": 5,
   "metadata": {},
   "outputs": [],
   "source": [
    "#Joining all the tables 2016 - 2019\n",
    "df = pd.DataFrame() \n",
    "for xls in xls_list:\n",
    "    temp = pd.read_excel('2016_2019/'+xls)\n",
    "    temp.columns = cols\n",
    "    temp['Quartal'] = '-'.join(xls.split(\" \")[:3])\n",
    "    frames = [df, temp]\n",
    "    df = pd.concat(frames)"
   ]
  },
  {
   "cell_type": "code",
   "execution_count": 6,
   "metadata": {},
   "outputs": [],
   "source": [
    "#Bringing in 2015\n",
    "_2015 = pd.read_excel('2015/Stat_IP_2015_Bewilligungen.xlsx')\n",
    "_2015.columns = ['Geschäftsnummer', 'Quartal', 'Bestimmungsland', \n",
    "                 'Geschäftstyp', 'Richtung', 'Exportkontrollnummer [EKN]', \n",
    "                 'Wert [CHF]']\n",
    "frames = [df, _2015]\n",
    "df = pd.concat(frames)"
   ]
  },
  {
   "cell_type": "code",
   "execution_count": 7,
   "metadata": {},
   "outputs": [],
   "source": [
    "#Bringing in 2012-2014\n",
    "_2012_2014 = pd.DataFrame() \n",
    "xls_list = os.listdir('2012_2014/')\n",
    "#xls_list.remove('.DS_Store')\n",
    "for xls in xls_list:\n",
    "    temp = pd.read_excel('2012_2014/'+xls)\n",
    "    frames = [_2012_2014, temp]\n",
    "    _2012_2014 = pd.concat(frames)\n",
    "#Replacing Nans\n",
    "_2012_2014 = _2012_2014.fillna(\"\")\n",
    "#Concating relevant columns\n",
    "_2012_2014['Exportkontrollnummer [EKN]'] = _2012_2014[_2012_2014.columns[3:-2]].apply(\n",
    "    lambda x: ' '.join(x.dropna().astype(str)),\n",
    "    axis=1)\n",
    "#Stripping\n",
    "def stripping(elem):\n",
    "    return elem.strip()\n",
    "_2012_2014['Exportkontrollnummer [EKN]'] = _2012_2014['Exportkontrollnummer [EKN]'].apply(stripping)\n",
    "_2012_2014 = _2012_2014[['Geschäftsnummer', \"Bewilligungsdatum\", \"Endverbraucherland\", \"Wert\", \"Exportkontrollnummer [EKN]\"]].copy()\n",
    "_2012_2014.columns = ['Geschäftsnummer','Quartal','Bestimmungsland','Wert [CHF]','Exportkontrollnummer [EKN]']"
   ]
  },
  {
   "cell_type": "code",
   "execution_count": 8,
   "metadata": {},
   "outputs": [],
   "source": [
    "#Concating 2012 - 2014 into df\n",
    "frames = [df, _2012_2014]\n",
    "df = pd.concat(frames)"
   ]
  },
  {
   "cell_type": "code",
   "execution_count": 9,
   "metadata": {},
   "outputs": [],
   "source": [
    "#Bringing in 1997 - 2011 into df\n",
    "_1997_2011 = pd.read_excel('1997-2011/1997-2011.xlsx')\n",
    "_1997_2011 = _1997_2011.fillna(\"\")\n",
    "#Concating relevant columns\n",
    "_1997_2011['Exportkontrollnummer [EKN]'] = _1997_2011[_1997_2011.columns[5:-1]].apply(\n",
    "    lambda x: ' '.join(x.dropna().astype(str)),\n",
    "    axis=1)\n",
    "_1997_2011 = _1997_2011[[\"Geschäftstyp\", \"Richtung\", \"Bewilligungsnummer\", \n",
    "                        \"Bewilligungsdatum\", \"Bestimmungsland\", \"Wert\", \n",
    "                         \"Exportkontrollnummer [EKN]\"]].copy()\n",
    "def stripping(elem):\n",
    "    return elem.strip()\n",
    "_1997_2011['Exportkontrollnummer [EKN]'] = _1997_2011['Exportkontrollnummer [EKN]'].apply(stripping)\n",
    "_1997_2011.columns = ['Güterart','Richtung','Geschäftsnummer','Quartal','Bestimmungsland','Wert [CHF]','Exportkontrollnummer [EKN]']"
   ]
  },
  {
   "cell_type": "code",
   "execution_count": 10,
   "metadata": {},
   "outputs": [],
   "source": [
    "#Concating 1997 - 2011 with df\n",
    "frames = [df, _1997_2011]\n",
    "df = pd.concat(frames)"
   ]
  },
  {
   "cell_type": "code",
   "execution_count": 11,
   "metadata": {},
   "outputs": [
    {
     "name": "stdout",
     "output_type": "stream",
     "text": [
      "<class 'pandas.core.frame.DataFrame'>\n",
      "Int64Index: 40178 entries, 0 to 22363\n",
      "Data columns (total 8 columns):\n",
      " #   Column                      Non-Null Count  Dtype  \n",
      "---  ------                      --------------  -----  \n",
      " 0   Geschäftsnummer             40178 non-null  object \n",
      " 1   Bestimmungsland             40178 non-null  object \n",
      " 2   Güterart                    32687 non-null  object \n",
      " 3   Geschäftstyp                13096 non-null  object \n",
      " 4   Richtung                    35460 non-null  object \n",
      " 5   Exportkontrollnummer [EKN]  40178 non-null  object \n",
      " 6   Wert [CHF]                  40178 non-null  float64\n",
      " 7   Quartal                     40178 non-null  object \n",
      "dtypes: float64(1), object(7)\n",
      "memory usage: 2.8+ MB\n"
     ]
    }
   ],
   "source": [
    "df.info()"
   ]
  },
  {
   "cell_type": "code",
   "execution_count": 12,
   "metadata": {},
   "outputs": [],
   "source": [
    "#Dealing with dates\n",
    "def year(elem):\n",
    "    elem = str(elem)\n",
    "    if len(elem) > 16:\n",
    "        return elem.split(\"-\")[0]\n",
    "    elif len(elem) < 16:\n",
    "        return elem.split(\"-\")[-1]\n",
    "    else:\n",
    "        return \"N/A\"\n",
    "df['year'] = df['Quartal'].apply(year)"
   ]
  },
  {
   "cell_type": "code",
   "execution_count": 13,
   "metadata": {},
   "outputs": [],
   "source": [
    "df.index= pd.to_datetime(df['year'])"
   ]
  },
  {
   "cell_type": "code",
   "execution_count": 14,
   "metadata": {},
   "outputs": [],
   "source": [
    "#So amounts aren't too high\n",
    "df['Wert [CHF]'] = df['Wert [CHF]'] / 1000"
   ]
  },
  {
   "cell_type": "code",
   "execution_count": 15,
   "metadata": {},
   "outputs": [],
   "source": [
    "#Harmonizing countries\n",
    "def countries(elem):\n",
    "    if elem == \"Bangladesch\":\n",
    "        return \"Bangladesh\"\n",
    "    if elem == \"Belarus\":\n",
    "        return \"Weissrussland\"\n",
    "    if elem == \"Kongo, Republik\":\n",
    "        return \"Kongo-Brazzaville\"\n",
    "    if elem == \"Korea, Republik (Südkorea)\":\n",
    "        return \"Südkorea\"\n",
    "    if elem == \"Mazedonien (ehemalige jugoslawische Republik)\":\n",
    "        return \"Mazedonien\"\n",
    "    if elem == \"Moldova\":\n",
    "        return \"Moldau\"\n",
    "    if elem == \"Russische Föderation\":\n",
    "        return \"Russland\"\n",
    "    if elem == \"Slowakische Republik\":\n",
    "        return \"Slowakei\"\n",
    "    if elem == \"Tschechische Republik\":\n",
    "        return \"Tschechien\"\n",
    "    if elem == \"USA\":\n",
    "        return \"Vereinigte Staaten\"\n",
    "    if elem == \"Elfenbeinküste\":\n",
    "        return \"Côte d’Ivoire\"\n",
    "    if elem == \"Myanmar\":\n",
    "        return \"Burma\"\n",
    "    if elem == \"Qatar\":\n",
    "        return \"Katar\"\n",
    "    if elem == \"Rwanda\":\n",
    "        return \"Rwanda\"\n",
    "    if elem == \"Saudi-Arabien\":\n",
    "        return \"Saudiarabien\"\n",
    "    if elem == \"Gabun\":\n",
    "        return \"Gabon\"\n",
    "    if elem == \"Kenia\":\n",
    "        return \"Kenya\"\n",
    "    if elem == \"Kirgisistan\":\n",
    "        return \"Kirgistan\"\n",
    "    if elem == \"Georgien, Republik\":\n",
    "        return \"Georgien\"\n",
    "    if elem == \"Macao\":\n",
    "        return \"Macau\"\n",
    "    if elem == \"Vatikan\":\n",
    "        return \"Vatikanstadt\"\n",
    "    if elem == \"Nordmazedonien, Republik\":\n",
    "        return \"Mazedonien\"\n",
    "    if elem == \"Kongo, Demokratische Republik\":\n",
    "        return \"Kongo-Kinshasa\"\n",
    "    if elem == \"Taiwan, Provinz von China\":\n",
    "        return \"Taiwan\"\n",
    "    if elem == \"Hong Kong\":\n",
    "        return \"Hongkong\"\n",
    "    if elem == \"Pakistan (CA)\":\n",
    "        return \"Pakistan\"\n",
    "    if elem == \"Iran, Islamische Republik (SG)\":\n",
    "        return \"Iran\"\n",
    "    if elem == \"Korea, Republik\":\n",
    "        return \"Südkorea\"\n",
    "    if elem == \"Demokratische Republik Kongo\":\n",
    "        return \"Kongo-Kinshasa\"\n",
    "    if elem == \"Indien (CA)\":\n",
    "        return \"Indien\"\n",
    "    if elem == \"Mazedonien, die ehemalige jugoslawische Republik\":\n",
    "        return \"Mazedonien\"\n",
    "    if elem == \"Bosnien und Herzegowina\":\n",
    "        return \"Bosnien-Herzegowina\"\n",
    "    if elem == \"Lybien\":\n",
    "        return \"Libyen\"\n",
    "    if elem == \"Kaiman-Inseln\":\n",
    "        return \"Cayman-Inseln\"\n",
    "    if elem == \"Tansania, Vereinigte Republik\":\n",
    "        return \"Tansania\"\n",
    "    if elem == \"Zentralafrikanische Republik\":\n",
    "        return \"Zentralafrika\"\n",
    "    if elem == \"Brunei Darussalam\":\n",
    "        return \"Brunei\"\n",
    "    if elem == \"Laos, Demokratische Volksrepublik\":\n",
    "        return \"Laos\"\n",
    "    if elem == \"Iran, Islamische Republik\":\n",
    "        return \"Iran\"\n",
    "    if elem == \"Syrien, Arabische Republik\":\n",
    "        return \"Syrien\"\n",
    "    if elem == \"Jungfern-Inseln, Britische\":\n",
    "        return \"Britische Jungferninseln\"\n",
    "    if elem == \"Mosambik\":\n",
    "        return \"Moçambique\"\n",
    "    if elem == \"Korea, Demokratische Volksrepublik\":\n",
    "        return \"Nordkorea\"\n",
    "    if elem == \"Surinam\":\n",
    "        return \"Surinam\"\n",
    "    if elem == \"Kirgistan\":\n",
    "        return \"Kirgistan\"\n",
    "    if elem == \"Sao Tomé und Principe\":\n",
    "        return \"São Tomé und Príncipe\"\n",
    "    if elem == \"Norfolk-Inseln\":\n",
    "        return \"Norfolk Island\"\n",
    "    if elem == \"Moldau, Republik\":\n",
    "        return \"Moldau\"\n",
    "    if elem == \"Französisch-Guyana\":\n",
    "        return \"Französisch-Guayana\"\n",
    "    if elem == \"Serbia\":\n",
    "        return \"Serbien\"\n",
    "    if elem == \"China, Taiwan\":\n",
    "        return \"Taiwan\"\n",
    "    if elem == \"China, Volksrepublik\":\n",
    "        return \"China\"\n",
    "    if elem == \"Vereinigte Staaten von Amerika\":\n",
    "        return \"Vereinigte Staaten\"\n",
    "    if elem == \"Ekuador\":\n",
    "        return \"Ecuador\"\n",
    "    if elem == \"Myanmar (Union)\":\n",
    "        return \"Myanmar\"\n",
    "    if elem == \"Saudiarabien\":\n",
    "        return \"Saudiarabien\"\n",
    "    if elem == \"Frankreich (mit Monaco)\":\n",
    "        return \"Frankreich\"\n",
    "    if elem == \"Kongo, Demokratische Republik (ex-Zaire)\":\n",
    "        return \"Kongo-Brazzaville\"\n",
    "    if elem == \"Slowakei, Slowakische Republik\":\n",
    "        return \"Slowakei\"\n",
    "    if elem == \"Großbritannien (Vereinigtes Königreich)\":\n",
    "        return \"Grossbritannien\"\n",
    "    if elem == \"Kroatien (Hrvatska)\":\n",
    "        return \"Kroatien\"\n",
    "    if elem == \"Myanmar (Birma)\":\n",
    "        return \"Burma\"\n",
    "    if elem == \"Libysch-Arabische Dschamahirija\":\n",
    "        return \"Libyen\"\n",
    "    if elem == \"Zaïre\":\n",
    "        return \"Kongo-Kinshasa\"\n",
    "    if elem == \"Guadeloupe\":\n",
    "        return \"Frankreich\"\n",
    "    else:\n",
    "        return elem\n",
    "df['Bestimmungsland'] = df['Bestimmungsland'].apply(countries)"
   ]
  },
  {
   "cell_type": "markdown",
   "metadata": {},
   "source": [
    "## 5A002 Systeme für „Informationssicherheit“, Geräte und Bestandteile"
   ]
  },
  {
   "cell_type": "code",
   "execution_count": 16,
   "metadata": {},
   "outputs": [],
   "source": [
    "def finding5A002(elem):\n",
    "    \n",
    "    elem = elem.upper()\n",
    "    \n",
    "    if \"5A002\" in elem:\n",
    "        return True\n",
    "    else:\n",
    "        return False\n",
    "    \n",
    "df['Krypto'] = df['Exportkontrollnummer [EKN]'].apply(finding5A002)"
   ]
  },
  {
   "cell_type": "code",
   "execution_count": 17,
   "metadata": {},
   "outputs": [],
   "source": [
    "def finding5D002(elem):\n",
    "    \n",
    "    elem = elem.lower()\n",
    "    \n",
    "    if \"5d002\" in elem:\n",
    "        return True\n",
    "    else:\n",
    "        return False\n",
    "    \n",
    "df['Krypto_Software'] = df['Exportkontrollnummer [EKN]'].apply(finding5D002)"
   ]
  },
  {
   "cell_type": "markdown",
   "metadata": {},
   "source": [
    "## Total Exporte"
   ]
  },
  {
   "cell_type": "code",
   "execution_count": 18,
   "metadata": {},
   "outputs": [
    {
     "data": {
      "text/plain": [
       "457842.35917"
      ]
     },
     "execution_count": 18,
     "metadata": {},
     "output_type": "execute_result"
    }
   ],
   "source": [
    "#Total Krypto-Sales 1997 - 2019\n",
    "df['All Krypto'] = df['Krypto'] | df['Krypto_Software']\n",
    "crypto = df[df['All Krypto']==True]\n",
    "crypto['Wert [CHF]'].sum()"
   ]
  },
  {
   "cell_type": "code",
   "execution_count": 19,
   "metadata": {},
   "outputs": [
    {
     "data": {
      "text/plain": [
       "16237068.836099999"
      ]
     },
     "execution_count": 19,
     "metadata": {},
     "output_type": "execute_result"
    }
   ],
   "source": [
    "#All sales\n",
    "df['Wert [CHF]'].sum()"
   ]
  },
  {
   "cell_type": "code",
   "execution_count": 20,
   "metadata": {},
   "outputs": [
    {
     "data": {
      "text/plain": [
       "2.8"
      ]
     },
     "execution_count": 20,
     "metadata": {},
     "output_type": "execute_result"
    }
   ],
   "source": [
    "#Anteil Krypto\n",
    "round(crypto['Wert [CHF]'].sum() / df['Wert [CHF]'].sum() * 100, 1)"
   ]
  },
  {
   "cell_type": "markdown",
   "metadata": {},
   "source": [
    "## Country 99"
   ]
  },
  {
   "cell_type": "code",
   "execution_count": 21,
   "metadata": {},
   "outputs": [
    {
     "data": {
      "text/html": [
       "<div>\n",
       "<style scoped>\n",
       "    .dataframe tbody tr th:only-of-type {\n",
       "        vertical-align: middle;\n",
       "    }\n",
       "\n",
       "    .dataframe tbody tr th {\n",
       "        vertical-align: top;\n",
       "    }\n",
       "\n",
       "    .dataframe thead th {\n",
       "        text-align: right;\n",
       "    }\n",
       "</style>\n",
       "<table border=\"1\" class=\"dataframe\">\n",
       "  <thead>\n",
       "    <tr style=\"text-align: right;\">\n",
       "      <th></th>\n",
       "      <th>Geschäftsnummer</th>\n",
       "      <th>Bestimmungsland</th>\n",
       "      <th>Güterart</th>\n",
       "      <th>Geschäftstyp</th>\n",
       "      <th>Richtung</th>\n",
       "      <th>Exportkontrollnummer [EKN]</th>\n",
       "      <th>Wert [CHF]</th>\n",
       "      <th>Quartal</th>\n",
       "      <th>year</th>\n",
       "      <th>Krypto</th>\n",
       "      <th>Krypto_Software</th>\n",
       "      <th>All Krypto</th>\n",
       "    </tr>\n",
       "    <tr>\n",
       "      <th>year</th>\n",
       "      <th></th>\n",
       "      <th></th>\n",
       "      <th></th>\n",
       "      <th></th>\n",
       "      <th></th>\n",
       "      <th></th>\n",
       "      <th></th>\n",
       "      <th></th>\n",
       "      <th></th>\n",
       "      <th></th>\n",
       "      <th></th>\n",
       "      <th></th>\n",
       "    </tr>\n",
       "  </thead>\n",
       "  <tbody>\n",
       "    <tr>\n",
       "      <th>1997-01-01</th>\n",
       "      <td>43934</td>\n",
       "      <td>Country 99</td>\n",
       "      <td>DUAL_USE</td>\n",
       "      <td>NaN</td>\n",
       "      <td>EXPORT</td>\n",
       "      <td>SL5A002.a</td>\n",
       "      <td>0.00</td>\n",
       "      <td>1997-12-05 00:00:00</td>\n",
       "      <td>1997</td>\n",
       "      <td>True</td>\n",
       "      <td>False</td>\n",
       "      <td>True</td>\n",
       "    </tr>\n",
       "    <tr>\n",
       "      <th>1997-01-01</th>\n",
       "      <td>43934</td>\n",
       "      <td>Country 99</td>\n",
       "      <td>DUAL_USE</td>\n",
       "      <td>NaN</td>\n",
       "      <td>EXPORT</td>\n",
       "      <td>SL5A002.a</td>\n",
       "      <td>614.21</td>\n",
       "      <td>1997-12-05 00:00:00</td>\n",
       "      <td>1997</td>\n",
       "      <td>True</td>\n",
       "      <td>False</td>\n",
       "      <td>True</td>\n",
       "    </tr>\n",
       "  </tbody>\n",
       "</table>\n",
       "</div>"
      ],
      "text/plain": [
       "           Geschäftsnummer Bestimmungsland  Güterart Geschäftstyp Richtung  \\\n",
       "year                                                                         \n",
       "1997-01-01           43934      Country 99  DUAL_USE          NaN   EXPORT   \n",
       "1997-01-01           43934      Country 99  DUAL_USE          NaN   EXPORT   \n",
       "\n",
       "           Exportkontrollnummer [EKN]  Wert [CHF]              Quartal  year  \\\n",
       "year                                                                           \n",
       "1997-01-01                  SL5A002.a        0.00  1997-12-05 00:00:00  1997   \n",
       "1997-01-01                  SL5A002.a      614.21  1997-12-05 00:00:00  1997   \n",
       "\n",
       "            Krypto  Krypto_Software  All Krypto  \n",
       "year                                             \n",
       "1997-01-01    True            False        True  \n",
       "1997-01-01    True            False        True  "
      ]
     },
     "execution_count": 21,
     "metadata": {},
     "output_type": "execute_result"
    }
   ],
   "source": [
    "crypto[crypto['Bestimmungsland']=='Country 99']"
   ]
  },
  {
   "cell_type": "markdown",
   "metadata": {},
   "source": [
    "## Die grössten Krypto Exporte \n",
    "[Hier abgelegt](https://docs.google.com/spreadsheets/d/1k5IDNAiG23ZrgBaHpCKnOI6l7MJ2UUx67UJDu2PKzOw/edit?usp=sharing)"
   ]
  },
  {
   "cell_type": "code",
   "execution_count": 22,
   "metadata": {},
   "outputs": [],
   "source": [
    "crypto = df[df['All Krypto']==True]"
   ]
  },
  {
   "cell_type": "code",
   "execution_count": 23,
   "metadata": {},
   "outputs": [
    {
     "data": {
      "text/html": [
       "<div>\n",
       "<style scoped>\n",
       "    .dataframe tbody tr th:only-of-type {\n",
       "        vertical-align: middle;\n",
       "    }\n",
       "\n",
       "    .dataframe tbody tr th {\n",
       "        vertical-align: top;\n",
       "    }\n",
       "\n",
       "    .dataframe thead th {\n",
       "        text-align: right;\n",
       "    }\n",
       "</style>\n",
       "<table border=\"1\" class=\"dataframe\">\n",
       "  <thead>\n",
       "    <tr style=\"text-align: right;\">\n",
       "      <th></th>\n",
       "      <th>Geschäftsnummer</th>\n",
       "      <th>Bestimmungsland</th>\n",
       "      <th>Güterart</th>\n",
       "      <th>Geschäftstyp</th>\n",
       "      <th>Richtung</th>\n",
       "      <th>Exportkontrollnummer [EKN]</th>\n",
       "      <th>Wert [CHF]</th>\n",
       "      <th>Quartal</th>\n",
       "      <th>year</th>\n",
       "      <th>Krypto</th>\n",
       "      <th>Krypto_Software</th>\n",
       "      <th>All Krypto</th>\n",
       "    </tr>\n",
       "    <tr>\n",
       "      <th>year</th>\n",
       "      <th></th>\n",
       "      <th></th>\n",
       "      <th></th>\n",
       "      <th></th>\n",
       "      <th></th>\n",
       "      <th></th>\n",
       "      <th></th>\n",
       "      <th></th>\n",
       "      <th></th>\n",
       "      <th></th>\n",
       "      <th></th>\n",
       "      <th></th>\n",
       "    </tr>\n",
       "  </thead>\n",
       "  <tbody>\n",
       "    <tr>\n",
       "      <th>2016-01-01</th>\n",
       "      <td>8008508</td>\n",
       "      <td>Irak</td>\n",
       "      <td>Dual Use Güter</td>\n",
       "      <td>Einzelbewilligung</td>\n",
       "      <td>Ausfuhr</td>\n",
       "      <td>5A002.a1a</td>\n",
       "      <td>48620.0</td>\n",
       "      <td>2.-Quartal-2016</td>\n",
       "      <td>2016</td>\n",
       "      <td>True</td>\n",
       "      <td>False</td>\n",
       "      <td>True</td>\n",
       "    </tr>\n",
       "    <tr>\n",
       "      <th>2012-01-01</th>\n",
       "      <td>12657</td>\n",
       "      <td>Bahrain</td>\n",
       "      <td>NaN</td>\n",
       "      <td>NaN</td>\n",
       "      <td>NaN</td>\n",
       "      <td>5A002a1a</td>\n",
       "      <td>19500.0</td>\n",
       "      <td>2012-08-02 00:00:00</td>\n",
       "      <td>2012</td>\n",
       "      <td>True</td>\n",
       "      <td>False</td>\n",
       "      <td>True</td>\n",
       "    </tr>\n",
       "    <tr>\n",
       "      <th>2013-01-01</th>\n",
       "      <td>15072</td>\n",
       "      <td>Jordanien</td>\n",
       "      <td>NaN</td>\n",
       "      <td>NaN</td>\n",
       "      <td>NaN</td>\n",
       "      <td>5A002a1a</td>\n",
       "      <td>16560.0</td>\n",
       "      <td>2013-12-13 00:00:00</td>\n",
       "      <td>2013</td>\n",
       "      <td>True</td>\n",
       "      <td>False</td>\n",
       "      <td>True</td>\n",
       "    </tr>\n",
       "    <tr>\n",
       "      <th>2009-01-01</th>\n",
       "      <td>7204</td>\n",
       "      <td>Marokko</td>\n",
       "      <td>DUAL_USE</td>\n",
       "      <td>NaN</td>\n",
       "      <td>EXPORT</td>\n",
       "      <td>5A002</td>\n",
       "      <td>13404.0</td>\n",
       "      <td>2009-01-20 00:00:00</td>\n",
       "      <td>2009</td>\n",
       "      <td>True</td>\n",
       "      <td>False</td>\n",
       "      <td>True</td>\n",
       "    </tr>\n",
       "    <tr>\n",
       "      <th>2016-01-01</th>\n",
       "      <td>8008508</td>\n",
       "      <td>Irak</td>\n",
       "      <td>Dual Use Güter</td>\n",
       "      <td>Einzelbewilligung</td>\n",
       "      <td>Ausfuhr</td>\n",
       "      <td>5A002.a1a</td>\n",
       "      <td>13362.0</td>\n",
       "      <td>2.-Quartal-2016</td>\n",
       "      <td>2016</td>\n",
       "      <td>True</td>\n",
       "      <td>False</td>\n",
       "      <td>True</td>\n",
       "    </tr>\n",
       "  </tbody>\n",
       "</table>\n",
       "</div>"
      ],
      "text/plain": [
       "           Geschäftsnummer Bestimmungsland        Güterart       Geschäftstyp  \\\n",
       "year                                                                            \n",
       "2016-01-01         8008508            Irak  Dual Use Güter  Einzelbewilligung   \n",
       "2012-01-01           12657         Bahrain             NaN                NaN   \n",
       "2013-01-01           15072       Jordanien             NaN                NaN   \n",
       "2009-01-01            7204         Marokko        DUAL_USE                NaN   \n",
       "2016-01-01         8008508            Irak  Dual Use Güter  Einzelbewilligung   \n",
       "\n",
       "           Richtung Exportkontrollnummer [EKN]  Wert [CHF]  \\\n",
       "year                                                         \n",
       "2016-01-01  Ausfuhr                  5A002.a1a     48620.0   \n",
       "2012-01-01      NaN                   5A002a1a     19500.0   \n",
       "2013-01-01      NaN                   5A002a1a     16560.0   \n",
       "2009-01-01   EXPORT                      5A002     13404.0   \n",
       "2016-01-01  Ausfuhr                  5A002.a1a     13362.0   \n",
       "\n",
       "                        Quartal  year  Krypto  Krypto_Software  All Krypto  \n",
       "year                                                                        \n",
       "2016-01-01      2.-Quartal-2016  2016    True            False        True  \n",
       "2012-01-01  2012-08-02 00:00:00  2012    True            False        True  \n",
       "2013-01-01  2013-12-13 00:00:00  2013    True            False        True  \n",
       "2009-01-01  2009-01-20 00:00:00  2009    True            False        True  \n",
       "2016-01-01      2.-Quartal-2016  2016    True            False        True  "
      ]
     },
     "execution_count": 23,
     "metadata": {},
     "output_type": "execute_result"
    }
   ],
   "source": [
    "crypto.sort_values(by=\"Wert [CHF]\", ascending=False).head(5)"
   ]
  },
  {
   "cell_type": "markdown",
   "metadata": {},
   "source": [
    "## Alle Exporte nach Land"
   ]
  },
  {
   "cell_type": "code",
   "execution_count": 24,
   "metadata": {},
   "outputs": [
    {
     "data": {
      "text/plain": [
       "<matplotlib.axes._subplots.AxesSubplot at 0x111813110>"
      ]
     },
     "execution_count": 24,
     "metadata": {},
     "output_type": "execute_result"
    },
    {
     "data": {
      "image/png": "[encoded data removed]",
      "text/plain": [
       "<Figure size 432x288 with 1 Axes>"
      ]
     },
     "metadata": {
      "needs_background": "light"
     },
     "output_type": "display_data"
    }
   ],
   "source": [
    "crypto.groupby('Bestimmungsland')['Wert [CHF]'].sum().sort_values(ascending=True).tail(10).plot(kind='barh')"
   ]
  },
  {
   "cell_type": "code",
   "execution_count": 25,
   "metadata": {},
   "outputs": [
    {
     "data": {
      "text/html": [
       "<div>\n",
       "<style scoped>\n",
       "    .dataframe tbody tr th:only-of-type {\n",
       "        vertical-align: middle;\n",
       "    }\n",
       "\n",
       "    .dataframe tbody tr th {\n",
       "        vertical-align: top;\n",
       "    }\n",
       "\n",
       "    .dataframe thead th {\n",
       "        text-align: right;\n",
       "    }\n",
       "</style>\n",
       "<table border=\"1\" class=\"dataframe\">\n",
       "  <thead>\n",
       "    <tr style=\"text-align: right;\">\n",
       "      <th></th>\n",
       "      <th>Geschäftsnummer</th>\n",
       "      <th>Bestimmungsland</th>\n",
       "      <th>Güterart</th>\n",
       "      <th>Geschäftstyp</th>\n",
       "      <th>Richtung</th>\n",
       "      <th>Exportkontrollnummer [EKN]</th>\n",
       "      <th>Wert [CHF]</th>\n",
       "      <th>Quartal</th>\n",
       "      <th>year</th>\n",
       "      <th>Krypto</th>\n",
       "      <th>Krypto_Software</th>\n",
       "      <th>All Krypto</th>\n",
       "    </tr>\n",
       "    <tr>\n",
       "      <th>year</th>\n",
       "      <th></th>\n",
       "      <th></th>\n",
       "      <th></th>\n",
       "      <th></th>\n",
       "      <th></th>\n",
       "      <th></th>\n",
       "      <th></th>\n",
       "      <th></th>\n",
       "      <th></th>\n",
       "      <th></th>\n",
       "      <th></th>\n",
       "      <th></th>\n",
       "    </tr>\n",
       "  </thead>\n",
       "  <tbody>\n",
       "    <tr>\n",
       "      <th>2016-01-01</th>\n",
       "      <td>8008508</td>\n",
       "      <td>Irak</td>\n",
       "      <td>Dual Use Güter</td>\n",
       "      <td>Einzelbewilligung</td>\n",
       "      <td>Ausfuhr</td>\n",
       "      <td>5A002.a1a</td>\n",
       "      <td>48620.000</td>\n",
       "      <td>2.-Quartal-2016</td>\n",
       "      <td>2016</td>\n",
       "      <td>True</td>\n",
       "      <td>False</td>\n",
       "      <td>True</td>\n",
       "    </tr>\n",
       "    <tr>\n",
       "      <th>2012-01-01</th>\n",
       "      <td>12657</td>\n",
       "      <td>Bahrain</td>\n",
       "      <td>NaN</td>\n",
       "      <td>NaN</td>\n",
       "      <td>NaN</td>\n",
       "      <td>5A002a1a</td>\n",
       "      <td>19500.000</td>\n",
       "      <td>2012-08-02 00:00:00</td>\n",
       "      <td>2012</td>\n",
       "      <td>True</td>\n",
       "      <td>False</td>\n",
       "      <td>True</td>\n",
       "    </tr>\n",
       "    <tr>\n",
       "      <th>2013-01-01</th>\n",
       "      <td>15072</td>\n",
       "      <td>Jordanien</td>\n",
       "      <td>NaN</td>\n",
       "      <td>NaN</td>\n",
       "      <td>NaN</td>\n",
       "      <td>5A002a1a</td>\n",
       "      <td>16560.000</td>\n",
       "      <td>2013-12-13 00:00:00</td>\n",
       "      <td>2013</td>\n",
       "      <td>True</td>\n",
       "      <td>False</td>\n",
       "      <td>True</td>\n",
       "    </tr>\n",
       "    <tr>\n",
       "      <th>2009-01-01</th>\n",
       "      <td>7204</td>\n",
       "      <td>Marokko</td>\n",
       "      <td>DUAL_USE</td>\n",
       "      <td>NaN</td>\n",
       "      <td>EXPORT</td>\n",
       "      <td>5A002</td>\n",
       "      <td>13404.000</td>\n",
       "      <td>2009-01-20 00:00:00</td>\n",
       "      <td>2009</td>\n",
       "      <td>True</td>\n",
       "      <td>False</td>\n",
       "      <td>True</td>\n",
       "    </tr>\n",
       "    <tr>\n",
       "      <th>2016-01-01</th>\n",
       "      <td>8008508</td>\n",
       "      <td>Irak</td>\n",
       "      <td>Dual Use Güter</td>\n",
       "      <td>Einzelbewilligung</td>\n",
       "      <td>Ausfuhr</td>\n",
       "      <td>5A002.a1a</td>\n",
       "      <td>13362.000</td>\n",
       "      <td>2.-Quartal-2016</td>\n",
       "      <td>2016</td>\n",
       "      <td>True</td>\n",
       "      <td>False</td>\n",
       "      <td>True</td>\n",
       "    </tr>\n",
       "    <tr>\n",
       "      <th>2016-01-01</th>\n",
       "      <td>8008509</td>\n",
       "      <td>Irak</td>\n",
       "      <td>Dual Use Güter</td>\n",
       "      <td>Einzelbewilligung</td>\n",
       "      <td>Ausfuhr</td>\n",
       "      <td>5A002.a1a</td>\n",
       "      <td>10750.000</td>\n",
       "      <td>2.-Quartal-2016</td>\n",
       "      <td>2016</td>\n",
       "      <td>True</td>\n",
       "      <td>False</td>\n",
       "      <td>True</td>\n",
       "    </tr>\n",
       "    <tr>\n",
       "      <th>2001-01-01</th>\n",
       "      <td>48494</td>\n",
       "      <td>Vereinigte Staaten</td>\n",
       "      <td>DUAL_USE</td>\n",
       "      <td>NaN</td>\n",
       "      <td>EXPORT</td>\n",
       "      <td>5A002.a1a</td>\n",
       "      <td>10432.812</td>\n",
       "      <td>2001-08-30 00:00:00</td>\n",
       "      <td>2001</td>\n",
       "      <td>True</td>\n",
       "      <td>False</td>\n",
       "      <td>True</td>\n",
       "    </tr>\n",
       "    <tr>\n",
       "      <th>2014-01-01</th>\n",
       "      <td>15774</td>\n",
       "      <td>Saudiarabien</td>\n",
       "      <td>NaN</td>\n",
       "      <td>NaN</td>\n",
       "      <td>NaN</td>\n",
       "      <td>5D002c1</td>\n",
       "      <td>6050.000</td>\n",
       "      <td>2014-06-16 00:00:00</td>\n",
       "      <td>2014</td>\n",
       "      <td>False</td>\n",
       "      <td>True</td>\n",
       "      <td>True</td>\n",
       "    </tr>\n",
       "    <tr>\n",
       "      <th>1998-01-01</th>\n",
       "      <td>45035</td>\n",
       "      <td>Algerien</td>\n",
       "      <td>DUAL_USE</td>\n",
       "      <td>NaN</td>\n",
       "      <td>EXPORT</td>\n",
       "      <td>5A002.a</td>\n",
       "      <td>5038.675</td>\n",
       "      <td>1998-12-15 00:00:00</td>\n",
       "      <td>1998</td>\n",
       "      <td>True</td>\n",
       "      <td>False</td>\n",
       "      <td>True</td>\n",
       "    </tr>\n",
       "    <tr>\n",
       "      <th>2002-01-01</th>\n",
       "      <td>50100</td>\n",
       "      <td>Libyen</td>\n",
       "      <td>DUAL_USE</td>\n",
       "      <td>NaN</td>\n",
       "      <td>EXPORT</td>\n",
       "      <td>5A002.a1a</td>\n",
       "      <td>4706.340</td>\n",
       "      <td>2002-08-23 00:00:00</td>\n",
       "      <td>2002</td>\n",
       "      <td>True</td>\n",
       "      <td>False</td>\n",
       "      <td>True</td>\n",
       "    </tr>\n",
       "  </tbody>\n",
       "</table>\n",
       "</div>"
      ],
      "text/plain": [
       "           Geschäftsnummer     Bestimmungsland        Güterart  \\\n",
       "year                                                             \n",
       "2016-01-01         8008508                Irak  Dual Use Güter   \n",
       "2012-01-01           12657             Bahrain             NaN   \n",
       "2013-01-01           15072           Jordanien             NaN   \n",
       "2009-01-01            7204             Marokko        DUAL_USE   \n",
       "2016-01-01         8008508                Irak  Dual Use Güter   \n",
       "2016-01-01         8008509                Irak  Dual Use Güter   \n",
       "2001-01-01           48494  Vereinigte Staaten        DUAL_USE   \n",
       "2014-01-01           15774        Saudiarabien             NaN   \n",
       "1998-01-01           45035            Algerien        DUAL_USE   \n",
       "2002-01-01           50100              Libyen        DUAL_USE   \n",
       "\n",
       "                 Geschäftstyp Richtung Exportkontrollnummer [EKN]  Wert [CHF]  \\\n",
       "year                                                                            \n",
       "2016-01-01  Einzelbewilligung  Ausfuhr                  5A002.a1a   48620.000   \n",
       "2012-01-01                NaN      NaN                   5A002a1a   19500.000   \n",
       "2013-01-01                NaN      NaN                   5A002a1a   16560.000   \n",
       "2009-01-01                NaN   EXPORT                      5A002   13404.000   \n",
       "2016-01-01  Einzelbewilligung  Ausfuhr                  5A002.a1a   13362.000   \n",
       "2016-01-01  Einzelbewilligung  Ausfuhr                  5A002.a1a   10750.000   \n",
       "2001-01-01                NaN   EXPORT                  5A002.a1a   10432.812   \n",
       "2014-01-01                NaN      NaN                    5D002c1    6050.000   \n",
       "1998-01-01                NaN   EXPORT                    5A002.a    5038.675   \n",
       "2002-01-01                NaN   EXPORT                  5A002.a1a    4706.340   \n",
       "\n",
       "                        Quartal  year  Krypto  Krypto_Software  All Krypto  \n",
       "year                                                                        \n",
       "2016-01-01      2.-Quartal-2016  2016    True            False        True  \n",
       "2012-01-01  2012-08-02 00:00:00  2012    True            False        True  \n",
       "2013-01-01  2013-12-13 00:00:00  2013    True            False        True  \n",
       "2009-01-01  2009-01-20 00:00:00  2009    True            False        True  \n",
       "2016-01-01      2.-Quartal-2016  2016    True            False        True  \n",
       "2016-01-01      2.-Quartal-2016  2016    True            False        True  \n",
       "2001-01-01  2001-08-30 00:00:00  2001    True            False        True  \n",
       "2014-01-01  2014-06-16 00:00:00  2014   False             True        True  \n",
       "1998-01-01  1998-12-15 00:00:00  1998    True            False        True  \n",
       "2002-01-01  2002-08-23 00:00:00  2002    True            False        True  "
      ]
     },
     "execution_count": 25,
     "metadata": {},
     "output_type": "execute_result"
    }
   ],
   "source": [
    "crypto.sort_values(by='Wert [CHF]', ascending=False).head(10)"
   ]
  },
  {
   "cell_type": "markdown",
   "metadata": {},
   "source": [
    "## Maximal Exporte nach Land"
   ]
  },
  {
   "cell_type": "code",
   "execution_count": 50,
   "metadata": {},
   "outputs": [
    {
     "data": {
      "text/plain": [
       "<matplotlib.axes._subplots.AxesSubplot at 0x117566d10>"
      ]
     },
     "execution_count": 50,
     "metadata": {},
     "output_type": "execute_result"
    },
    {
     "data": {
      "image/png": "[encoded data removed]",
      "text/plain": [
       "<Figure size 432x288 with 1 Axes>"
      ]
     },
     "metadata": {
      "needs_background": "light"
     },
     "output_type": "display_data"
    }
   ],
   "source": [
    "crypto.groupby('Bestimmungsland')['Wert [CHF]'].max().sort_values(ascending=True).tail(10).plot(kind='barh')"
   ]
  },
  {
   "cell_type": "markdown",
   "metadata": {},
   "source": [
    "## Zeitverlauf"
   ]
  },
  {
   "cell_type": "code",
   "execution_count": 51,
   "metadata": {},
   "outputs": [],
   "source": [
    "df.index= pd.to_datetime(df['year'])"
   ]
  },
  {
   "cell_type": "code",
   "execution_count": 52,
   "metadata": {},
   "outputs": [
    {
     "data": {
      "text/plain": [
       "<matplotlib.axes._subplots.AxesSubplot at 0x117823c90>"
      ]
     },
     "execution_count": 52,
     "metadata": {},
     "output_type": "execute_result"
    },
    {
     "data": {
      "image/png": "[encoded data removed]",
      "text/plain": [
       "<Figure size 432x288 with 1 Axes>"
      ]
     },
     "metadata": {
      "needs_background": "light"
     },
     "output_type": "display_data"
    }
   ],
   "source": [
    "#In tausend CHF\n",
    "crypto = df[df['All Krypto']==True]\n",
    "crypto.resample('A')[\"Wert [CHF]\"].sum().plot()"
   ]
  },
  {
   "cell_type": "markdown",
   "metadata": {},
   "source": [
    "## Irak"
   ]
  },
  {
   "cell_type": "code",
   "execution_count": 54,
   "metadata": {},
   "outputs": [
    {
     "data": {
      "text/plain": [
       "<matplotlib.axes._subplots.AxesSubplot at 0x117bfdb90>"
      ]
     },
     "execution_count": 54,
     "metadata": {},
     "output_type": "execute_result"
    },
    {
     "data": {
      "image/png": "[encoded data removed]",
      "text/plain": [
       "<Figure size 432x288 with 1 Axes>"
      ]
     },
     "metadata": {
      "needs_background": "light"
     },
     "output_type": "display_data"
    }
   ],
   "source": [
    "irak = crypto[crypto['Bestimmungsland']=='Irak']\n",
    "irak.resample('A')[\"Wert [CHF]\"].sum().plot()"
   ]
  },
  {
   "cell_type": "markdown",
   "metadata": {},
   "source": [
    "## Venezuela"
   ]
  },
  {
   "cell_type": "code",
   "execution_count": 55,
   "metadata": {},
   "outputs": [
    {
     "data": {
      "text/plain": [
       "<matplotlib.axes._subplots.AxesSubplot at 0x117cb1cd0>"
      ]
     },
     "execution_count": 55,
     "metadata": {},
     "output_type": "execute_result"
    },
    {
     "data": {
      "image/png": "[encoded data removed]",
      "text/plain": [
       "<Figure size 432x288 with 1 Axes>"
      ]
     },
     "metadata": {
      "needs_background": "light"
     },
     "output_type": "display_data"
    }
   ],
   "source": [
    "Ven = crypto[crypto['Bestimmungsland']=='Venezuela']\n",
    "Ven.resample('A')[\"Wert [CHF]\"].sum().plot()"
   ]
  }
 ],
 "metadata": {
  "kernelspec": {
   "display_name": "Python 3",
   "language": "python",
   "name": "python3"
  },
  "language_info": {
   "codemirror_mode": {
    "name": "ipython",
    "version": 3
   },
   "file_extension": ".py",
   "mimetype": "text/x-python",
   "name": "python",
   "nbconvert_exporter": "python",
   "pygments_lexer": "ipython3",
   "version": "3.7.6"
  }
 },
 "nbformat": 4,
 "nbformat_minor": 4
}
