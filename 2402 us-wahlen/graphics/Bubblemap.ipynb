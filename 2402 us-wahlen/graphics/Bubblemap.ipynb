{
 "cells": [
  {
   "cell_type": "code",
   "execution_count": 1,
   "id": "f71eeac0-f44c-4023-97a9-c15803db4e3e",
   "metadata": {
    "tags": []
   },
   "outputs": [],
   "source": [
    "import json\n",
    "import copy\n",
    "import os"
   ]
  },
  {
   "cell_type": "markdown",
   "id": "8926dc87-4d6c-4b92-9029-f8ea0ba7b35d",
   "metadata": {},
   "source": [
    "TopoJSON mit allen Daten laden:"
   ]
  },
  {
   "cell_type": "code",
   "execution_count": 2,
   "id": "5a49fa9e-d86d-475d-82ee-f2e6dfe38a8f",
   "metadata": {
    "tags": []
   },
   "outputs": [],
   "source": [
    "with open('temp/windofchange.topo.json', 'r') as f:\n",
    "    windofchange = json.load(f)"
   ]
  },
  {
   "cell_type": "markdown",
   "id": "3160cfe5-e4f8-43a7-b6d8-1db6d51f99c3",
   "metadata": {},
   "source": [
    "Spec-Gerüst laden:"
   ]
  },
  {
   "cell_type": "code",
   "execution_count": 3,
   "id": "d12e5ece-f107-40ed-bb35-f61966df0c4b",
   "metadata": {
    "tags": []
   },
   "outputs": [],
   "source": [
    "with open('specs/bubble-mw.vg.json', 'r') as f:\n",
    "    spec_mw = json.load(f)"
   ]
  },
  {
   "cell_type": "code",
   "execution_count": 4,
   "id": "f0b4c442-90a8-4c56-a4e5-875ba0bbe2c5",
   "metadata": {
    "tags": []
   },
   "outputs": [],
   "source": [
    "folder_path = 'temp/specs/'\n",
    "\n",
    "if not os.path.exists(folder_path):\n",
    "    os.makedirs(folder_path)"
   ]
  },
  {
   "cell_type": "markdown",
   "id": "e3ce7954-5574-44af-8e5e-476a45e8ec0b",
   "metadata": {},
   "source": [
    "### mw-Version\n",
    "\n",
    "Daten anhängen und speichern:  \n",
    "Achtung das Ganze muss `windofchange` heissen. So ist es im Vega-Spec hinterlegt."
   ]
  },
  {
   "cell_type": "code",
   "execution_count": 5,
   "id": "6432a284-b3bb-4269-8fac-d2e4e1fc6a7e",
   "metadata": {
    "tags": []
   },
   "outputs": [],
   "source": [
    "spec_mw['data'][1]['values'] = windofchange"
   ]
  },
  {
   "cell_type": "code",
   "execution_count": 6,
   "id": "804f0340-3c6b-4578-b2a7-59d384af8429",
   "metadata": {
    "tags": []
   },
   "outputs": [],
   "source": [
    "with open('temp/specs/bubble-mw.vg.json', 'w') as f:\n",
    "    json.dump(spec_mw, f, indent=4)"
   ]
  },
  {
   "cell_type": "markdown",
   "id": "1e2fd68a-9eb4-4820-b694-5e68fbffa85b",
   "metadata": {},
   "source": [
    "Das File `temp/specs/bubble-mw.vg.json` kann man in Jupyter Lab öffnen und kriegt eine Vorschau. Vega ist integriert."
   ]
  },
  {
   "cell_type": "markdown",
   "id": "7186c984-0181-43d8-9033-31540bfff097",
   "metadata": {},
   "source": [
    "### cw-Version\n",
    "\n",
    "Basiert auf der mw-spec und adaptiert sie"
   ]
  },
  {
   "cell_type": "code",
   "execution_count": 7,
   "id": "dc72cdc9-e59c-4d00-893a-e01f01dff996",
   "metadata": {
    "tags": []
   },
   "outputs": [],
   "source": [
    "spec_cw = copy.deepcopy(spec_mw)\n",
    "spec_cw[\"width\"] = 630\n",
    "spec_cw[\"height\"] = 500\n",
    "\n",
    "# Vergrössern und neu zentrieren\n",
    "spec_cw[\"projections\"][0][\"scale\"] = 850\n",
    "spec_cw[\"projections\"][0][\"translate\"] = [320, 200]\n",
    "\n",
    "# Kreise grösser machen\n",
    "spec_cw[\"scales\"][1][\"range\"] = [5, 600]\n",
    "\n",
    "# Speichern\n",
    "with open('temp/specs/bubble-cw.vg.json', 'w') as f:\n",
    "    json.dump(spec_cw, f, indent=4)"
   ]
  },
  {
   "cell_type": "markdown",
   "id": "bf180bb6-7d14-4b74-bb40-a8dcf6c3962b",
   "metadata": {},
   "source": [
    "### fw-Version\n",
    "\n",
    "Geht ebenfalls von der mw-spec aus"
   ]
  },
  {
   "cell_type": "code",
   "execution_count": 8,
   "id": "1770697c-25bd-46d3-96df-1845f31fff40",
   "metadata": {
    "tags": []
   },
   "outputs": [],
   "source": [
    "spec_fw = copy.deepcopy(spec_mw)\n",
    "spec_fw[\"width\"] = 870\n",
    "spec_fw[\"height\"] = 580\n",
    "\n",
    "# Vergrössern und neu zentrieren\n",
    "spec_fw[\"projections\"][0][\"scale\"] = 1150\n",
    "spec_fw[\"projections\"][0][\"translate\"] = [450, 280]\n",
    "\n",
    "\n",
    "# Kreise grösser machen\n",
    "spec_fw[\"scales\"][1][\"range\"] = [10, 800]\n",
    "\n",
    "\n",
    "# Speichern\n",
    "with open('temp/specs/bubble-fw.vg.json', 'w') as f:\n",
    "    json.dump(spec_fw, f, indent=4)"
   ]
  },
  {
   "cell_type": "markdown",
   "id": "2e038b19-64eb-4403-886b-806571604342",
   "metadata": {},
   "source": [
    "### SVGs aus den Specs generieren\n",
    "\n",
    "Benötigt die Vega-CLI: https://github.com/vega/vega/tree/main/packages/vega-cli\n",
    "Aber man kann alternativ auch jede Spec in Jupyter Lab öffnen und das SVG runterladen."
   ]
  },
  {
   "cell_type": "code",
   "execution_count": 9,
   "id": "a1db85ec-c979-4476-810d-eece9f3ff45a",
   "metadata": {
    "tags": []
   },
   "outputs": [
    {
     "name": "stdout",
     "output_type": "stream",
     "text": [
      "\u001b[31m(node:47082) [DEP0040] DeprecationWarning: The `punycode` module is deprecated. Please use a userland alternative instead.\n",
      "(Use `node --trace-deprecation ...` to show where the warning was created)\u001b[39m\n",
      "\u001b[31m(node:47083) [DEP0040] DeprecationWarning: The `punycode` module is deprecated. Please use a userland alternative instead.\n",
      "(Use `node --trace-deprecation ...` to show where the warning was created)\u001b[39m\n",
      "\u001b[31m(node:47084) [DEP0040] DeprecationWarning: The `punycode` module is deprecated. Please use a userland alternative instead.\n",
      "(Use `node --trace-deprecation ...` to show where the warning was created)\u001b[39m\n"
     ]
    }
   ],
   "source": [
    "!vg2svg temp/specs/bubble-mw.vg.json svgs/bubble-mw.svg\n",
    "!vg2svg temp/specs/bubble-cw.vg.json svgs/bubble-cw.svg\n",
    "!vg2svg temp/specs/bubble-fw.vg.json svgs/bubble-fw.svg"
   ]
  },
  {
   "cell_type": "code",
   "execution_count": null,
   "id": "1c2ab157-b2db-477e-88fa-2b951728da9a",
   "metadata": {},
   "outputs": [],
   "source": []
  }
 ],
 "metadata": {
  "kernelspec": {
   "display_name": "Python 3 (ipykernel)",
   "language": "python",
   "name": "python3"
  },
  "language_info": {
   "codemirror_mode": {
    "name": "ipython",
    "version": 3
   },
   "file_extension": ".py",
   "mimetype": "text/x-python",
   "name": "python",
   "nbconvert_exporter": "python",
   "pygments_lexer": "ipython3",
   "version": "3.10.2"
  }
 },
 "nbformat": 4,
 "nbformat_minor": 5
}
