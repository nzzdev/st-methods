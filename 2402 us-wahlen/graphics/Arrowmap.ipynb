{
 "cells": [
  {
   "cell_type": "code",
   "execution_count": 1,
   "id": "b05f2c0d-7ed6-418d-aef5-27f574e59c92",
   "metadata": {
    "tags": []
   },
   "outputs": [],
   "source": [
    "import json\n",
    "import copy\n",
    "import os"
   ]
  },
  {
   "cell_type": "markdown",
   "id": "19314200-f45a-44df-99ca-c8841b1c5ff6",
   "metadata": {},
   "source": [
    "TopoJSON mit allen Daten laden:"
   ]
  },
  {
   "cell_type": "code",
   "execution_count": 2,
   "id": "a8f80d2d-36cd-47a3-8bc4-ba436e432175",
   "metadata": {
    "tags": []
   },
   "outputs": [],
   "source": [
    "with open('temp/windofchange.topo.json', 'r') as f:\n",
    "    windofchange = json.load(f)"
   ]
  },
  {
   "cell_type": "markdown",
   "id": "777311fe-499a-4c69-9e73-d61c11ee7839",
   "metadata": {},
   "source": [
    "Spec-Gerüst laden:"
   ]
  },
  {
   "cell_type": "code",
   "execution_count": 3,
   "id": "4012d147-c309-4ce1-a9a3-016553fb3fc5",
   "metadata": {
    "tags": []
   },
   "outputs": [],
   "source": [
    "with open('specs/arrow-mw.vg.json', 'r') as f:\n",
    "    spec_mw = json.load(f)"
   ]
  },
  {
   "cell_type": "code",
   "execution_count": 4,
   "id": "2d8eaa46-c2bf-40ca-8af3-19dd2849dc16",
   "metadata": {
    "tags": []
   },
   "outputs": [],
   "source": [
    "folder_path = 'temp/specs/'\n",
    "\n",
    "if not os.path.exists(folder_path):\n",
    "    os.makedirs(folder_path)"
   ]
  },
  {
   "cell_type": "markdown",
   "id": "56dfe41c-8a64-4ee4-8953-f039836bc4f5",
   "metadata": {
    "tags": []
   },
   "source": [
    "### mw-Version\n",
    "\n",
    "Daten anhängen und speichern:  \n",
    "Achtung das Ganze muss `windofchange` heissen. So ist es im Vega-Spec hinterlegt."
   ]
  },
  {
   "cell_type": "code",
   "execution_count": 5,
   "id": "0c79685b-72dd-4145-9a22-062ea0d0bb90",
   "metadata": {
    "tags": []
   },
   "outputs": [],
   "source": [
    "spec_mw['data'][1]['values'] = windofchange"
   ]
  },
  {
   "cell_type": "code",
   "execution_count": 6,
   "id": "98c9c412-85c1-46c0-8cdf-72ad0609c8ea",
   "metadata": {
    "tags": []
   },
   "outputs": [],
   "source": [
    "with open('temp/specs/arrow-mw.vg.json', 'w') as f:\n",
    "    json.dump(spec_mw, f, indent=4)"
   ]
  },
  {
   "cell_type": "markdown",
   "id": "2b0d4711-1bee-4e72-89cd-1630bfd8ad10",
   "metadata": {},
   "source": [
    "Das File `temp/specs/arrow-mw.vg.json` kann man in Jupyter Lab öffnen und kriegt eine Vorschau. Vega ist integriert."
   ]
  },
  {
   "cell_type": "markdown",
   "id": "8a7d9ed4-12ac-4060-9b98-4e143750df6a",
   "metadata": {
    "tags": []
   },
   "source": [
    "### cw-Version\n",
    "\n",
    "Basiert auf der mw-spec und adaptiert sie"
   ]
  },
  {
   "cell_type": "code",
   "execution_count": 7,
   "id": "cbdff063-79a8-487f-bcdb-da2682200a22",
   "metadata": {
    "tags": []
   },
   "outputs": [],
   "source": [
    "spec_cw = copy.deepcopy(spec_mw)\n",
    "spec_cw[\"width\"] = 630\n",
    "spec_cw[\"height\"] = 500\n",
    "\n",
    "# Vergrössern und neu zentrieren\n",
    "spec_cw[\"projections\"][0][\"scale\"] = 820\n",
    "spec_cw[\"projections\"][0][\"translate\"] = [320, 230]\n",
    "\n",
    "# Pfeile länger machen\n",
    "spec_cw[\"signals\"][0][\"value\"] = 1.2\n",
    "\n",
    "# Speichern\n",
    "with open('temp/specs/arrow-cw.vg.json', 'w') as f:\n",
    "    json.dump(spec_cw, f, indent=4)"
   ]
  },
  {
   "cell_type": "markdown",
   "id": "d4d192a0-fafb-4d50-aa22-445016e72b0e",
   "metadata": {},
   "source": [
    "### fw-Version\n",
    "\n",
    "Geht ebenfalls von der mw-spec aus"
   ]
  },
  {
   "cell_type": "code",
   "execution_count": 8,
   "id": "f6002e6e-fe59-4509-b687-02681112b4b2",
   "metadata": {
    "tags": []
   },
   "outputs": [],
   "source": [
    "spec_fw = copy.deepcopy(spec_mw)\n",
    "spec_fw[\"width\"] = 870\n",
    "spec_fw[\"height\"] = 580\n",
    "\n",
    "# Vergrössern und neu zentrieren\n",
    "spec_fw[\"projections\"][0][\"scale\"] = 1100\n",
    "spec_fw[\"projections\"][0][\"translate\"] = [470, 280]\n",
    "\n",
    "\n",
    "# Pfeile länger machen\n",
    "spec_fw[\"signals\"][0][\"value\"] = 1.4\n",
    "\n",
    "\n",
    "# Speichern\n",
    "with open('temp/specs/arrow-fw.vg.json', 'w') as f:\n",
    "    json.dump(spec_fw, f, indent=4)"
   ]
  },
  {
   "cell_type": "markdown",
   "id": "1b67b26c-c1d4-481e-95f0-d5d45ec358a7",
   "metadata": {},
   "source": [
    "### SVGs aus den Specs generieren\n",
    "\n",
    "Benötigt die Vega-CLI: https://github.com/vega/vega/tree/main/packages/vega-cli\n",
    "Aber man kann alternativ auch jede Spec in Jupyter Lab öffnen und das SVG runterladen."
   ]
  },
  {
   "cell_type": "code",
   "execution_count": 9,
   "id": "30ed8a57-6f7b-4e59-a267-0f182cd4f42e",
   "metadata": {
    "tags": []
   },
   "outputs": [
    {
     "name": "stdout",
     "output_type": "stream",
     "text": [
      "\u001b[31m(node:59552) [DEP0040] DeprecationWarning: The `punycode` module is deprecated. Please use a userland alternative instead.\n",
      "(Use `node --trace-deprecation ...` to show where the warning was created)\u001b[39m\n",
      "\u001b[31m(node:59554) [DEP0040] DeprecationWarning: The `punycode` module is deprecated. Please use a userland alternative instead.\n",
      "(Use `node --trace-deprecation ...` to show where the warning was created)\u001b[39m\n",
      "\u001b[31m(node:59557) [DEP0040] DeprecationWarning: The `punycode` module is deprecated. Please use a userland alternative instead.\n",
      "(Use `node --trace-deprecation ...` to show where the warning was created)\u001b[39m\n"
     ]
    }
   ],
   "source": [
    "!vg2svg temp/specs/arrow-mw.vg.json svgs/arrow-mw.svg\n",
    "!vg2svg temp/specs/arrow-cw.vg.json svgs/arrow-cw.svg\n",
    "!vg2svg temp/specs/arrow-fw.vg.json svgs/arrow-fw.svg"
   ]
  },
  {
   "cell_type": "code",
   "execution_count": null,
   "id": "2935f1b1-fcdf-4d60-9620-e08fd7ecb86a",
   "metadata": {},
   "outputs": [],
   "source": []
  }
 ],
 "metadata": {
  "kernelspec": {
   "display_name": "Python 3 (ipykernel)",
   "language": "python",
   "name": "python3"
  },
  "language_info": {
   "codemirror_mode": {
    "name": "ipython",
    "version": 3
   },
   "file_extension": ".py",
   "mimetype": "text/x-python",
   "name": "python",
   "nbconvert_exporter": "python",
   "pygments_lexer": "ipython3",
   "version": "3.10.2"
  }
 },
 "nbformat": 4,
 "nbformat_minor": 5
}
