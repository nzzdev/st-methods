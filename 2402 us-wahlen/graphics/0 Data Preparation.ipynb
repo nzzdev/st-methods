{
 "cells": [
  {
   "cell_type": "code",
   "execution_count": 1,
   "id": "44b72ec7-2606-4ab9-a01b-cf96094622ea",
   "metadata": {
    "tags": []
   },
   "outputs": [],
   "source": [
    "import pandas as pd\n",
    "import geopandas as gp\n",
    "import numpy as np"
   ]
  },
  {
   "cell_type": "markdown",
   "id": "fbfb8d67-19f7-42a0-84e6-c6f3f8da7b3e",
   "metadata": {},
   "source": [
    "### Datenimport"
   ]
  },
  {
   "cell_type": "markdown",
   "id": "9fdda7f6-4bfb-4472-bb80-0e0f08a53e5f",
   "metadata": {
    "tags": []
   },
   "source": [
    "Daten von Nikolai:"
   ]
  },
  {
   "cell_type": "code",
   "execution_count": 2,
   "id": "f1f981ac-df9c-4738-b1bc-26eb7925f806",
   "metadata": {
    "tags": []
   },
   "outputs": [
    {
     "data": {
      "text/html": [
       "<div>\n",
       "<style scoped>\n",
       "    .dataframe tbody tr th:only-of-type {\n",
       "        vertical-align: middle;\n",
       "    }\n",
       "\n",
       "    .dataframe tbody tr th {\n",
       "        vertical-align: top;\n",
       "    }\n",
       "\n",
       "    .dataframe thead th {\n",
       "        text-align: right;\n",
       "    }\n",
       "</style>\n",
       "<table border=\"1\" class=\"dataframe\">\n",
       "  <thead>\n",
       "    <tr style=\"text-align: right;\">\n",
       "      <th></th>\n",
       "      <th>fips</th>\n",
       "      <th>winner</th>\n",
       "      <th>shifted</th>\n",
       "      <th>population</th>\n",
       "      <th>eevp</th>\n",
       "      <th>flipped</th>\n",
       "    </tr>\n",
       "  </thead>\n",
       "  <tbody>\n",
       "    <tr>\n",
       "      <th>0</th>\n",
       "      <td>1001</td>\n",
       "      <td>Trump</td>\n",
       "      <td>1.023669</td>\n",
       "      <td>60342</td>\n",
       "      <td>99.0</td>\n",
       "      <td>NaN</td>\n",
       "    </tr>\n",
       "    <tr>\n",
       "      <th>1</th>\n",
       "      <td>1003</td>\n",
       "      <td>Trump</td>\n",
       "      <td>2.249105</td>\n",
       "      <td>253507</td>\n",
       "      <td>99.0</td>\n",
       "      <td>NaN</td>\n",
       "    </tr>\n",
       "  </tbody>\n",
       "</table>\n",
       "</div>"
      ],
      "text/plain": [
       "   fips winner   shifted  population  eevp flipped\n",
       "0  1001  Trump  1.023669       60342  99.0     NaN\n",
       "1  1003  Trump  2.249105      253507  99.0     NaN"
      ]
     },
     "execution_count": 2,
     "metadata": {},
     "output_type": "execute_result"
    }
   ],
   "source": [
    "data = pd.read_csv(\"data/us-counties-2024.csv\", sep=\",\")\n",
    "data = data.rename({\"fips\": \"fips\",\n",
    "                    \"winner\": \"winner\", \n",
    "                    \"population\": \"population\",\n",
    "                    \"shifted\": \"shifted\",\n",
    "}, axis=1)[[\"fips\", \"winner\", \"shifted\", \"population\", \"eevp\", \"flipped\"]]\n",
    "data.head(2)"
   ]
  },
  {
   "cell_type": "markdown",
   "id": "25a302c3-42ec-4c95-92ae-2b0d34cb617b",
   "metadata": {
    "tags": []
   },
   "source": [
    "Geodaten von https://www.census.gov/geographies/mapping-files/time-series/geo/cartographic-boundary.html"
   ]
  },
  {
   "cell_type": "code",
   "execution_count": 3,
   "id": "e6948c58-7bd9-49fb-ac51-7ca8e261ffb4",
   "metadata": {
    "tags": []
   },
   "outputs": [
    {
     "data": {
      "text/html": [
       "<div>\n",
       "<style scoped>\n",
       "    .dataframe tbody tr th:only-of-type {\n",
       "        vertical-align: middle;\n",
       "    }\n",
       "\n",
       "    .dataframe tbody tr th {\n",
       "        vertical-align: top;\n",
       "    }\n",
       "\n",
       "    .dataframe thead th {\n",
       "        text-align: right;\n",
       "    }\n",
       "</style>\n",
       "<table border=\"1\" class=\"dataframe\">\n",
       "  <thead>\n",
       "    <tr style=\"text-align: right;\">\n",
       "      <th></th>\n",
       "      <th>fips</th>\n",
       "      <th>county</th>\n",
       "      <th>state</th>\n",
       "      <th>geometry</th>\n",
       "    </tr>\n",
       "  </thead>\n",
       "  <tbody>\n",
       "    <tr>\n",
       "      <th>0</th>\n",
       "      <td>13027</td>\n",
       "      <td>Brooks</td>\n",
       "      <td>GA</td>\n",
       "      <td>MULTIPOLYGON (((-83.73616 31.03768, -83.57396 ...</td>\n",
       "    </tr>\n",
       "    <tr>\n",
       "      <th>1</th>\n",
       "      <td>31095</td>\n",
       "      <td>Jefferson</td>\n",
       "      <td>NE</td>\n",
       "      <td>MULTIPOLYGON (((-97.36869 40.35039, -96.91606 ...</td>\n",
       "    </tr>\n",
       "  </tbody>\n",
       "</table>\n",
       "</div>"
      ],
      "text/plain": [
       "    fips     county state                                           geometry\n",
       "0  13027     Brooks    GA  MULTIPOLYGON (((-83.73616 31.03768, -83.57396 ...\n",
       "1  31095  Jefferson    NE  MULTIPOLYGON (((-97.36869 40.35039, -96.91606 ..."
      ]
     },
     "execution_count": 3,
     "metadata": {},
     "output_type": "execute_result"
    }
   ],
   "source": [
    "geometry = gp.read_file(\"data/geom.geojson\")\n",
    "geometry[\"fips\"] = pd.to_numeric(geometry.GEOID)\n",
    "geometry = geometry[[\"fips\", \"NAME\", \"STUSPS\" ,\"geometry\"]].rename({\n",
    "    \"fips\": \"fips\",\n",
    "    \"NAME\": \"county\",\n",
    "    \"STUSPS\": \"state\"\n",
    "}, axis=1)\n",
    "geometry.head(2)"
   ]
  },
  {
   "cell_type": "markdown",
   "id": "569e06f7-0d15-449e-94de-c302285a2803",
   "metadata": {},
   "source": [
    "### Fehlende Counties\n",
    "Differenz zwischen den beiden Datensätzen:"
   ]
  },
  {
   "cell_type": "code",
   "execution_count": 4,
   "id": "dd41a9b2-4912-4f3a-bc71-1528bad8f997",
   "metadata": {
    "tags": []
   },
   "outputs": [
    {
     "data": {
      "text/html": [
       "<div>\n",
       "<style scoped>\n",
       "    .dataframe tbody tr th:only-of-type {\n",
       "        vertical-align: middle;\n",
       "    }\n",
       "\n",
       "    .dataframe tbody tr th {\n",
       "        vertical-align: top;\n",
       "    }\n",
       "\n",
       "    .dataframe thead th {\n",
       "        text-align: right;\n",
       "    }\n",
       "</style>\n",
       "<table border=\"1\" class=\"dataframe\">\n",
       "  <thead>\n",
       "    <tr style=\"text-align: right;\">\n",
       "      <th></th>\n",
       "      <th>fips</th>\n",
       "      <th>county</th>\n",
       "      <th>state</th>\n",
       "      <th>geometry</th>\n",
       "      <th>winner</th>\n",
       "      <th>shifted</th>\n",
       "      <th>population</th>\n",
       "      <th>eevp</th>\n",
       "      <th>flipped</th>\n",
       "      <th>_merge</th>\n",
       "    </tr>\n",
       "  </thead>\n",
       "  <tbody>\n",
       "    <tr>\n",
       "      <th>0</th>\n",
       "      <td>13027</td>\n",
       "      <td>Brooks</td>\n",
       "      <td>GA</td>\n",
       "      <td>MULTIPOLYGON (((-83.73616 31.03768, -83.57396 ...</td>\n",
       "      <td>Trump</td>\n",
       "      <td>3.233335</td>\n",
       "      <td>16245.0</td>\n",
       "      <td>99.0</td>\n",
       "      <td>NaN</td>\n",
       "      <td>both</td>\n",
       "    </tr>\n",
       "    <tr>\n",
       "      <th>1</th>\n",
       "      <td>31095</td>\n",
       "      <td>Jefferson</td>\n",
       "      <td>NE</td>\n",
       "      <td>MULTIPOLYGON (((-97.36869 40.35039, -96.91606 ...</td>\n",
       "      <td>Trump</td>\n",
       "      <td>1.497509</td>\n",
       "      <td>7054.0</td>\n",
       "      <td>99.0</td>\n",
       "      <td>NaN</td>\n",
       "      <td>both</td>\n",
       "    </tr>\n",
       "  </tbody>\n",
       "</table>\n",
       "</div>"
      ],
      "text/plain": [
       "    fips     county state                                           geometry   \n",
       "0  13027     Brooks    GA  MULTIPOLYGON (((-83.73616 31.03768, -83.57396 ...  \\\n",
       "1  31095  Jefferson    NE  MULTIPOLYGON (((-97.36869 40.35039, -96.91606 ...   \n",
       "\n",
       "  winner   shifted  population  eevp flipped _merge  \n",
       "0  Trump  3.233335     16245.0  99.0     NaN   both  \n",
       "1  Trump  1.497509      7054.0  99.0     NaN   both  "
      ]
     },
     "execution_count": 4,
     "metadata": {},
     "output_type": "execute_result"
    }
   ],
   "source": [
    "d1 = (geometry\n",
    " .merge(data, left_on=\"fips\", right_on=\"fips\", how=\"outer\" ,indicator=True))\n",
    "d1.head(2)"
   ]
  },
  {
   "cell_type": "code",
   "execution_count": 5,
   "id": "31a4f5eb-3783-424e-8ee9-54225faae4cb",
   "metadata": {
    "tags": []
   },
   "outputs": [],
   "source": [
    "d1.loc[d1._merge == 'left_only', 'datensatz'] = 'Geodaten'\n",
    "d1.loc[d1._merge == 'right_only', 'datensatz'] = 'Nikolai'\n",
    "d1.query(\"datensatz.isna() == False\")[['fips', 'county', 'state', 'datensatz']].to_csv('temp/diff.csv', index=False)"
   ]
  },
  {
   "cell_type": "markdown",
   "id": "22d388dc-3f3a-4d5c-a949-38f70303e7c9",
   "metadata": {},
   "source": [
    "### Puerto Rico kann weg\n",
    "\n",
    "\"Die haben eh keine Rechte\" – darum zeigen wir Puerto Rico nicht. Die FIPS-Codes für Puerto Rico liegen zwiuschen 72000 und 72153. Siehe: https://www.nrcs.usda.gov/wps/portal/nrcs/detail/national/home/?cid=nrcs143_013697"
   ]
  },
  {
   "cell_type": "code",
   "execution_count": 6,
   "id": "388053cb-d616-4e39-bf15-55f452be954e",
   "metadata": {
    "tags": []
   },
   "outputs": [],
   "source": [
    "d2 = d1[(d1.fips < 72000)|(d1.fips > 72153)].copy()"
   ]
  },
  {
   "cell_type": "markdown",
   "id": "af5686cb-e65d-4e42-8b98-b45c936b78d6",
   "metadata": {},
   "source": [
    "## EEVP"
   ]
  },
  {
   "cell_type": "code",
   "execution_count": 7,
   "id": "0d7c8a42-2f6d-4cf0-9ed1-5a87bd3ea87f",
   "metadata": {
    "tags": []
   },
   "outputs": [
    {
     "data": {
      "text/html": [
       "<div>\n",
       "<style scoped>\n",
       "    .dataframe tbody tr th:only-of-type {\n",
       "        vertical-align: middle;\n",
       "    }\n",
       "\n",
       "    .dataframe tbody tr th {\n",
       "        vertical-align: top;\n",
       "    }\n",
       "\n",
       "    .dataframe thead th {\n",
       "        text-align: right;\n",
       "    }\n",
       "</style>\n",
       "<table border=\"1\" class=\"dataframe\">\n",
       "  <thead>\n",
       "    <tr style=\"text-align: right;\">\n",
       "      <th></th>\n",
       "      <th>fips</th>\n",
       "      <th>county</th>\n",
       "      <th>state</th>\n",
       "      <th>geometry</th>\n",
       "      <th>winner</th>\n",
       "      <th>shifted</th>\n",
       "      <th>population</th>\n",
       "      <th>eevp</th>\n",
       "      <th>flipped</th>\n",
       "      <th>_merge</th>\n",
       "      <th>datensatz</th>\n",
       "      <th>status</th>\n",
       "    </tr>\n",
       "  </thead>\n",
       "  <tbody>\n",
       "    <tr>\n",
       "      <th>0</th>\n",
       "      <td>13027</td>\n",
       "      <td>Brooks</td>\n",
       "      <td>GA</td>\n",
       "      <td>MULTIPOLYGON (((-83.73616 31.03768, -83.57396 ...</td>\n",
       "      <td>Trump</td>\n",
       "      <td>3.233335</td>\n",
       "      <td>16245.0</td>\n",
       "      <td>99.0</td>\n",
       "      <td>NaN</td>\n",
       "      <td>both</td>\n",
       "      <td>NaN</td>\n",
       "      <td>certain</td>\n",
       "    </tr>\n",
       "    <tr>\n",
       "      <th>1</th>\n",
       "      <td>31095</td>\n",
       "      <td>Jefferson</td>\n",
       "      <td>NE</td>\n",
       "      <td>MULTIPOLYGON (((-97.36869 40.35039, -96.91606 ...</td>\n",
       "      <td>Trump</td>\n",
       "      <td>1.497509</td>\n",
       "      <td>7054.0</td>\n",
       "      <td>99.0</td>\n",
       "      <td>NaN</td>\n",
       "      <td>both</td>\n",
       "      <td>NaN</td>\n",
       "      <td>certain</td>\n",
       "    </tr>\n",
       "  </tbody>\n",
       "</table>\n",
       "</div>"
      ],
      "text/plain": [
       "    fips     county state                                           geometry   \n",
       "0  13027     Brooks    GA  MULTIPOLYGON (((-83.73616 31.03768, -83.57396 ...  \\\n",
       "1  31095  Jefferson    NE  MULTIPOLYGON (((-97.36869 40.35039, -96.91606 ...   \n",
       "\n",
       "  winner   shifted  population  eevp flipped _merge datensatz   status  \n",
       "0  Trump  3.233335     16245.0  99.0     NaN   both       NaN  certain  \n",
       "1  Trump  1.497509      7054.0  99.0     NaN   both       NaN  certain  "
      ]
     },
     "execution_count": 7,
     "metadata": {},
     "output_type": "execute_result"
    }
   ],
   "source": [
    "d2.loc[d2.eevp < 50, 'status'] = 'uncertain'\n",
    "d2.loc[d2.eevp > 50, 'status'] = 'certain'\n",
    "d2.head(2)"
   ]
  },
  {
   "cell_type": "markdown",
   "id": "9b74d870-f8a6-4ed3-a86d-e9611e9f198c",
   "metadata": {},
   "source": [
    "### Alaska\n",
    "Alle ausser Denali ausblenden"
   ]
  },
  {
   "cell_type": "code",
   "execution_count": 8,
   "id": "cbea5b64-204d-43db-a421-c47f8011cab5",
   "metadata": {
    "tags": []
   },
   "outputs": [],
   "source": [
    "d2['visibility'] = \"visible\"\n",
    "d2.loc[(d2.state == \"AK\") & (d2.county != 'Denali'), 'visibility'] = \"hidden\""
   ]
  },
  {
   "cell_type": "markdown",
   "id": "3d41cd94-73ba-4c2a-9eb3-713b0e51b835",
   "metadata": {},
   "source": [
    "### Validity checks\n",
    "Anteile sollten nicht grösser als 100 Prozent sein"
   ]
  },
  {
   "cell_type": "code",
   "execution_count": 9,
   "id": "3ee18475-ce6a-449d-a707-f0f9bda794e4",
   "metadata": {
    "tags": []
   },
   "outputs": [],
   "source": [
    "assert d2.winner.isin(['Harris', 'Trump', np.nan]).all()\n",
    "assert d2.shifted.min() > -100\n",
    "assert d2.shifted.max() < 100"
   ]
  },
  {
   "cell_type": "markdown",
   "id": "5796ccab-4f60-4588-a4ca-0d7f74c27242",
   "metadata": {},
   "source": [
    "### TopoJSON erzeugen\n",
    "\n",
    "Wird im nächsten Schritt mit der Vega-Spec kombiniert um die Plots zu erzeugen.\n",
    "Das geht nicht direkt mit Geopandas.\n",
    "\n",
    "Braucht die geo2topo-binary. Die kriegt man indem man das Topojson-Package installiert: https://github.com/topojson/topojson"
   ]
  },
  {
   "cell_type": "code",
   "execution_count": 10,
   "id": "01a9af8e-bb0b-4a63-9eff-20b959ef62c5",
   "metadata": {
    "tags": []
   },
   "outputs": [],
   "source": [
    "d2[d2.geometry.isna() == False].to_file(\"temp/windofchange.geojson\", driver='GeoJSON')"
   ]
  },
  {
   "cell_type": "code",
   "execution_count": 11,
   "id": "1f1f7d9b-864c-4d9a-955c-5d258cf8f48b",
   "metadata": {
    "tags": []
   },
   "outputs": [],
   "source": [
    "!geo2topo temp/windofchange.geojson>temp/windofchange.topo.json"
   ]
  },
  {
   "cell_type": "markdown",
   "id": "f3145dc4-2c1b-4d30-bb12-eee4a6359f50",
   "metadata": {},
   "source": [
    "### Dataframe für State-Detailansicht speichern"
   ]
  },
  {
   "cell_type": "code",
   "execution_count": 12,
   "id": "27573e18-3acd-4430-b886-7b8bdf0b9b9c",
   "metadata": {
    "tags": []
   },
   "outputs": [],
   "source": [
    "d2.to_pickle('temp/windofchange.pkl')"
   ]
  },
  {
   "cell_type": "code",
   "execution_count": 13,
   "id": "e393540a-e662-4407-a01b-26e385255d9e",
   "metadata": {},
   "outputs": [
    {
     "data": {
      "text/plain": [
       "14.150467817214532"
      ]
     },
     "execution_count": 13,
     "metadata": {},
     "output_type": "execute_result"
    }
   ],
   "source": [
    "d2.shifted.max()"
   ]
  },
  {
   "cell_type": "code",
   "execution_count": 14,
   "id": "279d800e-6087-4f0c-9dcc-689af7ec5ebc",
   "metadata": {
    "tags": []
   },
   "outputs": [
    {
     "data": {
      "text/plain": [
       "-6.379839821255146"
      ]
     },
     "execution_count": 14,
     "metadata": {},
     "output_type": "execute_result"
    }
   ],
   "source": [
    "d2.shifted.min()"
   ]
  },
  {
   "cell_type": "code",
   "execution_count": null,
   "id": "e880720f-1ef7-43af-8835-b2b752ff46de",
   "metadata": {},
   "outputs": [],
   "source": []
  }
 ],
 "metadata": {
  "kernelspec": {
   "display_name": "Python 3 (ipykernel)",
   "language": "python",
   "name": "python3"
  },
  "language_info": {
   "codemirror_mode": {
    "name": "ipython",
    "version": 3
   },
   "file_extension": ".py",
   "mimetype": "text/x-python",
   "name": "python",
   "nbconvert_exporter": "python",
   "pygments_lexer": "ipython3",
   "version": "3.10.2"
  }
 },
 "nbformat": 4,
 "nbformat_minor": 5
}
