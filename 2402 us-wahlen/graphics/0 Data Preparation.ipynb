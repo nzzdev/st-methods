{
 "cells": [
  {
   "cell_type": "code",
   "execution_count": 16,
   "id": "44b72ec7-2606-4ab9-a01b-cf96094622ea",
   "metadata": {
    "tags": []
   },
   "outputs": [],
   "source": [
    "import pandas as pd\n",
    "import geopandas as gp"
   ]
  },
  {
   "cell_type": "markdown",
   "id": "fbfb8d67-19f7-42a0-84e6-c6f3f8da7b3e",
   "metadata": {},
   "source": [
    "### Datenimport"
   ]
  },
  {
   "cell_type": "markdown",
   "id": "9fdda7f6-4bfb-4472-bb80-0e0f08a53e5f",
   "metadata": {
    "tags": []
   },
   "source": [
    "Daten von Nikolai:"
   ]
  },
  {
   "cell_type": "code",
   "execution_count": 17,
   "id": "f1f981ac-df9c-4738-b1bc-26eb7925f806",
   "metadata": {
    "tags": []
   },
   "outputs": [
    {
     "data": {
      "text/html": [
       "<div>\n",
       "<style scoped>\n",
       "    .dataframe tbody tr th:only-of-type {\n",
       "        vertical-align: middle;\n",
       "    }\n",
       "\n",
       "    .dataframe tbody tr th {\n",
       "        vertical-align: top;\n",
       "    }\n",
       "\n",
       "    .dataframe thead th {\n",
       "        text-align: right;\n",
       "    }\n",
       "</style>\n",
       "<table border=\"1\" class=\"dataframe\">\n",
       "  <thead>\n",
       "    <tr style=\"text-align: right;\">\n",
       "      <th></th>\n",
       "      <th>fips</th>\n",
       "      <th>winner</th>\n",
       "      <th>shifted</th>\n",
       "      <th>population</th>\n",
       "    </tr>\n",
       "  </thead>\n",
       "  <tbody>\n",
       "    <tr>\n",
       "      <th>0</th>\n",
       "      <td>2000</td>\n",
       "      <td>Republicans</td>\n",
       "      <td>-9</td>\n",
       "      <td>733406.0</td>\n",
       "    </tr>\n",
       "    <tr>\n",
       "      <th>1</th>\n",
       "      <td>1001</td>\n",
       "      <td>Democrats</td>\n",
       "      <td>-6</td>\n",
       "      <td>60342.0</td>\n",
       "    </tr>\n",
       "  </tbody>\n",
       "</table>\n",
       "</div>"
      ],
      "text/plain": [
       "   fips       winner  shifted  population\n",
       "0  2000  Republicans       -9    733406.0\n",
       "1  1001    Democrats       -6     60342.0"
      ]
     },
     "execution_count": 17,
     "metadata": {},
     "output_type": "execute_result"
    }
   ],
   "source": [
    "data = pd.read_csv(\"data/fake_pop.csv\", sep=\",\")\n",
    "data = data.rename({\"fips\": \"fips\",\n",
    "                    \"winner\": \"winner\", \n",
    "                    \"population\": \"population\",\n",
    "                    \"shifted\": \"shifted\",\n",
    "}, axis=1)[[\"fips\", \"winner\", \"shifted\", \"population\"]]\n",
    "data.head(2)"
   ]
  },
  {
   "cell_type": "markdown",
   "id": "25a302c3-42ec-4c95-92ae-2b0d34cb617b",
   "metadata": {
    "tags": []
   },
   "source": [
    "Geodaten von https://www.census.gov/geographies/mapping-files/time-series/geo/cartographic-boundary.html"
   ]
  },
  {
   "cell_type": "code",
   "execution_count": 18,
   "id": "e6948c58-7bd9-49fb-ac51-7ca8e261ffb4",
   "metadata": {
    "tags": []
   },
   "outputs": [
    {
     "data": {
      "text/html": [
       "<div>\n",
       "<style scoped>\n",
       "    .dataframe tbody tr th:only-of-type {\n",
       "        vertical-align: middle;\n",
       "    }\n",
       "\n",
       "    .dataframe tbody tr th {\n",
       "        vertical-align: top;\n",
       "    }\n",
       "\n",
       "    .dataframe thead th {\n",
       "        text-align: right;\n",
       "    }\n",
       "</style>\n",
       "<table border=\"1\" class=\"dataframe\">\n",
       "  <thead>\n",
       "    <tr style=\"text-align: right;\">\n",
       "      <th></th>\n",
       "      <th>fips</th>\n",
       "      <th>county</th>\n",
       "      <th>state</th>\n",
       "      <th>geometry</th>\n",
       "    </tr>\n",
       "  </thead>\n",
       "  <tbody>\n",
       "    <tr>\n",
       "      <th>0</th>\n",
       "      <td>13027</td>\n",
       "      <td>Brooks</td>\n",
       "      <td>GA</td>\n",
       "      <td>MULTIPOLYGON (((-83.73616 31.03768, -83.57396 ...</td>\n",
       "    </tr>\n",
       "    <tr>\n",
       "      <th>1</th>\n",
       "      <td>31095</td>\n",
       "      <td>Jefferson</td>\n",
       "      <td>NE</td>\n",
       "      <td>MULTIPOLYGON (((-97.36869 40.35039, -96.91606 ...</td>\n",
       "    </tr>\n",
       "  </tbody>\n",
       "</table>\n",
       "</div>"
      ],
      "text/plain": [
       "    fips     county state                                           geometry\n",
       "0  13027     Brooks    GA  MULTIPOLYGON (((-83.73616 31.03768, -83.57396 ...\n",
       "1  31095  Jefferson    NE  MULTIPOLYGON (((-97.36869 40.35039, -96.91606 ..."
      ]
     },
     "execution_count": 18,
     "metadata": {},
     "output_type": "execute_result"
    }
   ],
   "source": [
    "geometry = gp.read_file(\"data/geom.geojson\")\n",
    "geometry[\"fips\"] = pd.to_numeric(geometry.GEOID)\n",
    "geometry = geometry[[\"fips\", \"NAME\", \"STUSPS\" ,\"geometry\"]].rename({\n",
    "    \"fips\": \"fips\",\n",
    "    \"NAME\": \"county\",\n",
    "    \"STUSPS\": \"state\"\n",
    "}, axis=1)\n",
    "geometry.head(2)"
   ]
  },
  {
   "cell_type": "markdown",
   "id": "569e06f7-0d15-449e-94de-c302285a2803",
   "metadata": {},
   "source": [
    "### Fehlende Counties\n",
    "Differenz zwischen den beiden Datensätzen:"
   ]
  },
  {
   "cell_type": "code",
   "execution_count": 19,
   "id": "dd41a9b2-4912-4f3a-bc71-1528bad8f997",
   "metadata": {
    "tags": []
   },
   "outputs": [
    {
     "data": {
      "text/html": [
       "<div>\n",
       "<style scoped>\n",
       "    .dataframe tbody tr th:only-of-type {\n",
       "        vertical-align: middle;\n",
       "    }\n",
       "\n",
       "    .dataframe tbody tr th {\n",
       "        vertical-align: top;\n",
       "    }\n",
       "\n",
       "    .dataframe thead th {\n",
       "        text-align: right;\n",
       "    }\n",
       "</style>\n",
       "<table border=\"1\" class=\"dataframe\">\n",
       "  <thead>\n",
       "    <tr style=\"text-align: right;\">\n",
       "      <th></th>\n",
       "      <th>fips</th>\n",
       "      <th>county</th>\n",
       "      <th>state</th>\n",
       "      <th>geometry</th>\n",
       "      <th>winner</th>\n",
       "      <th>shifted</th>\n",
       "      <th>population</th>\n",
       "      <th>_merge</th>\n",
       "    </tr>\n",
       "  </thead>\n",
       "  <tbody>\n",
       "    <tr>\n",
       "      <th>0</th>\n",
       "      <td>13027</td>\n",
       "      <td>Brooks</td>\n",
       "      <td>GA</td>\n",
       "      <td>MULTIPOLYGON (((-83.73616 31.03768, -83.57396 ...</td>\n",
       "      <td>Republicans</td>\n",
       "      <td>4.0</td>\n",
       "      <td>16245.0</td>\n",
       "      <td>both</td>\n",
       "    </tr>\n",
       "    <tr>\n",
       "      <th>1</th>\n",
       "      <td>31095</td>\n",
       "      <td>Jefferson</td>\n",
       "      <td>NE</td>\n",
       "      <td>MULTIPOLYGON (((-97.36869 40.35039, -96.91606 ...</td>\n",
       "      <td>NaN</td>\n",
       "      <td>2.0</td>\n",
       "      <td>7054.0</td>\n",
       "      <td>both</td>\n",
       "    </tr>\n",
       "  </tbody>\n",
       "</table>\n",
       "</div>"
      ],
      "text/plain": [
       "    fips     county state                                           geometry   \n",
       "0  13027     Brooks    GA  MULTIPOLYGON (((-83.73616 31.03768, -83.57396 ...  \\\n",
       "1  31095  Jefferson    NE  MULTIPOLYGON (((-97.36869 40.35039, -96.91606 ...   \n",
       "\n",
       "        winner  shifted  population _merge  \n",
       "0  Republicans      4.0     16245.0   both  \n",
       "1          NaN      2.0      7054.0   both  "
      ]
     },
     "execution_count": 19,
     "metadata": {},
     "output_type": "execute_result"
    }
   ],
   "source": [
    "d1 = (geometry\n",
    " .merge(data, left_on=\"fips\", right_on=\"fips\", how=\"outer\" ,indicator=True))\n",
    "d1.head(2)"
   ]
  },
  {
   "cell_type": "code",
   "execution_count": 20,
   "id": "31a4f5eb-3783-424e-8ee9-54225faae4cb",
   "metadata": {
    "tags": []
   },
   "outputs": [],
   "source": [
    "d1.loc[d1._merge == 'left_only', 'datensatz'] = 'Geodaten'\n",
    "d1.loc[d1._merge == 'right_only', 'datensatz'] = 'Nikolai'\n",
    "d1.query(\"datensatz.isna() == False\")[['fips', 'county', 'state', 'datensatz']].to_csv('temp/diff.csv', index=False)"
   ]
  },
  {
   "cell_type": "markdown",
   "id": "22d388dc-3f3a-4d5c-a949-38f70303e7c9",
   "metadata": {},
   "source": [
    "### Puerto Rico kann weg\n",
    "\n",
    "\"Die haben eh keine Rechte\" – darum zeigen wir Puerto Rico nicht. Die FIPS-Codes für Puerto Rico liegen zwiuschen 72000 und 72153. Siehe: https://www.nrcs.usda.gov/wps/portal/nrcs/detail/national/home/?cid=nrcs143_013697"
   ]
  },
  {
   "cell_type": "code",
   "execution_count": 21,
   "id": "388053cb-d616-4e39-bf15-55f452be954e",
   "metadata": {
    "tags": []
   },
   "outputs": [],
   "source": [
    "d2 = d1[(d1.fips < 72000)|(d1.fips > 72153)].copy()"
   ]
  },
  {
   "cell_type": "markdown",
   "id": "3d41cd94-73ba-4c2a-9eb3-713b0e51b835",
   "metadata": {},
   "source": [
    "### Validity checks\n",
    "Anteile sollten nicht grösser als 100 Prozent sein"
   ]
  },
  {
   "cell_type": "code",
   "execution_count": 22,
   "id": "3ee18475-ce6a-449d-a707-f0f9bda794e4",
   "metadata": {
    "tags": []
   },
   "outputs": [
    {
     "ename": "AssertionError",
     "evalue": "",
     "output_type": "error",
     "traceback": [
      "\u001b[0;31m---------------------------------------------------------------------------\u001b[0m",
      "\u001b[0;31mAssertionError\u001b[0m                            Traceback (most recent call last)",
      "Cell \u001b[0;32mIn [22], line 1\u001b[0m\n\u001b[0;32m----> 1\u001b[0m \u001b[38;5;28;01massert\u001b[39;00m d1\u001b[38;5;241m.\u001b[39mwinner\u001b[38;5;241m.\u001b[39misin([\u001b[38;5;124m'\u001b[39m\u001b[38;5;124mRepublicans\u001b[39m\u001b[38;5;124m'\u001b[39m, \u001b[38;5;124m'\u001b[39m\u001b[38;5;124mDemocrats\u001b[39m\u001b[38;5;124m'\u001b[39m])\u001b[38;5;241m.\u001b[39mall()\n\u001b[1;32m      2\u001b[0m \u001b[38;5;28;01massert\u001b[39;00m d1\u001b[38;5;241m.\u001b[39mshifted\u001b[38;5;241m.\u001b[39mmin() \u001b[38;5;241m>\u001b[39m \u001b[38;5;241m-\u001b[39m\u001b[38;5;241m100\u001b[39m\n\u001b[1;32m      3\u001b[0m \u001b[38;5;28;01massert\u001b[39;00m d1\u001b[38;5;241m.\u001b[39mshifted\u001b[38;5;241m.\u001b[39mmax() \u001b[38;5;241m<\u001b[39m \u001b[38;5;241m100\u001b[39m\n",
      "\u001b[0;31mAssertionError\u001b[0m: "
     ]
    }
   ],
   "source": [
    "assert d1.winner.isin(['Republicans', 'Democrats']).all()\n",
    "assert d1.shifted.min() > -100\n",
    "assert d1.shifted.max() < 100"
   ]
  },
  {
   "cell_type": "markdown",
   "id": "5796ccab-4f60-4588-a4ca-0d7f74c27242",
   "metadata": {},
   "source": [
    "### TopoJSON erzeugen\n",
    "\n",
    "Wird im nächsten Schritt mit der Vega-Spec kombiniert um die Plots zu erzeugen.\n",
    "Das geht nicht direkt mit Geopandas.\n",
    "\n",
    "Braucht die geo2topo-binary. Die kriegt man indem man das Topojson-Package installiert: https://github.com/topojson/topojson"
   ]
  },
  {
   "cell_type": "code",
   "execution_count": 23,
   "id": "01a9af8e-bb0b-4a63-9eff-20b959ef62c5",
   "metadata": {
    "tags": []
   },
   "outputs": [],
   "source": [
    "d2[d2.geometry.isna() == False].to_file(\"temp/windofchange.geojson\", driver='GeoJSON')"
   ]
  },
  {
   "cell_type": "code",
   "execution_count": 24,
   "id": "1f1f7d9b-864c-4d9a-955c-5d258cf8f48b",
   "metadata": {
    "tags": []
   },
   "outputs": [],
   "source": [
    "!geo2topo temp/windofchange.geojson>temp/windofchange.topo.json"
   ]
  },
  {
   "cell_type": "markdown",
   "id": "f3145dc4-2c1b-4d30-bb12-eee4a6359f50",
   "metadata": {},
   "source": [
    "### Dataframe für State-Detailansicht speichern"
   ]
  },
  {
   "cell_type": "code",
   "execution_count": 25,
   "id": "27573e18-3acd-4430-b886-7b8bdf0b9b9c",
   "metadata": {
    "tags": []
   },
   "outputs": [],
   "source": [
    "d2.to_pickle('temp/windofchange.pkl')"
   ]
  },
  {
   "cell_type": "code",
   "execution_count": null,
   "id": "e393540a-e662-4407-a01b-26e385255d9e",
   "metadata": {},
   "outputs": [],
   "source": []
  }
 ],
 "metadata": {
  "kernelspec": {
   "display_name": "Python 3 (ipykernel)",
   "language": "python",
   "name": "python3"
  },
  "language_info": {
   "codemirror_mode": {
    "name": "ipython",
    "version": 3
   },
   "file_extension": ".py",
   "mimetype": "text/x-python",
   "name": "python",
   "nbconvert_exporter": "python",
   "pygments_lexer": "ipython3",
   "version": "3.10.2"
  }
 },
 "nbformat": 4,
 "nbformat_minor": 5
}
